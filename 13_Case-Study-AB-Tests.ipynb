{
 "cells": [
  {
   "cell_type": "markdown",
   "id": "0009cf1b",
   "metadata": {},
   "source": [
    "# A/B Testing \n",
    "\n",
    "A/B tests test changes on a web page by running an experiment where a **control group** sees the old version while the **experiment group** sees the new version. A metric is then chosen to measure the level of engagement from users in each group. These results are then used to judge whether one version is more effective than the other. A/B testing is very much like hypothesis testing with the following hypotheses:\n",
    "\n",
    "- **Null Hypothesis:** The new version is no better, or even worse, than the old version\n",
    "- **Alternative Hypothesis:** The new version is better than the old version\n",
    "\n",
    "If we fail to reject the null hypothesis, the results would suggest keeping the old version. If we reject the null hypothesis, the results would suggest launching the change. These tests can be used for a wide variety of changes, from large feature additions to small adjustments in color, to see what change maximizes your metric the most.\n",
    "\n",
    "A/B testing also has its drawbacks. It can help you compare two options, but it can't tell you about an option you haven’t considered. It can also produce bias results when tested on existing users due to factors like change aversion and novelty effect.\n",
    "\n",
    "- **Change Aversion** Existing users may give an unfair advantage to the old version simply because they are unhappy with the change, even if it’s ultimately for the better.\n",
    "- **Novelty Effect:** Existing users may give an unfair advantage to the new version because they’re excited or drawn to the change, even if it isn’t any better in the long run. You'll learn more about factors like these later.\n",
    "\n",
    "## Case Study:\n",
    "In this case study, you’ll analyze the A/B test results for Audacity. Here's the customer funnel for typical new users on their site:\n",
    "\n",
    "View home page > Explore courses > View course overview page > Enroll in course > Complete course\n",
    "\n",
    "### Experiment I:\n",
    "The first change Audacity wants to try is on their homepage. They hope that this new, more engaging design will increase the number of users who explore their courses and move on to the second stage of the funnel.\n",
    "\n",
    "The metric we will use is the click-through rate for the Explore Courses button on the home page. Click-through rate (CTR) is often defined as the number of clicks divided by the number of views. Since Audacity uses cookies, we can identify unique users and make sure we don't count the same one multiple times. For this experiment, we'll define our click-through rate as:\n",
    "\n",
    "CTR: # clicks by unique users / # views by unique users\n",
    "\n",
    "Now that we have our metric, let's set up our null and alternative hypotheses:\n",
    "\n",
    "$$H_{0}: CTR_{new} \\leqslant CTR _{old} $$\n",
    "\n",
    "$$H_{1}: CTR_{new} > CTR _{old} $$\n",
    "\n",
    "Our alternative hypothesis is what we want to prove to be true. In this case, the new homepage design has a higher click-through rate than the old homepage design. And the null hypothesis is what we assume to be true before analyzing data, which is that the new homepage design has a click-through rate that is less than or equal to that of the old homepage design. As you’ve seen before, we can rearrange our hypotheses to look like this:\n",
    "\n",
    "$$H_{0}: CTR_{new} - CTR _{old} \\leqslant 0 $$\n",
    "\n",
    "$$H_{1}: CTR_{new} - CTR _{old} > 0 $$"
   ]
  },
  {
   "cell_type": "code",
   "execution_count": 1,
   "id": "4a933f08",
   "metadata": {},
   "outputs": [],
   "source": [
    "import numpy as np\n",
    "import pandas as pd\n",
    "import matplotlib.pyplot as plt\n",
    "%matplotlib inline"
   ]
  },
  {
   "cell_type": "code",
   "execution_count": 2,
   "id": "b2e4a2a4",
   "metadata": {},
   "outputs": [
    {
     "data": {
      "text/html": [
       "<div>\n",
       "<style scoped>\n",
       "    .dataframe tbody tr th:only-of-type {\n",
       "        vertical-align: middle;\n",
       "    }\n",
       "\n",
       "    .dataframe tbody tr th {\n",
       "        vertical-align: top;\n",
       "    }\n",
       "\n",
       "    .dataframe thead th {\n",
       "        text-align: right;\n",
       "    }\n",
       "</style>\n",
       "<table border=\"1\" class=\"dataframe\">\n",
       "  <thead>\n",
       "    <tr style=\"text-align: right;\">\n",
       "      <th></th>\n",
       "      <th>timestamp</th>\n",
       "      <th>id</th>\n",
       "      <th>group</th>\n",
       "      <th>action</th>\n",
       "    </tr>\n",
       "  </thead>\n",
       "  <tbody>\n",
       "    <tr>\n",
       "      <th>0</th>\n",
       "      <td>2016-09-24 17:42:27.839496</td>\n",
       "      <td>804196</td>\n",
       "      <td>experiment</td>\n",
       "      <td>view</td>\n",
       "    </tr>\n",
       "    <tr>\n",
       "      <th>1</th>\n",
       "      <td>2016-09-24 19:19:03.542569</td>\n",
       "      <td>434745</td>\n",
       "      <td>experiment</td>\n",
       "      <td>view</td>\n",
       "    </tr>\n",
       "    <tr>\n",
       "      <th>2</th>\n",
       "      <td>2016-09-24 19:36:00.944135</td>\n",
       "      <td>507599</td>\n",
       "      <td>experiment</td>\n",
       "      <td>view</td>\n",
       "    </tr>\n",
       "    <tr>\n",
       "      <th>3</th>\n",
       "      <td>2016-09-24 19:59:02.646620</td>\n",
       "      <td>671993</td>\n",
       "      <td>control</td>\n",
       "      <td>view</td>\n",
       "    </tr>\n",
       "    <tr>\n",
       "      <th>4</th>\n",
       "      <td>2016-09-24 20:26:14.466886</td>\n",
       "      <td>536734</td>\n",
       "      <td>experiment</td>\n",
       "      <td>view</td>\n",
       "    </tr>\n",
       "  </tbody>\n",
       "</table>\n",
       "</div>"
      ],
      "text/plain": [
       "                    timestamp      id       group action\n",
       "0  2016-09-24 17:42:27.839496  804196  experiment   view\n",
       "1  2016-09-24 19:19:03.542569  434745  experiment   view\n",
       "2  2016-09-24 19:36:00.944135  507599  experiment   view\n",
       "3  2016-09-24 19:59:02.646620  671993     control   view\n",
       "4  2016-09-24 20:26:14.466886  536734  experiment   view"
      ]
     },
     "execution_count": 2,
     "metadata": {},
     "output_type": "execute_result"
    }
   ],
   "source": [
    "df = pd.read_csv('support-files/13_Case-Study-AB-Tests/homepage_actions.csv')\n",
    "df.head()"
   ]
  },
  {
   "cell_type": "markdown",
   "id": "db965756",
   "metadata": {},
   "source": [
    "#### 1. Match the following characteristics of this dataset: \n",
    "- total number of actions\n",
    "- number of unique users\n",
    "- sizes of the control and experiment groups (i.e., the number of unique users in each group)"
   ]
  },
  {
   "cell_type": "code",
   "execution_count": 3,
   "id": "6026bc36",
   "metadata": {},
   "outputs": [
    {
     "name": "stdout",
     "output_type": "stream",
     "text": [
      "<class 'pandas.core.frame.DataFrame'>\n",
      "RangeIndex: 8188 entries, 0 to 8187\n",
      "Data columns (total 4 columns):\n",
      " #   Column     Non-Null Count  Dtype         \n",
      "---  ------     --------------  -----         \n",
      " 0   timestamp  8188 non-null   datetime64[ns]\n",
      " 1   id         8188 non-null   int64         \n",
      " 2   group      8188 non-null   object        \n",
      " 3   action     8188 non-null   object        \n",
      "dtypes: datetime64[ns](1), int64(1), object(2)\n",
      "memory usage: 256.0+ KB\n"
     ]
    }
   ],
   "source": [
    "# convert the timestamp column to datetime\n",
    "df['timestamp'] = pd.to_datetime(df['timestamp'])\n",
    "df.info()"
   ]
  },
  {
   "cell_type": "code",
   "execution_count": 4,
   "id": "ee2e1aef",
   "metadata": {},
   "outputs": [
    {
     "data": {
      "text/plain": [
       "8188"
      ]
     },
     "execution_count": 4,
     "metadata": {},
     "output_type": "execute_result"
    }
   ],
   "source": [
    "# total number of actions\n",
    "df['action'].count()"
   ]
  },
  {
   "cell_type": "code",
   "execution_count": 5,
   "id": "d77ff04e",
   "metadata": {},
   "outputs": [
    {
     "data": {
      "text/plain": [
       "6328"
      ]
     },
     "execution_count": 5,
     "metadata": {},
     "output_type": "execute_result"
    }
   ],
   "source": [
    "# number of unique users\n",
    "df['id'].nunique()"
   ]
  },
  {
   "cell_type": "code",
   "execution_count": 6,
   "id": "047c9483",
   "metadata": {},
   "outputs": [
    {
     "data": {
      "text/plain": [
       "(6328, 4)"
      ]
     },
     "execution_count": 6,
     "metadata": {},
     "output_type": "execute_result"
    }
   ],
   "source": [
    "# df containing only the unique users\n",
    "df_unique = df.drop_duplicates(subset=['id'])\n",
    "df_unique.shape"
   ]
  },
  {
   "cell_type": "code",
   "execution_count": 7,
   "id": "212953fa",
   "metadata": {},
   "outputs": [
    {
     "data": {
      "text/plain": [
       "3332"
      ]
     },
     "execution_count": 7,
     "metadata": {},
     "output_type": "execute_result"
    }
   ],
   "source": [
    "# size of control group\n",
    "df_unique.query('group == \"control\"').count()[0]"
   ]
  },
  {
   "cell_type": "code",
   "execution_count": 8,
   "id": "01556a59",
   "metadata": {},
   "outputs": [
    {
     "data": {
      "text/plain": [
       "3332"
      ]
     },
     "execution_count": 8,
     "metadata": {},
     "output_type": "execute_result"
    }
   ],
   "source": [
    "# another possibility for the size of control group\n",
    "df.query('group == \"control\"')['id'].nunique()"
   ]
  },
  {
   "cell_type": "code",
   "execution_count": 9,
   "id": "34df9e03",
   "metadata": {},
   "outputs": [
    {
     "data": {
      "text/plain": [
       "2996"
      ]
     },
     "execution_count": 9,
     "metadata": {},
     "output_type": "execute_result"
    }
   ],
   "source": [
    "# size of experiment group\n",
    "df_unique.query('group == \"experiment\"').count()[0]"
   ]
  },
  {
   "cell_type": "code",
   "execution_count": 10,
   "id": "37387dac",
   "metadata": {},
   "outputs": [
    {
     "data": {
      "text/plain": [
       "2996"
      ]
     },
     "execution_count": 10,
     "metadata": {},
     "output_type": "execute_result"
    }
   ],
   "source": [
    "# another possibility for the size of control group\n",
    "df.query('group == \"experiment\"')['id'].nunique()"
   ]
  },
  {
   "cell_type": "code",
   "execution_count": 11,
   "id": "38d13e50",
   "metadata": {},
   "outputs": [
    {
     "data": {
      "text/plain": [
       "True"
      ]
     },
     "execution_count": 11,
     "metadata": {},
     "output_type": "execute_result"
    }
   ],
   "source": [
    "# checking to see if everyone is accounted for\n",
    "df_unique.query('group == \"control\"').count()[0] + df_unique.query('group == \"experiment\"').count()[0] == df_unique.shape[0]"
   ]
  },
  {
   "cell_type": "markdown",
   "id": "b596af73",
   "metadata": {},
   "source": [
    "#### 2. How long was the experiment run for? \n",
    "> Hint: the records in this dataset are ordered by timestamp in increasing order"
   ]
  },
  {
   "cell_type": "code",
   "execution_count": 12,
   "id": "0610cb6e",
   "metadata": {},
   "outputs": [
    {
     "data": {
      "text/plain": [
       "pandas._libs.tslibs.timedeltas.Timedelta"
      ]
     },
     "execution_count": 12,
     "metadata": {},
     "output_type": "execute_result"
    }
   ],
   "source": [
    "duration = df['timestamp'].iloc[-1] - df['timestamp'].iloc[0]\n",
    "type(duration)"
   ]
  },
  {
   "cell_type": "markdown",
   "id": "048cf4f1",
   "metadata": {},
   "source": [
    "[Documentation](https://pandas.pydata.org/docs/reference/api/pandas.Timedelta.isoformat.html) on dealing with pandas Timedeltas"
   ]
  },
  {
   "cell_type": "code",
   "execution_count": 13,
   "id": "91b2d268",
   "metadata": {},
   "outputs": [
    {
     "data": {
      "text/plain": [
       "115"
      ]
     },
     "execution_count": 13,
     "metadata": {},
     "output_type": "execute_result"
    }
   ],
   "source": [
    "# duration of this experiment\n",
    "duration.days # about four months"
   ]
  },
  {
   "cell_type": "markdown",
   "id": "2b15a182",
   "metadata": {},
   "source": [
    "#### 3. What action types are recorded in this dataset?\n",
    "(i.e., What are the unique values in the action column?)"
   ]
  },
  {
   "cell_type": "code",
   "execution_count": 14,
   "id": "23d80917",
   "metadata": {},
   "outputs": [
    {
     "data": {
      "text/plain": [
       "array(['view', 'click'], dtype=object)"
      ]
     },
     "execution_count": 14,
     "metadata": {},
     "output_type": "execute_result"
    }
   ],
   "source": [
    "# action types in this experiment\n",
    "df['action'].unique()"
   ]
  },
  {
   "cell_type": "markdown",
   "id": "673f0739",
   "metadata": {},
   "source": [
    "#### 4. Why would we use click through rate instead of number of clicks to compare the performances of control and experiment pages?\n",
    "\n",
    "- The control and experiment pages could have different numbers of total visitors\n",
    "- More total clicks could occur in one version, even if there is a greater percentage of clicks in the other version"
   ]
  },
  {
   "cell_type": "markdown",
   "id": "35e3da4a",
   "metadata": {},
   "source": [
    "#### 5. Define the click through rate (CTR) for this experiment.\n",
    "\n",
    "CTR = # clicks by unique users / # unique users "
   ]
  },
  {
   "cell_type": "markdown",
   "id": "6620c045",
   "metadata": {},
   "source": [
    "#### 6. What are the null and alternative hypotheses?\n",
    "Use $CTR_{old}$ and $CTR_{new}$ in your hypotheses.\n",
    "\n",
    "$$H_0: CTR_{new} - CTR_{old} \\leqslant 0 $$\n",
    "\n",
    "$$H_1: CTR_{new} - CTR_{old} > 0 $$\n",
    "\n",
    "#### 7. Results"
   ]
  },
  {
   "cell_type": "code",
   "execution_count": 15,
   "id": "756d9178",
   "metadata": {},
   "outputs": [],
   "source": [
    "# retriving the control group from the original dataset\n",
    "control_df = df.query('group == \"control\"')"
   ]
  },
  {
   "cell_type": "code",
   "execution_count": 16,
   "id": "ec368c8f",
   "metadata": {},
   "outputs": [
    {
     "data": {
      "text/plain": [
       "array(['view', 'click'], dtype=object)"
      ]
     },
     "execution_count": 16,
     "metadata": {},
     "output_type": "execute_result"
    }
   ],
   "source": [
    "# checking to see the types of actions before calculating the click through rate (CTR)\n",
    "control_df['action'].unique()"
   ]
  },
  {
   "cell_type": "code",
   "execution_count": 17,
   "id": "e2c3d343",
   "metadata": {},
   "outputs": [
    {
     "data": {
      "text/plain": [
       "0.2797118847539016"
      ]
     },
     "execution_count": 17,
     "metadata": {},
     "output_type": "execute_result"
    }
   ],
   "source": [
    "# getting the click through rate for the control group\n",
    "control_ctr = control_df.query('action == \"click\"')['id'].nunique() / control_df.query('action == \"view\"')['id'].nunique()\n",
    "control_ctr # about 28%"
   ]
  },
  {
   "cell_type": "code",
   "execution_count": 18,
   "id": "f1d7079c",
   "metadata": {},
   "outputs": [],
   "source": [
    "# retriving the experiment group from the original dataset\n",
    "experiment_df = df.query('group == \"experiment\"')"
   ]
  },
  {
   "cell_type": "code",
   "execution_count": 19,
   "id": "5878fe56",
   "metadata": {},
   "outputs": [
    {
     "data": {
      "text/plain": [
       "0.3097463284379172"
      ]
     },
     "execution_count": 19,
     "metadata": {},
     "output_type": "execute_result"
    }
   ],
   "source": [
    "# getting the click through rate for the experiment group\n",
    "experiment_ctr = experiment_df.query('action == \"click\"')['id'].nunique() / experiment_df.query('action == \"view\"')['id'].nunique()\n",
    "experiment_ctr # about 31%"
   ]
  },
  {
   "cell_type": "code",
   "execution_count": 20,
   "id": "7d585400",
   "metadata": {},
   "outputs": [
    {
     "data": {
      "text/plain": [
       "0.030034443684015644"
      ]
     },
     "execution_count": 20,
     "metadata": {},
     "output_type": "execute_result"
    }
   ],
   "source": [
    "# difference between CTRs\n",
    "obs_diff = experiment_ctr - control_ctr\n",
    "obs_diff # about 3%"
   ]
  },
  {
   "cell_type": "code",
   "execution_count": 21,
   "id": "081cc528",
   "metadata": {},
   "outputs": [],
   "source": [
    "# now, we have to see if this difference is significant, and not just due to chance\n",
    "# bootstrap the sample to simulate the sampling distribution for the difference in proportions\n",
    "\n",
    "diffs = []\n",
    "\n",
    "for _ in range(int(1e4)):\n",
    "    bootsample = df.sample(df.shape[0], replace=True) # bootstrap the WHOLE sample (df.shape[0])\n",
    "    control_df = bootsample.query('group == \"control\"')\n",
    "    experiment_df = bootsample.query('group == \"experiment\"')\n",
    "    control_ctr = control_df.query('action == \"click\"')['id'].nunique() / control_df.query('action == \"view\"')['id'].nunique()\n",
    "    experiment_ctr = experiment_df.query('action == \"click\"')['id'].nunique() / experiment_df.query('action == \"view\"')['id'].nunique()\n",
    "    diffs.append(experiment_ctr - control_ctr)"
   ]
  },
  {
   "cell_type": "code",
   "execution_count": 22,
   "id": "787e2102",
   "metadata": {},
   "outputs": [],
   "source": [
    "# the p-value for our statistic, which is the observed difference in proportions \n",
    "# by simulating the distribution under the null hypothesis and then finding the probability\n",
    "# that our statistic came from this distribution \n",
    "\n",
    "# simulating from the null creating a normal distribution centered at zero\n",
    "# with the same standard deviation as our sampling distribution above \n",
    "\n",
    "diffs = np.array(diffs)\n",
    "null_vals= np.random.normal(0, np.std(diffs), diffs.size)"
   ]
  },
  {
   "cell_type": "code",
   "execution_count": 23,
   "id": "95eaa30c",
   "metadata": {},
   "outputs": [
    {
     "data": {
      "image/png": "[encoded data removed]",
      "text/plain": [
       "<Figure size 432x288 with 1 Axes>"
      ]
     },
     "metadata": {
      "needs_background": "light"
     },
     "output_type": "display_data"
    }
   ],
   "source": [
    "# this is the null distribution\n",
    "plt.hist(null_vals)\n",
    "# and this is where our observed statistic falls \n",
    "plt.axvline(obs_diff, color='r', linewidth=2);"
   ]
  },
  {
   "cell_type": "code",
   "execution_count": 24,
   "id": "ccd6c383",
   "metadata": {},
   "outputs": [
    {
     "data": {
      "text/plain": [
       "0.0059"
      ]
     },
     "execution_count": 24,
     "metadata": {},
     "output_type": "execute_result"
    }
   ],
   "source": [
    "# the p-value will then be all the null values that are more extreme than\n",
    "# our statistic in favor of the alternative\n",
    "(null_vals > obs_diff).mean()"
   ]
  },
  {
   "cell_type": "markdown",
   "id": "10ee23ef",
   "metadata": {},
   "source": [
    "With a p-value of approximately 0.6%, the difference in CTR for the control and the experiment group does appear to be significant. If we have, for instance, an $\\alpha$ of 1%, we can **reject $H_{0}$**. In our example, it certainly looks like Audacity should launch the new version of the home page. "
   ]
  },
  {
   "cell_type": "markdown",
   "id": "18298ca5",
   "metadata": {},
   "source": [
    "### Experiment 2:\n",
    "\n",
    "The second change, Audacity is A/B testing is a more career-focused description on a course overview page. They hope that this change may encourage more users to enroll and complete this course. In this experiment, we’re going to analyze the following metrics:\n",
    "\n",
    "1. **Enrollment Rate:** Click-through rate for the Enroll button on the course overview page\n",
    "2. **Average Reading Duration:** Average number of seconds spent on the course overview page\n",
    "3. **Average Classroom Time:** Average number of days spent in the classroom for students enrolled in the course\n",
    "4. **Completion Rate:** Course completion rate for students enrolled in the course\n",
    "First, let's determine if the difference observed for each metric is statistically significant individually."
   ]
  },
  {
   "cell_type": "markdown",
   "id": "d930b335",
   "metadata": {},
   "source": [
    "### 1. Metric: Enrollment rate\n",
    "#### Question: Does one page lead users to more enrollments?"
   ]
  },
  {
   "cell_type": "code",
   "execution_count": 25,
   "id": "9a355db6",
   "metadata": {},
   "outputs": [
    {
     "data": {
      "text/html": [
       "<div>\n",
       "<style scoped>\n",
       "    .dataframe tbody tr th:only-of-type {\n",
       "        vertical-align: middle;\n",
       "    }\n",
       "\n",
       "    .dataframe tbody tr th {\n",
       "        vertical-align: top;\n",
       "    }\n",
       "\n",
       "    .dataframe thead th {\n",
       "        text-align: right;\n",
       "    }\n",
       "</style>\n",
       "<table border=\"1\" class=\"dataframe\">\n",
       "  <thead>\n",
       "    <tr style=\"text-align: right;\">\n",
       "      <th></th>\n",
       "      <th>timestamp</th>\n",
       "      <th>id</th>\n",
       "      <th>group</th>\n",
       "      <th>action</th>\n",
       "      <th>duration</th>\n",
       "    </tr>\n",
       "  </thead>\n",
       "  <tbody>\n",
       "    <tr>\n",
       "      <th>0</th>\n",
       "      <td>2016-09-24 17:14:52.012145</td>\n",
       "      <td>261869</td>\n",
       "      <td>experiment</td>\n",
       "      <td>view</td>\n",
       "      <td>130.545004</td>\n",
       "    </tr>\n",
       "  </tbody>\n",
       "</table>\n",
       "</div>"
      ],
      "text/plain": [
       "                    timestamp      id       group action    duration\n",
       "0  2016-09-24 17:14:52.012145  261869  experiment   view  130.545004"
      ]
     },
     "execution_count": 25,
     "metadata": {},
     "output_type": "execute_result"
    }
   ],
   "source": [
    "np.random.seed(42)\n",
    "df = pd.read_csv('support-files/13_Case-Study-AB-Tests/course_page_actions.csv')\n",
    "df.head(1)"
   ]
  },
  {
   "cell_type": "code",
   "execution_count": 26,
   "id": "1f82f02f",
   "metadata": {},
   "outputs": [
    {
     "data": {
      "text/plain": [
       "array(['view', 'enroll'], dtype=object)"
      ]
     },
     "execution_count": 26,
     "metadata": {},
     "output_type": "execute_result"
    }
   ],
   "source": [
    "# retriving the control group from the original dataset\n",
    "control_df = df.query('group == \"control\"')\n",
    "\n",
    "# checking to see the types of actions before calculating the click through rate (CTR)\n",
    "control_df['action'].unique()"
   ]
  },
  {
   "cell_type": "code",
   "execution_count": 27,
   "id": "7aceed33",
   "metadata": {},
   "outputs": [
    {
     "data": {
      "text/plain": [
       "0.2364438839848676"
      ]
     },
     "execution_count": 27,
     "metadata": {},
     "output_type": "execute_result"
    }
   ],
   "source": [
    "# get the click through rate for the control group\n",
    "control_ctr = control_df.query('action == \"enroll\"')['id'].nunique() / control_df.query('action == \"view\"')['id'].nunique()\n",
    "\n",
    "# display ctr\n",
    "control_ctr"
   ]
  },
  {
   "cell_type": "code",
   "execution_count": 28,
   "id": "ed851520",
   "metadata": {},
   "outputs": [
    {
     "data": {
      "text/plain": [
       "0.2668693009118541"
      ]
     },
     "execution_count": 28,
     "metadata": {},
     "output_type": "execute_result"
    }
   ],
   "source": [
    "# retriving the experiment group from the original dataset\n",
    "experiment_df = df.query('group == \"experiment\"')\n",
    "\n",
    "# get the click through rate for the experiment group\n",
    "experiment_ctr = experiment_df.query('action == \"enroll\"')['id'].nunique() / experiment_df.query('action == \"view\"')['id'].nunique()\n",
    "\n",
    "# display ctr\n",
    "experiment_ctr"
   ]
  },
  {
   "cell_type": "code",
   "execution_count": 29,
   "id": "bfa41474",
   "metadata": {},
   "outputs": [
    {
     "data": {
      "text/plain": [
       "0.030425416926986526"
      ]
     },
     "execution_count": 29,
     "metadata": {},
     "output_type": "execute_result"
    }
   ],
   "source": [
    "# get the observed difference in CTRs\n",
    "obs_diff = experiment_ctr - control_ctr\n",
    "obs_diff"
   ]
  },
  {
   "cell_type": "code",
   "execution_count": 30,
   "id": "21f8edea",
   "metadata": {},
   "outputs": [],
   "source": [
    "# now, we have to see if this difference is significant, and not just due to chance\n",
    "# bootstrap the sample to simulate the sampling distribution for the difference in proportions\n",
    "\n",
    "diffs = []\n",
    "\n",
    "for _ in range(int(1e4)):\n",
    "    bootsample = df.sample(df.shape[0], replace=True) # bootstrap the WHOLE sample (df.shape[0])\n",
    "    control_df = bootsample.query('group == \"control\"')\n",
    "    experiment_df = bootsample.query('group == \"experiment\"')\n",
    "    control_ctr = control_df.query('action == \"enroll\"')['id'].nunique() / control_df.query('action == \"view\"')['id'].nunique()\n",
    "    experiment_ctr = experiment_df.query('action == \"enroll\"')['id'].nunique() / experiment_df.query('action == \"view\"')['id'].nunique()\n",
    "    diffs.append(experiment_ctr - control_ctr)"
   ]
  },
  {
   "cell_type": "code",
   "execution_count": 31,
   "id": "044d4a51",
   "metadata": {},
   "outputs": [],
   "source": [
    "# the p-value for our statistic, which is the observed difference in proportions \n",
    "# by simulating the distribution under the null hypothesis and then finding the probability\n",
    "# that our statistic came from this distribution \n",
    "\n",
    "# simulating from the null creating a normal distribution centered at zero\n",
    "# with the same standard deviation as our sampling distribution above \n",
    "\n",
    "diffs = np.array(diffs)\n",
    "null_vals = np.random.normal(0, np.std(diffs), diffs.size)"
   ]
  },
  {
   "cell_type": "code",
   "execution_count": 32,
   "id": "52955c6e",
   "metadata": {},
   "outputs": [
    {
     "data": {
      "image/png": "[encoded data removed]",
      "text/plain": [
       "<Figure size 432x288 with 1 Axes>"
      ]
     },
     "metadata": {
      "needs_background": "light"
     },
     "output_type": "display_data"
    }
   ],
   "source": [
    "# this is the null distribution\n",
    "plt.hist(null_vals)\n",
    "# and this is where our observed statistic falls \n",
    "plt.axvline(obs_diff, color='r', linewidth=2);"
   ]
  },
  {
   "cell_type": "code",
   "execution_count": 33,
   "id": "bc727851",
   "metadata": {},
   "outputs": [
    {
     "data": {
      "text/plain": [
       "0.0188"
      ]
     },
     "execution_count": 33,
     "metadata": {},
     "output_type": "execute_result"
    }
   ],
   "source": [
    "# the p-value will then be all the null values that are more extreme than\n",
    "# our statistic in favor of the alternative\n",
    "t1 = (null_vals > obs_diff).mean()\n",
    "t1"
   ]
  },
  {
   "cell_type": "markdown",
   "id": "f80a5f42",
   "metadata": {},
   "source": [
    "With a p-value of approximately 2.07%, the difference in CTR for the control and the experiment group does appear to be significant. If we have a type I error rate ($\\alpha$) of 5%, we can **reject $H_{0}$**. In our example, it certainly looks like Audacity should use the experimental description on its overview page."
   ]
  },
  {
   "cell_type": "markdown",
   "id": "d26def35",
   "metadata": {},
   "source": [
    "### 2. Metric: Average Reading Duration\n",
    "#### Question: Does one page engage users for a longer period of time?"
   ]
  },
  {
   "cell_type": "code",
   "execution_count": 34,
   "id": "74fbae14",
   "metadata": {},
   "outputs": [],
   "source": [
    "# with this metric, we'll be anaylyzing difference in means\n",
    "np.random.seed(42)\n",
    "df = pd.read_csv('support-files/13_Case-Study-AB-Tests/course_page_actions.csv')"
   ]
  },
  {
   "cell_type": "code",
   "execution_count": 35,
   "id": "4d1deba2",
   "metadata": {},
   "outputs": [],
   "source": [
    "# since we're comparing reading duration, we only care about view actions\n",
    "views = df.query('action == \"view\"')"
   ]
  },
  {
   "cell_type": "code",
   "execution_count": 36,
   "id": "4c7127e5",
   "metadata": {},
   "outputs": [],
   "source": [
    "# count only each unique user once by finding their average reading duration\n",
    "# if they visited the site more than once\n",
    "reading_times = views.groupby(['id', 'group'])['duration'].mean()"
   ]
  },
  {
   "cell_type": "code",
   "execution_count": 37,
   "id": "dc7ecf24",
   "metadata": {},
   "outputs": [
    {
     "data": {
      "text/html": [
       "<div>\n",
       "<style scoped>\n",
       "    .dataframe tbody tr th:only-of-type {\n",
       "        vertical-align: middle;\n",
       "    }\n",
       "\n",
       "    .dataframe tbody tr th {\n",
       "        vertical-align: top;\n",
       "    }\n",
       "\n",
       "    .dataframe thead th {\n",
       "        text-align: right;\n",
       "    }\n",
       "</style>\n",
       "<table border=\"1\" class=\"dataframe\">\n",
       "  <thead>\n",
       "    <tr style=\"text-align: right;\">\n",
       "      <th></th>\n",
       "      <th>id</th>\n",
       "      <th>group</th>\n",
       "      <th>duration</th>\n",
       "    </tr>\n",
       "  </thead>\n",
       "  <tbody>\n",
       "    <tr>\n",
       "      <th>0</th>\n",
       "      <td>183260</td>\n",
       "      <td>control</td>\n",
       "      <td>107.331484</td>\n",
       "    </tr>\n",
       "    <tr>\n",
       "      <th>1</th>\n",
       "      <td>183615</td>\n",
       "      <td>experiment</td>\n",
       "      <td>24.627594</td>\n",
       "    </tr>\n",
       "    <tr>\n",
       "      <th>2</th>\n",
       "      <td>184277</td>\n",
       "      <td>experiment</td>\n",
       "      <td>193.212489</td>\n",
       "    </tr>\n",
       "    <tr>\n",
       "      <th>3</th>\n",
       "      <td>184360</td>\n",
       "      <td>experiment</td>\n",
       "      <td>226.586283</td>\n",
       "    </tr>\n",
       "    <tr>\n",
       "      <th>4</th>\n",
       "      <td>184589</td>\n",
       "      <td>experiment</td>\n",
       "      <td>12.052097</td>\n",
       "    </tr>\n",
       "  </tbody>\n",
       "</table>\n",
       "</div>"
      ],
      "text/plain": [
       "       id       group    duration\n",
       "0  183260     control  107.331484\n",
       "1  183615  experiment   24.627594\n",
       "2  184277  experiment  193.212489\n",
       "3  184360  experiment  226.586283\n",
       "4  184589  experiment   12.052097"
      ]
     },
     "execution_count": 37,
     "metadata": {},
     "output_type": "execute_result"
    }
   ],
   "source": [
    "# resetting the indexes just so we keep the ID and group as column names\n",
    "reading_times = reading_times.reset_index()\n",
    "reading_times.head()"
   ]
  },
  {
   "cell_type": "code",
   "execution_count": 38,
   "id": "04a7d982",
   "metadata": {},
   "outputs": [
    {
     "data": {
      "text/plain": [
       "(115.38637100678449, 131.32084104717944)"
      ]
     },
     "execution_count": 38,
     "metadata": {},
     "output_type": "execute_result"
    }
   ],
   "source": [
    "# finding the average reading durations for each group\n",
    "control_mean = reading_times.query('group == \"control\"')['duration'].mean()\n",
    "experiment_mean = reading_times.query('group == \"experiment\"')['duration'].mean()\n",
    "control_mean, experiment_mean"
   ]
  },
  {
   "cell_type": "code",
   "execution_count": 39,
   "id": "4ed56027",
   "metadata": {},
   "outputs": [
    {
     "data": {
      "text/plain": [
       "15.934470040394956"
      ]
     },
     "execution_count": 39,
     "metadata": {},
     "output_type": "execute_result"
    }
   ],
   "source": [
    "# finding the difference of means\n",
    "obs_diff = experiment_mean - control_mean\n",
    "obs_diff # users spent almost 16s more on the overview page in the experimental version"
   ]
  },
  {
   "cell_type": "code",
   "execution_count": 40,
   "id": "737f6442",
   "metadata": {},
   "outputs": [],
   "source": [
    "# now, we have to see if this difference is significant, and not just due to chance\n",
    "# bootstrap the sample to simulate the sampling distribution for the difference in means\n",
    "\n",
    "diffs = []\n",
    "\n",
    "for _ in range(int(1e4)):\n",
    "    bootsample = reading_times.sample(reading_times.shape[0], replace=True)\n",
    "    control_df = bootsample.query('group == \"control\"')\n",
    "    experiment_df = bootsample.query('group == \"experiment\"')\n",
    "    control_mean = control_df['duration'].mean()\n",
    "    experiment_mean = experiment_df['duration'].mean()\n",
    "    diffs.append(experiment_mean - control_mean)"
   ]
  },
  {
   "cell_type": "code",
   "execution_count": 41,
   "id": "21db8cca",
   "metadata": {},
   "outputs": [],
   "source": [
    "# the p-value for our statistic, which is the observed difference in proportions \n",
    "# by simulating the distribution under the null hypothesis and then finding the probability\n",
    "# that our statistic came from this distribution \n",
    "diffs = np.array(diffs)\n",
    "null_vals = np.random.normal(0, np.std(diffs), diffs.size)"
   ]
  },
  {
   "cell_type": "code",
   "execution_count": 42,
   "id": "58d567cd",
   "metadata": {},
   "outputs": [
    {
     "data": {
      "image/png": "[encoded data removed]",
      "text/plain": [
       "<Figure size 432x288 with 1 Axes>"
      ]
     },
     "metadata": {
      "needs_background": "light"
     },
     "output_type": "display_data"
    }
   ],
   "source": [
    "# this is the null distribution\n",
    "plt.hist(null_vals)\n",
    "# and this is where our observed statistic falls \n",
    "plt.axvline(obs_diff, color ='r', linewidth=2);"
   ]
  },
  {
   "cell_type": "code",
   "execution_count": 43,
   "id": "05868ad1",
   "metadata": {},
   "outputs": [
    {
     "data": {
      "text/plain": [
       "0.0"
      ]
     },
     "execution_count": 43,
     "metadata": {},
     "output_type": "execute_result"
    }
   ],
   "source": [
    "# the p-value will then be all the null values that are more extreme than\n",
    "# our statistic in favor of the alternative\n",
    "t2 = (null_vals > obs_diff).mean()\n",
    "t2"
   ]
  },
  {
   "cell_type": "markdown",
   "id": "11f9451a",
   "metadata": {},
   "source": [
    "With a p-value of 0%, the difference in means for the control and the experiment group does appear to be significant. If we have a type I error rate ($\\alpha$) of 5%, we can **reject $H_{0}$**."
   ]
  },
  {
   "cell_type": "markdown",
   "id": "5b0aa205",
   "metadata": {},
   "source": [
    "### 3. Metric: Average Classroom Time\n",
    "#### Question: Does one page engage users for a longer period of time?"
   ]
  },
  {
   "cell_type": "code",
   "execution_count": 44,
   "id": "1081c302",
   "metadata": {},
   "outputs": [
    {
     "data": {
      "text/html": [
       "<div>\n",
       "<style scoped>\n",
       "    .dataframe tbody tr th:only-of-type {\n",
       "        vertical-align: middle;\n",
       "    }\n",
       "\n",
       "    .dataframe tbody tr th {\n",
       "        vertical-align: top;\n",
       "    }\n",
       "\n",
       "    .dataframe thead th {\n",
       "        text-align: right;\n",
       "    }\n",
       "</style>\n",
       "<table border=\"1\" class=\"dataframe\">\n",
       "  <thead>\n",
       "    <tr style=\"text-align: right;\">\n",
       "      <th></th>\n",
       "      <th>timestamp</th>\n",
       "      <th>id</th>\n",
       "      <th>group</th>\n",
       "      <th>total_days</th>\n",
       "      <th>completed</th>\n",
       "    </tr>\n",
       "  </thead>\n",
       "  <tbody>\n",
       "    <tr>\n",
       "      <th>0</th>\n",
       "      <td>2015-08-10 17:06:01.032740</td>\n",
       "      <td>610019</td>\n",
       "      <td>experiment</td>\n",
       "      <td>97</td>\n",
       "      <td>True</td>\n",
       "    </tr>\n",
       "    <tr>\n",
       "      <th>1</th>\n",
       "      <td>2015-08-10 17:15:28.950975</td>\n",
       "      <td>690224</td>\n",
       "      <td>control</td>\n",
       "      <td>75</td>\n",
       "      <td>False</td>\n",
       "    </tr>\n",
       "    <tr>\n",
       "      <th>2</th>\n",
       "      <td>2015-08-10 17:34:40.920384</td>\n",
       "      <td>564994</td>\n",
       "      <td>experiment</td>\n",
       "      <td>128</td>\n",
       "      <td>True</td>\n",
       "    </tr>\n",
       "    <tr>\n",
       "      <th>3</th>\n",
       "      <td>2015-08-10 17:50:39.847374</td>\n",
       "      <td>849588</td>\n",
       "      <td>experiment</td>\n",
       "      <td>66</td>\n",
       "      <td>False</td>\n",
       "    </tr>\n",
       "    <tr>\n",
       "      <th>4</th>\n",
       "      <td>2015-08-10 19:10:40.650599</td>\n",
       "      <td>849826</td>\n",
       "      <td>experiment</td>\n",
       "      <td>34</td>\n",
       "      <td>False</td>\n",
       "    </tr>\n",
       "  </tbody>\n",
       "</table>\n",
       "</div>"
      ],
      "text/plain": [
       "                    timestamp      id       group  total_days  completed\n",
       "0  2015-08-10 17:06:01.032740  610019  experiment          97       True\n",
       "1  2015-08-10 17:15:28.950975  690224     control          75      False\n",
       "2  2015-08-10 17:34:40.920384  564994  experiment         128       True\n",
       "3  2015-08-10 17:50:39.847374  849588  experiment          66      False\n",
       "4  2015-08-10 19:10:40.650599  849826  experiment          34      False"
      ]
     },
     "execution_count": 44,
     "metadata": {},
     "output_type": "execute_result"
    }
   ],
   "source": [
    "df = pd.read_csv('support-files/13_Case-Study-AB-Tests/classroom_actions.csv')\n",
    "df.head()"
   ]
  },
  {
   "cell_type": "code",
   "execution_count": 45,
   "id": "5ad528ef",
   "metadata": {},
   "outputs": [
    {
     "data": {
      "text/plain": [
       "(73.36899038461539, 74.6715935334873)"
      ]
     },
     "execution_count": 45,
     "metadata": {},
     "output_type": "execute_result"
    }
   ],
   "source": [
    "# the total_days column represents the total amount of time each student has spent in classroom.\n",
    "# get the average classroom time for control group\n",
    "control_mean = df.query('group == \"control\"')['total_days'].mean()\n",
    "\n",
    "# get the average classroom time for experiment group\n",
    "experiment_mean = df.query('group == \"experiment\"')['total_days'].mean()\n",
    "\n",
    "# display average classroom time for each group\n",
    "control_mean, experiment_mean"
   ]
  },
  {
   "cell_type": "code",
   "execution_count": 46,
   "id": "4150057c",
   "metadata": {},
   "outputs": [
    {
     "data": {
      "text/plain": [
       "1.3026031488719099"
      ]
     },
     "execution_count": 46,
     "metadata": {},
     "output_type": "execute_result"
    }
   ],
   "source": [
    "# observed difference in average classroom time \n",
    "obs_diff = experiment_mean - control_mean\n",
    "obs_diff"
   ]
  },
  {
   "cell_type": "code",
   "execution_count": 47,
   "id": "cc538e15",
   "metadata": {},
   "outputs": [],
   "source": [
    "# checking if this diference is significant by bootstraping\n",
    "\n",
    "diffs = []\n",
    "\n",
    "for _ in range(int(1e4)):\n",
    "    bootsample = df.sample(df.shape[0], replace=True)\n",
    "    control_df = bootsample.query('group == \"control\"')\n",
    "    experiment_df = bootsample.query('group == \"experiment\"')\n",
    "    control_mean = control_df['total_days'].mean()\n",
    "    experiment_mean = experiment_df['total_days'].mean()\n",
    "    diffs.append(experiment_mean - control_mean)"
   ]
  },
  {
   "cell_type": "code",
   "execution_count": 48,
   "id": "edf6bd04",
   "metadata": {},
   "outputs": [],
   "source": [
    "diffs = np.array(diffs)\n",
    "\n",
    "# we can find the p-value simulating the difference in means under the null hypothesis \n",
    "# and then finding the probability that our statistic come from this distribution\n",
    "null_vals = np.random.normal(0, np.std(diffs), diffs.size)"
   ]
  },
  {
   "cell_type": "code",
   "execution_count": 49,
   "id": "1804f3e4",
   "metadata": {},
   "outputs": [
    {
     "data": {
      "image/png": "[encoded data removed]",
      "text/plain": [
       "<Figure size 432x288 with 1 Axes>"
      ]
     },
     "metadata": {
      "needs_background": "light"
     },
     "output_type": "display_data"
    }
   ],
   "source": [
    "# this is the null distribution\n",
    "plt.hist(null_vals)\n",
    "# this is where the observed difference in means falls on the distribution\n",
    "plt.axvline(obs_diff, color='r', linewidth=2);"
   ]
  },
  {
   "cell_type": "code",
   "execution_count": 50,
   "id": "c27f6b76",
   "metadata": {},
   "outputs": [
    {
     "data": {
      "text/plain": [
       "0.0361"
      ]
     },
     "execution_count": 50,
     "metadata": {},
     "output_type": "execute_result"
    }
   ],
   "source": [
    "# finally, finding the probability that our statistic came from this distribution (p-value)\n",
    "t3 = (null_vals > obs_diff).mean()\n",
    "t3"
   ]
  },
  {
   "cell_type": "markdown",
   "id": "2757fda7",
   "metadata": {},
   "source": [
    "With a p-value of approximately 4%, the difference in means for the control and the experiment group does appear to be significant. If we have a type I error rate ($\\alpha$) of 5%, we can **reject $H_{0}$**. In order words, the hypothesis test above provides evidence that users spend more time in the classroom after seeing the experimental description in the course overview page.\n",
    "\n",
    "While the difference is *statistically significant*, it might not be *practically* so. Engaging students for 1.3 more days in the classroom, when they average around 74 days in total, doesn't seem to indicate a large enough value to launch this change from a practical perspective for Audacity."
   ]
  },
  {
   "cell_type": "markdown",
   "id": "9703f48e",
   "metadata": {},
   "source": [
    "### 4. Metric: Completion Rate\n",
    "#### Question: Does one page influence more completion rate than the other?"
   ]
  },
  {
   "cell_type": "code",
   "execution_count": 51,
   "id": "a00e5018",
   "metadata": {},
   "outputs": [
    {
     "data": {
      "text/html": [
       "<div>\n",
       "<style scoped>\n",
       "    .dataframe tbody tr th:only-of-type {\n",
       "        vertical-align: middle;\n",
       "    }\n",
       "\n",
       "    .dataframe tbody tr th {\n",
       "        vertical-align: top;\n",
       "    }\n",
       "\n",
       "    .dataframe thead th {\n",
       "        text-align: right;\n",
       "    }\n",
       "</style>\n",
       "<table border=\"1\" class=\"dataframe\">\n",
       "  <thead>\n",
       "    <tr style=\"text-align: right;\">\n",
       "      <th></th>\n",
       "      <th>timestamp</th>\n",
       "      <th>id</th>\n",
       "      <th>group</th>\n",
       "      <th>total_days</th>\n",
       "      <th>completed</th>\n",
       "    </tr>\n",
       "  </thead>\n",
       "  <tbody>\n",
       "    <tr>\n",
       "      <th>0</th>\n",
       "      <td>2015-08-10 17:06:01.032740</td>\n",
       "      <td>610019</td>\n",
       "      <td>experiment</td>\n",
       "      <td>97</td>\n",
       "      <td>True</td>\n",
       "    </tr>\n",
       "    <tr>\n",
       "      <th>1</th>\n",
       "      <td>2015-08-10 17:15:28.950975</td>\n",
       "      <td>690224</td>\n",
       "      <td>control</td>\n",
       "      <td>75</td>\n",
       "      <td>False</td>\n",
       "    </tr>\n",
       "    <tr>\n",
       "      <th>2</th>\n",
       "      <td>2015-08-10 17:34:40.920384</td>\n",
       "      <td>564994</td>\n",
       "      <td>experiment</td>\n",
       "      <td>128</td>\n",
       "      <td>True</td>\n",
       "    </tr>\n",
       "    <tr>\n",
       "      <th>3</th>\n",
       "      <td>2015-08-10 17:50:39.847374</td>\n",
       "      <td>849588</td>\n",
       "      <td>experiment</td>\n",
       "      <td>66</td>\n",
       "      <td>False</td>\n",
       "    </tr>\n",
       "    <tr>\n",
       "      <th>4</th>\n",
       "      <td>2015-08-10 19:10:40.650599</td>\n",
       "      <td>849826</td>\n",
       "      <td>experiment</td>\n",
       "      <td>34</td>\n",
       "      <td>False</td>\n",
       "    </tr>\n",
       "  </tbody>\n",
       "</table>\n",
       "</div>"
      ],
      "text/plain": [
       "                    timestamp      id       group  total_days  completed\n",
       "0  2015-08-10 17:06:01.032740  610019  experiment          97       True\n",
       "1  2015-08-10 17:15:28.950975  690224     control          75      False\n",
       "2  2015-08-10 17:34:40.920384  564994  experiment         128       True\n",
       "3  2015-08-10 17:50:39.847374  849588  experiment          66      False\n",
       "4  2015-08-10 19:10:40.650599  849826  experiment          34      False"
      ]
     },
     "execution_count": 51,
     "metadata": {},
     "output_type": "execute_result"
    }
   ],
   "source": [
    "df = pd.read_csv('support-files/13_Case-Study-AB-Tests/classroom_actions.csv')\n",
    "df.head()"
   ]
  },
  {
   "cell_type": "code",
   "execution_count": 52,
   "id": "a9d75fd2",
   "metadata": {},
   "outputs": [
    {
     "data": {
      "text/plain": [
       "0.3719951923076923"
      ]
     },
     "execution_count": 52,
     "metadata": {},
     "output_type": "execute_result"
    }
   ],
   "source": [
    "# control dataset\n",
    "control_df = df.query('group == \"control\"')\n",
    "\n",
    "# control completion rate\n",
    "control_cr = control_df['completed'].mean()\n",
    "control_cr"
   ]
  },
  {
   "cell_type": "code",
   "execution_count": 53,
   "id": "cd27774f",
   "metadata": {},
   "outputs": [
    {
     "data": {
      "text/plain": [
       "0.3935334872979215"
      ]
     },
     "execution_count": 53,
     "metadata": {},
     "output_type": "execute_result"
    }
   ],
   "source": [
    "# experiment dataset\n",
    "experiment_df = df.query('group == \"experiment\"')\n",
    "\n",
    "# experiment completion rate\n",
    "experiment_cr = experiment_df['completed'].mean()\n",
    "experiment_cr"
   ]
  },
  {
   "cell_type": "code",
   "execution_count": 54,
   "id": "229bdd03",
   "metadata": {},
   "outputs": [
    {
     "data": {
      "text/plain": [
       "0.02153829499022919"
      ]
     },
     "execution_count": 54,
     "metadata": {},
     "output_type": "execute_result"
    }
   ],
   "source": [
    "# difference of completion rates means\n",
    "obs_diff = experiment_cr - control_cr\n",
    "obs_diff"
   ]
  },
  {
   "cell_type": "code",
   "execution_count": 55,
   "id": "3380e68c",
   "metadata": {},
   "outputs": [],
   "source": [
    "# checking if this difference is significant by bootstraping\n",
    "\n",
    "diffs = []\n",
    "\n",
    "for _ in range(int(1e4)):\n",
    "    bootsample = df.sample(df.shape[0], replace=True)\n",
    "    control_df = bootsample.query('group == \"control\"')\n",
    "    experiment_df = bootsample.query('group == \"experiment\"')\n",
    "    control_cr = control_df['completed'].mean()\n",
    "    experiment_cr = experiment_df['completed'].mean()\n",
    "    diffs.append(experiment_cr - control_cr)"
   ]
  },
  {
   "cell_type": "code",
   "execution_count": 56,
   "id": "26110dc7",
   "metadata": {},
   "outputs": [],
   "source": [
    "diffs = np.array(diffs)\n",
    "\n",
    "# we can find the p-value simulating the difference in means under the null hypothesis \n",
    "# and then finding the probability that our statistic come from this distribution\n",
    "null_vals = np.random.normal(0, np.std(diffs), diffs.size)"
   ]
  },
  {
   "cell_type": "code",
   "execution_count": 57,
   "id": "bb41edd5",
   "metadata": {},
   "outputs": [
    {
     "data": {
      "image/png": "[encoded data removed]",
      "text/plain": [
       "<Figure size 432x288 with 1 Axes>"
      ]
     },
     "metadata": {
      "needs_background": "light"
     },
     "output_type": "display_data"
    }
   ],
   "source": [
    "# this is the null distribution\n",
    "plt.hist(null_vals)\n",
    "# this is where the observed difference in completion rate means fall on the null distribution\n",
    "plt.axvline(obs_diff, color='r', linewidth=2);"
   ]
  },
  {
   "cell_type": "code",
   "execution_count": 58,
   "id": "eb8b8ba3",
   "metadata": {},
   "outputs": [
    {
     "data": {
      "text/plain": [
       "0.0886"
      ]
     },
     "execution_count": 58,
     "metadata": {},
     "output_type": "execute_result"
    }
   ],
   "source": [
    "# finally, finding the probability that our statistic came from this distribution (p-value)\n",
    "t4 = (null_vals > obs_diff).mean()\n",
    "t4"
   ]
  },
  {
   "cell_type": "markdown",
   "id": "395b77e2",
   "metadata": {},
   "source": [
    "With a p-value of approximately 9.6%, the difference in means for the control and the experiment group doesn't appear to be significant. If we have a type I error rate ($\\alpha$) of 5%, we **fail to reject $H_{0}$**. In order words, the hypothesis test above doesn't provide evidence that the experimental page is more effective in improving completion rate. "
   ]
  },
  {
   "cell_type": "markdown",
   "id": "66f28f43",
   "metadata": {},
   "source": [
    "### Anayzing Multiple Metrics\n",
    "The more metrics you evaluate, the more likely you are to observe significant differences just by chance.\n",
    "\n",
    "The [Bonferroni Correction](http://en.wikipedia.org/wiki/Bonferroni_correction) is one way we could handle experiments with multiple tests or metrics in this case. To compute the new Bonferroni correct alpha value, we need to divide the original alpha value by the number of tests.\n",
    "\n",
    "#### Question: If our original alpha value was 0.05, what would be our new, Bonferroni corrected alpha value, considering we had four tests?"
   ]
  },
  {
   "cell_type": "code",
   "execution_count": 59,
   "id": "df4c1dc4",
   "metadata": {},
   "outputs": [
    {
     "data": {
      "text/plain": [
       "0.0125"
      ]
     },
     "execution_count": 59,
     "metadata": {},
     "output_type": "execute_result"
    }
   ],
   "source": [
    "# new alpha\n",
    "bonf_alpha = 0.05/4\n",
    "bonf_alpha"
   ]
  },
  {
   "cell_type": "markdown",
   "id": "930cea6c",
   "metadata": {},
   "source": [
    "#### Question: What results are still statistically significant using the new alpha? \n",
    "\n",
    "1. **Enrollment Rate:** not significant anymore, we **fail to reject $H_{0}$**\n",
    "2. **Average Reading Duration:** still statistically significant, even under the corrected alpha we **reject $H_{0}$**\n",
    "3. **Average Classroom Time:** not significant anymore, we **fail to reject $H_{0}$**\n",
    "4. **Completion Rate:** still not statistically significant, we **fail to reject $H_{0}$**"
   ]
  },
  {
   "cell_type": "code",
   "execution_count": 60,
   "id": "fd2de191",
   "metadata": {},
   "outputs": [
    {
     "data": {
      "text/plain": [
       "(0.0188, 0.0125, False)"
      ]
     },
     "execution_count": 60,
     "metadata": {},
     "output_type": "execute_result"
    }
   ],
   "source": [
    "# enrollment rate: not significant anymore, we fail to reject H0\n",
    "t1, bonf_alpha, t1 < bonf_alpha"
   ]
  },
  {
   "cell_type": "code",
   "execution_count": 61,
   "id": "13deb509",
   "metadata": {},
   "outputs": [
    {
     "data": {
      "text/plain": [
       "(0.0, 0.0125, True)"
      ]
     },
     "execution_count": 61,
     "metadata": {},
     "output_type": "execute_result"
    }
   ],
   "source": [
    "# average reading duration: still statistically significant, even under the corrected alpha\n",
    "# we reject H0\n",
    "t2, bonf_alpha, t2 < bonf_alpha"
   ]
  },
  {
   "cell_type": "code",
   "execution_count": 62,
   "id": "cd9d2b26",
   "metadata": {},
   "outputs": [
    {
     "data": {
      "text/plain": [
       "(0.0361, 0.0125, False)"
      ]
     },
     "execution_count": 62,
     "metadata": {},
     "output_type": "execute_result"
    }
   ],
   "source": [
    "# average classroom time: not significant anymore, we fail to reject H0\n",
    "t3, bonf_alpha, t3 < bonf_alpha "
   ]
  },
  {
   "cell_type": "code",
   "execution_count": 63,
   "id": "578508cd",
   "metadata": {},
   "outputs": [
    {
     "data": {
      "text/plain": [
       "(0.0886, 0.0125, False)"
      ]
     },
     "execution_count": 63,
     "metadata": {},
     "output_type": "execute_result"
    }
   ],
   "source": [
    "# completion rate: still not statistically significant, we fail to reject H0\n",
    "t4, bonf_alpha, t4 < bonf_alpha"
   ]
  },
  {
   "cell_type": "markdown",
   "id": "d406c6a4",
   "metadata": {},
   "source": [
    "### Drawing Conclusions\n",
    "Since the Bonferroni method is too conservative when we expect correlation among metrics, we can better approach this problem with more sophisticated methods, such as the [closed testing procedure](http://en.wikipedia.org/wiki/Closed_testing_procedure), [Boole-Bonferroni bound](http://en.wikipedia.org/wiki/Bonferroni_bound), and the [Holm-Bonferroni method](http://en.wikipedia.org/wiki/Holm%E2%80%93Bonferroni_method). These are less conservative and take this correlation into account.\n",
    "\n",
    "If you choose to use a less conservative method, make sure the assumptions of that method are truly met in your situation and that you're not just trying to [cheat on a p-value](http://freakonometrics.hypotheses.org/19817). Choosing a poorly suited test to get significant results will only lead to misguided decisions that harm your company's performance in the long run.\n",
    "\n",
    "### Difficulties to consider when running A/B Tests\n",
    "\n",
    "- Novelty effect and change aversion when existing users first experience a change\n",
    "- Sufficient traffic and conversions to have significant and repeatable results\n",
    "- The best metric choice for making the ultimate decision (eg. measuring revenue vs. clicks)\n",
    "- Long enough run time for the experiment to account for changes in behavior based on time of day/week or seasonal events.\n",
    "- The practical significance of a conversion rate (the cost of launching a new feature vs. the gain from the increase in conversion)\n",
    "-  Consistency among test subjects in the control and experiment group (imbalance in the population represented in each group can lead to situations like Simpson's Paradox)"
   ]
  }
 ],
 "metadata": {
  "kernelspec": {
   "display_name": "Python [conda env:dand] *",
   "language": "python",
   "name": "conda-env-dand-py"
  },
  "language_info": {
   "codemirror_mode": {
    "name": "ipython",
    "version": 3
   },
   "file_extension": ".py",
   "mimetype": "text/x-python",
   "name": "python",
   "nbconvert_exporter": "python",
   "pygments_lexer": "ipython3",
   "version": "3.8.12"
  }
 },
 "nbformat": 4,
 "nbformat_minor": 5
}
