{
 "cells": [
  {
   "cell_type": "markdown",
   "metadata": {
    "collapsed": true
   },
   "source": [
    "# Simpson's Paradox\n",
    "Use `admission_data.csv` for this exercise."
   ]
  },
  {
   "cell_type": "code",
   "execution_count": 1,
   "metadata": {},
   "outputs": [
    {
     "data": {
      "text/html": [
       "<div>\n",
       "<style scoped>\n",
       "    .dataframe tbody tr th:only-of-type {\n",
       "        vertical-align: middle;\n",
       "    }\n",
       "\n",
       "    .dataframe tbody tr th {\n",
       "        vertical-align: top;\n",
       "    }\n",
       "\n",
       "    .dataframe thead th {\n",
       "        text-align: right;\n",
       "    }\n",
       "</style>\n",
       "<table border=\"1\" class=\"dataframe\">\n",
       "  <thead>\n",
       "    <tr style=\"text-align: right;\">\n",
       "      <th></th>\n",
       "      <th>student_id</th>\n",
       "      <th>gender</th>\n",
       "      <th>major</th>\n",
       "      <th>admitted</th>\n",
       "    </tr>\n",
       "  </thead>\n",
       "  <tbody>\n",
       "    <tr>\n",
       "      <th>495</th>\n",
       "      <td>26950</td>\n",
       "      <td>male</td>\n",
       "      <td>Physics</td>\n",
       "      <td>False</td>\n",
       "    </tr>\n",
       "    <tr>\n",
       "      <th>496</th>\n",
       "      <td>25775</td>\n",
       "      <td>female</td>\n",
       "      <td>Chemistry</td>\n",
       "      <td>True</td>\n",
       "    </tr>\n",
       "    <tr>\n",
       "      <th>497</th>\n",
       "      <td>47243</td>\n",
       "      <td>female</td>\n",
       "      <td>Chemistry</td>\n",
       "      <td>True</td>\n",
       "    </tr>\n",
       "    <tr>\n",
       "      <th>498</th>\n",
       "      <td>52067</td>\n",
       "      <td>male</td>\n",
       "      <td>Physics</td>\n",
       "      <td>True</td>\n",
       "    </tr>\n",
       "    <tr>\n",
       "      <th>499</th>\n",
       "      <td>50535</td>\n",
       "      <td>male</td>\n",
       "      <td>Physics</td>\n",
       "      <td>False</td>\n",
       "    </tr>\n",
       "  </tbody>\n",
       "</table>\n",
       "</div>"
      ],
      "text/plain": [
       "     student_id  gender      major  admitted\n",
       "495       26950    male    Physics     False\n",
       "496       25775  female  Chemistry      True\n",
       "497       47243  female  Chemistry      True\n",
       "498       52067    male    Physics      True\n",
       "499       50535    male    Physics     False"
      ]
     },
     "execution_count": 1,
     "metadata": {},
     "output_type": "execute_result"
    }
   ],
   "source": [
    "# Load and view first few lines of dataset\n",
    "import pandas as pd\n",
    "import matplotlib.pyplot as plt\n",
    "%matplotlib inline\n",
    "\n",
    "df = pd.read_csv('support-files/3_Case-Study/admission_data.csv')\n",
    "df.tail()"
   ]
  },
  {
   "cell_type": "code",
   "execution_count": 2,
   "metadata": {},
   "outputs": [
    {
     "name": "stdout",
     "output_type": "stream",
     "text": [
      "<class 'pandas.core.frame.DataFrame'>\n",
      "RangeIndex: 500 entries, 0 to 499\n",
      "Data columns (total 4 columns):\n",
      " #   Column      Non-Null Count  Dtype \n",
      "---  ------      --------------  ----- \n",
      " 0   student_id  500 non-null    int64 \n",
      " 1   gender      500 non-null    object\n",
      " 2   major       500 non-null    object\n",
      " 3   admitted    500 non-null    bool  \n",
      "dtypes: bool(1), int64(1), object(2)\n",
      "memory usage: 12.3+ KB\n"
     ]
    }
   ],
   "source": [
    "df.info()"
   ]
  },
  {
   "cell_type": "markdown",
   "metadata": {},
   "source": [
    "### Proportion and admission rate for each gender"
   ]
  },
  {
   "cell_type": "code",
   "execution_count": 3,
   "metadata": {},
   "outputs": [
    {
     "name": "stdout",
     "output_type": "stream",
     "text": [
      "51.40%\n"
     ]
    }
   ],
   "source": [
    "# Proportion of students that are female\n",
    "fem = df.query('gender == \"female\"')\n",
    "\n",
    "fem_proportion = (fem['gender'].count() / df['gender'].count()) * 100\n",
    "print(f'{fem_proportion:.2f}%')"
   ]
  },
  {
   "cell_type": "code",
   "execution_count": 4,
   "metadata": {},
   "outputs": [
    {
     "name": "stdout",
     "output_type": "stream",
     "text": [
      "48.60%\n"
     ]
    }
   ],
   "source": [
    "# Proportion of students that are male\n",
    "male = df.query('gender == \"male\"')\n",
    "\n",
    "male_proportion = (male['gender'].count() / df['gender'].count()) * 100\n",
    "print(f'{male_proportion:.2f}%')"
   ]
  },
  {
   "cell_type": "code",
   "execution_count": 5,
   "metadata": {},
   "outputs": [
    {
     "name": "stdout",
     "output_type": "stream",
     "text": [
      "14.80%\n"
     ]
    }
   ],
   "source": [
    "# Admission rate for females\n",
    "fem_admitted = fem.query('admitted == True')\n",
    "total_admitted = df.query('admitted == True')\n",
    "\n",
    "fem_adm_rate = (fem_admitted['gender'].count() / df['gender'].count()) * 100\n",
    "print(f'{fem_adm_rate:.2f}%')"
   ]
  },
  {
   "cell_type": "code",
   "execution_count": 6,
   "metadata": {},
   "outputs": [
    {
     "name": "stdout",
     "output_type": "stream",
     "text": [
      "23.60%\n"
     ]
    }
   ],
   "source": [
    "# Admission rate for males\n",
    "male_admitted = male.query('admitted == True')\n",
    "\n",
    "male_adm_rate = (male_admitted['gender'].count() / df['gender'].count()) * 100\n",
    "print(f'{male_adm_rate:.2f}%')"
   ]
  },
  {
   "cell_type": "markdown",
   "metadata": {},
   "source": [
    "### Proportion and admission rate for physics majors of each gender"
   ]
  },
  {
   "cell_type": "code",
   "execution_count": 7,
   "metadata": {},
   "outputs": [
    {
     "name": "stdout",
     "output_type": "stream",
     "text": [
      "12.06%\n"
     ]
    }
   ],
   "source": [
    "# What proportion of female students are majoring in physics?\n",
    "fem_phy = fem.query('major == \"Physics\"')\n",
    "\n",
    "fem_phy_proportion = (fem_phy['gender'].count() / fem['gender'].count()) * 100\n",
    "print(f'{fem_phy_proportion:.2f}%')"
   ]
  },
  {
   "cell_type": "code",
   "execution_count": 8,
   "metadata": {},
   "outputs": [
    {
     "name": "stdout",
     "output_type": "stream",
     "text": [
      "92.59%\n"
     ]
    }
   ],
   "source": [
    "# What proportion of male students are majoring in physics?\n",
    "male_phy = male.query('major == \"Physics\"')\n",
    "\n",
    "male_phy_proportion = (male_phy['gender'].count() / male['gender'].count()) * 100\n",
    "print(f'{male_phy_proportion:.2f}%')"
   ]
  },
  {
   "cell_type": "code",
   "execution_count": 11,
   "metadata": {},
   "outputs": [
    {
     "name": "stdout",
     "output_type": "stream",
     "text": [
      "74.19%\n"
     ]
    }
   ],
   "source": [
    "# Admission rate for female physics majors\n",
    "fem_phy_admitted = fem_phy.query('admitted == True')\n",
    "\n",
    "fem_phy_adm_rate = (fem_phy_admitted['gender'].count() / fem_phy['gender'].count()) * 100\n",
    "print(f'{fem_phy_adm_rate:.2f}%')"
   ]
  },
  {
   "cell_type": "code",
   "execution_count": 13,
   "metadata": {},
   "outputs": [
    {
     "name": "stdout",
     "output_type": "stream",
     "text": [
      "51.56%\n"
     ]
    }
   ],
   "source": [
    "# Admission rate for male physics majors\n",
    "male_phy_admitted = male_phy.query('admitted == True')\n",
    "\n",
    "male_phy_adm_rate = (male_phy_admitted['gender'].count() / male_phy['gender'].count()) * 100\n",
    "print(f'{male_phy_adm_rate:.2f}%')"
   ]
  },
  {
   "cell_type": "markdown",
   "metadata": {},
   "source": [
    "### Proportion and admission rate for chemistry majors of each gender"
   ]
  },
  {
   "cell_type": "code",
   "execution_count": 14,
   "metadata": {},
   "outputs": [
    {
     "name": "stdout",
     "output_type": "stream",
     "text": [
      "87.94%\n"
     ]
    }
   ],
   "source": [
    "# What proportion of female students are majoring in chemistry?\n",
    "fem_chem = fem.query('major == \"Chemistry\"')\n",
    "\n",
    "fem_chem_proportion = (fem_chem['gender'].count() / fem['gender'].count()) * 100\n",
    "print(f'{fem_chem_proportion:.2f}%')"
   ]
  },
  {
   "cell_type": "code",
   "execution_count": 15,
   "metadata": {},
   "outputs": [
    {
     "name": "stdout",
     "output_type": "stream",
     "text": [
      "7.41%\n"
     ]
    }
   ],
   "source": [
    "# What proportion of male students are majoring in chemistry?\n",
    "male_chem = male.query('major == \"Chemistry\"')\n",
    "\n",
    "male_chem_proportion = (male_chem['gender'].count() / male['gender'].count()) * 100\n",
    "print(f'{male_chem_proportion:.2f}%')"
   ]
  },
  {
   "cell_type": "code",
   "execution_count": 16,
   "metadata": {},
   "outputs": [
    {
     "name": "stdout",
     "output_type": "stream",
     "text": [
      "22.57%\n"
     ]
    }
   ],
   "source": [
    "# Admission rate for female chemistry majors\n",
    "fem_chem_admitted = fem_chem.query('admitted == True')\n",
    "\n",
    "fem_chem_adm_rate = (fem_chem_admitted['gender'].count() / fem_chem['gender'].count()) * 100\n",
    "print(f'{fem_chem_adm_rate:.2f}%')"
   ]
  },
  {
   "cell_type": "code",
   "execution_count": 17,
   "metadata": {},
   "outputs": [
    {
     "name": "stdout",
     "output_type": "stream",
     "text": [
      "11.11%\n"
     ]
    }
   ],
   "source": [
    "# Admission rate for male chemistry majors\n",
    "male_chem_admitted = male_chem.query('admitted == True')\n",
    "\n",
    "male_chem_adm_rate = (male_chem_admitted['gender'].count() / male_chem['gender'].count()) * 100\n",
    "print(f'{male_chem_adm_rate:.2f}%')"
   ]
  },
  {
   "cell_type": "markdown",
   "metadata": {},
   "source": [
    "### Admission rate for each major"
   ]
  },
  {
   "cell_type": "code",
   "execution_count": 18,
   "metadata": {},
   "outputs": [
    {
     "name": "stdout",
     "output_type": "stream",
     "text": [
      "72.40%\n"
     ]
    }
   ],
   "source": [
    "# Admission rate for physics majors\n",
    "phy = total_admitted.query('major == \"Physics\"')\n",
    "\n",
    "phy_adm_rate = (phy['gender'].count() / total_admitted['gender'].count()) * 100\n",
    "print(f'{phy_adm_rate:.2f}%')"
   ]
  },
  {
   "cell_type": "code",
   "execution_count": 19,
   "metadata": {},
   "outputs": [
    {
     "name": "stdout",
     "output_type": "stream",
     "text": [
      "27.60\n"
     ]
    }
   ],
   "source": [
    "# Admission rate for chemistry majors\n",
    "chem = total_admitted.query('major == \"Chemistry\"')\n",
    "\n",
    "chem_adm_rate = (chem['gender'].count() / total_admitted['gender'].count()) * 100\n",
    "print(f'{chem_adm_rate:.2f}')"
   ]
  }
 ],
 "metadata": {
  "kernelspec": {
   "display_name": "Python 3 (ipykernel)",
   "language": "python",
   "name": "python3"
  },
  "language_info": {
   "codemirror_mode": {
    "name": "ipython",
    "version": 3
   },
   "file_extension": ".py",
   "mimetype": "text/x-python",
   "name": "python",
   "nbconvert_exporter": "python",
   "pygments_lexer": "ipython3",
   "version": "3.8.12"
  }
 },
 "nbformat": 4,
 "nbformat_minor": 2
}
