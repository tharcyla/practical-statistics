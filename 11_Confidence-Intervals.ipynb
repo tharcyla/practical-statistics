{
 "cells": [
  {
   "cell_type": "markdown",
   "id": "bcfdad98",
   "metadata": {},
   "source": [
    "## Confidence Intervals"
   ]
  },
  {
   "cell_type": "code",
   "execution_count": 1,
   "id": "d2125c17",
   "metadata": {},
   "outputs": [
    {
     "data": {
      "text/html": [
       "<div>\n",
       "<style scoped>\n",
       "    .dataframe tbody tr th:only-of-type {\n",
       "        vertical-align: middle;\n",
       "    }\n",
       "\n",
       "    .dataframe tbody tr th {\n",
       "        vertical-align: top;\n",
       "    }\n",
       "\n",
       "    .dataframe thead th {\n",
       "        text-align: right;\n",
       "    }\n",
       "</style>\n",
       "<table border=\"1\" class=\"dataframe\">\n",
       "  <thead>\n",
       "    <tr style=\"text-align: right;\">\n",
       "      <th></th>\n",
       "      <th>user_id</th>\n",
       "      <th>age</th>\n",
       "      <th>drinks_coffee</th>\n",
       "      <th>height</th>\n",
       "    </tr>\n",
       "  </thead>\n",
       "  <tbody>\n",
       "    <tr>\n",
       "      <th>2402</th>\n",
       "      <td>2874</td>\n",
       "      <td>&lt;21</td>\n",
       "      <td>True</td>\n",
       "      <td>64.357154</td>\n",
       "    </tr>\n",
       "    <tr>\n",
       "      <th>2864</th>\n",
       "      <td>3670</td>\n",
       "      <td>&gt;=21</td>\n",
       "      <td>True</td>\n",
       "      <td>66.859636</td>\n",
       "    </tr>\n",
       "    <tr>\n",
       "      <th>2167</th>\n",
       "      <td>7441</td>\n",
       "      <td>&lt;21</td>\n",
       "      <td>False</td>\n",
       "      <td>66.659561</td>\n",
       "    </tr>\n",
       "    <tr>\n",
       "      <th>507</th>\n",
       "      <td>2781</td>\n",
       "      <td>&gt;=21</td>\n",
       "      <td>True</td>\n",
       "      <td>70.166241</td>\n",
       "    </tr>\n",
       "    <tr>\n",
       "      <th>1817</th>\n",
       "      <td>2875</td>\n",
       "      <td>&gt;=21</td>\n",
       "      <td>True</td>\n",
       "      <td>71.369120</td>\n",
       "    </tr>\n",
       "  </tbody>\n",
       "</table>\n",
       "</div>"
      ],
      "text/plain": [
       "      user_id   age  drinks_coffee     height\n",
       "2402     2874   <21           True  64.357154\n",
       "2864     3670  >=21           True  66.859636\n",
       "2167     7441   <21          False  66.659561\n",
       "507      2781  >=21           True  70.166241\n",
       "1817     2875  >=21           True  71.369120"
      ]
     },
     "execution_count": 1,
     "metadata": {},
     "output_type": "execute_result"
    }
   ],
   "source": [
    "import pandas as pd\n",
    "import numpy as np\n",
    "import matplotlib.pyplot as plt\n",
    "%matplotlib inline\n",
    "\n",
    "np.random.seed(42)\n",
    "\n",
    "coffee_full = pd.read_csv('support-files/11_Confidence-Intervals/coffee_dataset.csv')\n",
    "coffee_red = coffee_full.sample(200) # this is the only data you might actually get in the real world\n",
    "coffee_red.head()"
   ]
  },
  {
   "cell_type": "markdown",
   "id": "7b0763b9",
   "metadata": {},
   "source": [
    "`1.` What is the proportion of coffee drinkers in the sample?  What is the proportion of individuals that don't drink coffee?"
   ]
  },
  {
   "cell_type": "code",
   "execution_count": 2,
   "id": "fa1ecd2c",
   "metadata": {},
   "outputs": [
    {
     "data": {
      "text/plain": [
       "0.595"
      ]
     },
     "execution_count": 2,
     "metadata": {},
     "output_type": "execute_result"
    }
   ],
   "source": [
    "drinks_coffee = coffee_red['drinks_coffee'].mean()\n",
    "drinks_coffee"
   ]
  },
  {
   "cell_type": "code",
   "execution_count": 3,
   "id": "87a0a03f",
   "metadata": {},
   "outputs": [
    {
     "data": {
      "text/plain": [
       "0.405"
      ]
     },
     "execution_count": 3,
     "metadata": {},
     "output_type": "execute_result"
    }
   ],
   "source": [
    "dont_drink = 1 - drinks_coffee\n",
    "dont_drink"
   ]
  },
  {
   "cell_type": "markdown",
   "id": "9e0117d4",
   "metadata": {},
   "source": [
    "`2.` Of the individuals who drink coffee, what is the average height? Of the individuals who do not drink coffee, what is the average height?"
   ]
  },
  {
   "cell_type": "code",
   "execution_count": 4,
   "id": "fc81fc0d",
   "metadata": {},
   "outputs": [
    {
     "data": {
      "text/plain": [
       "68.11962990858618"
      ]
     },
     "execution_count": 4,
     "metadata": {},
     "output_type": "execute_result"
    }
   ],
   "source": [
    "# average height of individuals who drink coffee \n",
    "avg_height_coffee = coffee_red.query('drinks_coffee == True')['height'].mean()\n",
    "avg_height_coffee"
   ]
  },
  {
   "cell_type": "code",
   "execution_count": 5,
   "id": "1574de7d",
   "metadata": {},
   "outputs": [
    {
     "data": {
      "text/plain": [
       "66.78492279927877"
      ]
     },
     "execution_count": 5,
     "metadata": {},
     "output_type": "execute_result"
    }
   ],
   "source": [
    "# average height of individuals who do not drink coffee\n",
    "avg_height_not = coffee_red.query('drinks_coffee == False')['height'].mean()\n",
    "avg_height_not"
   ]
  },
  {
   "cell_type": "markdown",
   "id": "678b2e82",
   "metadata": {},
   "source": [
    "`3.` Simulate 200 \"new\" individuals from your original sample of 200.  What are the proportion of coffee drinkers in your bootstrap sample?  How about individuals that don't drink coffee?"
   ]
  },
  {
   "cell_type": "code",
   "execution_count": 6,
   "id": "ea99cde9",
   "metadata": {},
   "outputs": [
    {
     "data": {
      "text/plain": [
       "0.5963499999999999"
      ]
     },
     "execution_count": 6,
     "metadata": {},
     "output_type": "execute_result"
    }
   ],
   "source": [
    "boot_means = []\n",
    "\n",
    "for _ in range(200):\n",
    "    bootsample = coffee_red.sample(200, replace=True)\n",
    "    boot_means.append(bootsample['drinks_coffee'].mean())\n",
    "\n",
    "boot_means = np.array(boot_means)\n",
    "boot_means.mean()"
   ]
  },
  {
   "cell_type": "code",
   "execution_count": 7,
   "id": "0687c6ec",
   "metadata": {},
   "outputs": [
    {
     "data": {
      "text/plain": [
       "0.40365000000000006"
      ]
     },
     "execution_count": 7,
     "metadata": {},
     "output_type": "execute_result"
    }
   ],
   "source": [
    "# proportion of not coffee drinkers in bootstrap sample\n",
    "1 - boot_means.mean()"
   ]
  },
  {
   "cell_type": "markdown",
   "id": "d92ade9a",
   "metadata": {},
   "source": [
    "`4.` Now simulate your bootstrap sample 10,000 times and take the mean height of the non-coffee drinkers in each sample. Each bootstrap sample should be from the very first sample of 200 data points. Plot the distribution, and pull the values necessary for a 95% confidence interval.  What do you notice about the sampling distribution of the mean in this example?"
   ]
  },
  {
   "cell_type": "code",
   "execution_count": 8,
   "id": "38eb930f",
   "metadata": {},
   "outputs": [],
   "source": [
    "boot_means = []\n",
    "\n",
    "for _ in range(int(1e4)):\n",
    "    bootsample = coffee_red.sample(200, replace=True)\n",
    "    boot_means.append(bootsample.query('drinks_coffee == False')['height'].mean())\n",
    "\n",
    "boot_means = np.array(boot_means)"
   ]
  },
  {
   "cell_type": "code",
   "execution_count": 9,
   "id": "e620c96b",
   "metadata": {},
   "outputs": [
    {
     "data": {
      "image/png": "[encoded data removed]",
      "text/plain": [
       "<Figure size 432x288 with 1 Axes>"
      ]
     },
     "metadata": {
      "needs_background": "light"
     },
     "output_type": "display_data"
    }
   ],
   "source": [
    "plt.hist(boot_means);"
   ]
  },
  {
   "cell_type": "code",
   "execution_count": 10,
   "id": "bc7a9dae",
   "metadata": {},
   "outputs": [
    {
     "data": {
      "text/plain": [
       "(65.99256077021725, 67.582566009168)"
      ]
     },
     "execution_count": 10,
     "metadata": {},
     "output_type": "execute_result"
    }
   ],
   "source": [
    "np.percentile(boot_means, 2.5), np.percentile(boot_means, 97.5)"
   ]
  },
  {
   "cell_type": "markdown",
   "id": "7ec09379",
   "metadata": {},
   "source": [
    "`5.`  Did your interval capture the actual average height of non-coffee drinkers in the population?  Look at the average in the population and the two bounds provided by your 95% confidence interval, and then answer the final quiz question below."
   ]
  },
  {
   "cell_type": "code",
   "execution_count": 11,
   "id": "716224ac",
   "metadata": {},
   "outputs": [
    {
     "data": {
      "text/plain": [
       "66.44340776214703"
      ]
     },
     "execution_count": 11,
     "metadata": {},
     "output_type": "execute_result"
    }
   ],
   "source": [
    "# What is the value for the mean height of those who do not drink coffee in your population?\n",
    "actual_height_mean_nocoff = coffee_full.query('drinks_coffee == False')['height'].mean()\n",
    "actual_height_mean_nocoff"
   ]
  },
  {
   "cell_type": "code",
   "execution_count": 12,
   "id": "c1ee7399",
   "metadata": {},
   "outputs": [
    {
     "name": "stdout",
     "output_type": "stream",
     "text": [
      "With 95% confidence, the average height of non-coffee drinkers is between 65.99 and 67.58.\n",
      "Since the average height of the population is 66.44, the interval actually captured it.\n"
     ]
    }
   ],
   "source": [
    "print(f'With 95% confidence, the average height of non-coffee drinkers is between {np.percentile(boot_means, 2.5):.2f} and {np.percentile(boot_means, 97.5):.2f}.')\n",
    "print(f'Since the average height of the population is {actual_height_mean_nocoff:.2f}, the interval actually captured it.')"
   ]
  },
  {
   "cell_type": "code",
   "execution_count": 13,
   "id": "fa10e416",
   "metadata": {},
   "outputs": [
    {
     "data": {
      "text/plain": [
       "(65.8526116204322, 67.75752917187378)"
      ]
     },
     "execution_count": 13,
     "metadata": {},
     "output_type": "execute_result"
    }
   ],
   "source": [
    "# example of 99% confidence interval\n",
    "np.percentile(boot_means, 1), np.percentile(boot_means, 99)"
   ]
  },
  {
   "cell_type": "markdown",
   "id": "b224e735",
   "metadata": {},
   "source": [
    "## Confidence Intervals - Difference in Means\n",
    "\n",
    "#### Question: What is the difference in the mean height for coffee vs. non-coffee drinkers?"
   ]
  },
  {
   "cell_type": "markdown",
   "id": "7a188189",
   "metadata": {},
   "source": [
    "`1.` For 10,000 iterations, bootstrap sample your sample data, compute the difference in the average heights for coffee and non-coffee drinkers.  Build a 99% confidence interval using your sampling distribution.  Use your interval to start answering the first quiz question below."
   ]
  },
  {
   "cell_type": "code",
   "execution_count": 14,
   "id": "8c083f76",
   "metadata": {},
   "outputs": [
    {
     "data": {
      "text/plain": [
       "1.4095377566853386"
      ]
     },
     "execution_count": 14,
     "metadata": {},
     "output_type": "execute_result"
    }
   ],
   "source": [
    "bootsample = coffee_red.sample(200, replace=True)\n",
    "mean_coff = bootsample.query('drinks_coffee == True')['height'].mean()\n",
    "mean_nocoff = bootsample.query('drinks_coffee == False')['height'].mean()\n",
    "mean_coff - mean_nocoff"
   ]
  },
  {
   "cell_type": "code",
   "execution_count": 15,
   "id": "2ff9d111",
   "metadata": {},
   "outputs": [],
   "source": [
    "# iterating 10k times\n",
    "diff = []\n",
    "\n",
    "for _ in range(int(1e4)):\n",
    "    bootsample = coffee_red.sample(200, replace=True)\n",
    "    mean_coff = bootsample.query('drinks_coffee == True')['height'].mean()\n",
    "    mean_nocoff = bootsample.query('drinks_coffee == False')['height'].mean()\n",
    "    diff.append(mean_coff - mean_nocoff)\n",
    "\n",
    "diff = np.array(diff)"
   ]
  },
  {
   "cell_type": "code",
   "execution_count": 16,
   "id": "e5f750a6",
   "metadata": {},
   "outputs": [
    {
     "data": {
      "text/plain": [
       "(0.0902771292964006, 2.529973949360082)"
      ]
     },
     "execution_count": 16,
     "metadata": {},
     "output_type": "execute_result"
    }
   ],
   "source": [
    "# 99% confidence interval\n",
    "# statistical evidence coffee drinkers are on average taller\n",
    "np.percentile(diff, 0.5), np.percentile(diff, 99.5)"
   ]
  },
  {
   "cell_type": "code",
   "execution_count": 17,
   "id": "856c28a6",
   "metadata": {},
   "outputs": [
    {
     "data": {
      "image/png": "[encoded data removed]",
      "text/plain": [
       "<Figure size 432x288 with 1 Axes>"
      ]
     },
     "metadata": {
      "needs_background": "light"
     },
     "output_type": "display_data"
    }
   ],
   "source": [
    "plt.hist(diff);"
   ]
  },
  {
   "cell_type": "code",
   "execution_count": 18,
   "id": "ffeeedfc",
   "metadata": {},
   "outputs": [
    {
     "data": {
      "text/plain": [
       "-0.504403365363217"
      ]
     },
     "execution_count": 18,
     "metadata": {},
     "output_type": "execute_result"
    }
   ],
   "source": [
    "diff.min()"
   ]
  },
  {
   "cell_type": "markdown",
   "id": "361ade3c",
   "metadata": {},
   "source": [
    "`2.` For 10,000 iterations, bootstrap sample your sample data, compute the difference in the average heights for those older than 21 and those younger than 21.  Build a 99% confidence interval using your sampling distribution.  Use your interval to finish answering the first quiz question below.  \n",
    "\n",
    "#### Question: What is the difference in the mean heights for individuals older than 21 and those younger than 21?"
   ]
  },
  {
   "cell_type": "code",
   "execution_count": 19,
   "id": "8493768f",
   "metadata": {},
   "outputs": [
    {
     "data": {
      "text/plain": [
       "(3.3683303394302846, 5.139730381451074)"
      ]
     },
     "execution_count": 19,
     "metadata": {},
     "output_type": "execute_result"
    }
   ],
   "source": [
    "diff_age = []\n",
    "\n",
    "for _ in range(int(1e4)):\n",
    "    bootsample = coffee_red.sample(200, replace=True)\n",
    "    mean_over21 = bootsample.query('age == \">=21\"')['height'].mean()\n",
    "    mean_under21 = bootsample.query('age == \"<21\"')['height'].mean()\n",
    "    diff_age.append(mean_over21 - mean_under21)\n",
    "\n",
    "diff_age = np.array(diff_age)\n",
    "np.percentile(diff_age, 0.5), np.percentile(diff_age, 99.5)\n",
    "# statistical evidence that over21 are on average taller"
   ]
  },
  {
   "cell_type": "code",
   "execution_count": 20,
   "id": "7a8ed8a7",
   "metadata": {},
   "outputs": [
    {
     "data": {
      "text/plain": [
       "2.98587237577442"
      ]
     },
     "execution_count": 20,
     "metadata": {},
     "output_type": "execute_result"
    }
   ],
   "source": [
    "diff_age.min()"
   ]
  },
  {
   "cell_type": "markdown",
   "id": "40688f50",
   "metadata": {},
   "source": [
    "`3.` For 10,000 iterations bootstrap your sample data, compute the **difference** in the average height for coffee drinkers and the average height for non-coffee drinkers for individuals **under** 21 years old.  Using your sampling distribution, build a 95% confidence interval.  Use your interval to start answering question 2 below.\n",
    "\n",
    "#### Question: What is the difference in the mean heights for coffee drinkers and non-coffee drinkers individuals under 21?"
   ]
  },
  {
   "cell_type": "code",
   "execution_count": 21,
   "id": "4f4ccb24",
   "metadata": {},
   "outputs": [
    {
     "data": {
      "text/html": [
       "<div>\n",
       "<style scoped>\n",
       "    .dataframe tbody tr th:only-of-type {\n",
       "        vertical-align: middle;\n",
       "    }\n",
       "\n",
       "    .dataframe tbody tr th {\n",
       "        vertical-align: top;\n",
       "    }\n",
       "\n",
       "    .dataframe thead th {\n",
       "        text-align: right;\n",
       "    }\n",
       "</style>\n",
       "<table border=\"1\" class=\"dataframe\">\n",
       "  <thead>\n",
       "    <tr style=\"text-align: right;\">\n",
       "      <th></th>\n",
       "      <th>user_id</th>\n",
       "      <th>age</th>\n",
       "      <th>drinks_coffee</th>\n",
       "      <th>height</th>\n",
       "    </tr>\n",
       "  </thead>\n",
       "  <tbody>\n",
       "    <tr>\n",
       "      <th>2402</th>\n",
       "      <td>2874</td>\n",
       "      <td>&lt;21</td>\n",
       "      <td>True</td>\n",
       "      <td>64.357154</td>\n",
       "    </tr>\n",
       "    <tr>\n",
       "      <th>2864</th>\n",
       "      <td>3670</td>\n",
       "      <td>&gt;=21</td>\n",
       "      <td>True</td>\n",
       "      <td>66.859636</td>\n",
       "    </tr>\n",
       "    <tr>\n",
       "      <th>2167</th>\n",
       "      <td>7441</td>\n",
       "      <td>&lt;21</td>\n",
       "      <td>False</td>\n",
       "      <td>66.659561</td>\n",
       "    </tr>\n",
       "    <tr>\n",
       "      <th>507</th>\n",
       "      <td>2781</td>\n",
       "      <td>&gt;=21</td>\n",
       "      <td>True</td>\n",
       "      <td>70.166241</td>\n",
       "    </tr>\n",
       "    <tr>\n",
       "      <th>1817</th>\n",
       "      <td>2875</td>\n",
       "      <td>&gt;=21</td>\n",
       "      <td>True</td>\n",
       "      <td>71.369120</td>\n",
       "    </tr>\n",
       "  </tbody>\n",
       "</table>\n",
       "</div>"
      ],
      "text/plain": [
       "      user_id   age  drinks_coffee     height\n",
       "2402     2874   <21           True  64.357154\n",
       "2864     3670  >=21           True  66.859636\n",
       "2167     7441   <21          False  66.659561\n",
       "507      2781  >=21           True  70.166241\n",
       "1817     2875  >=21           True  71.369120"
      ]
     },
     "execution_count": 21,
     "metadata": {},
     "output_type": "execute_result"
    }
   ],
   "source": [
    "# exploring data\n",
    "coffee_red.head()"
   ]
  },
  {
   "cell_type": "code",
   "execution_count": 22,
   "id": "6d86c222",
   "metadata": {},
   "outputs": [
    {
     "data": {
      "text/plain": [
       "dtype('O')"
      ]
     },
     "execution_count": 22,
     "metadata": {},
     "output_type": "execute_result"
    }
   ],
   "source": [
    "# exploring age column\n",
    "coffee_red['age'].dtypes"
   ]
  },
  {
   "cell_type": "code",
   "execution_count": 23,
   "id": "7915f0f6",
   "metadata": {},
   "outputs": [
    {
     "data": {
      "text/plain": [
       "array(['<21', '>=21'], dtype=object)"
      ]
     },
     "execution_count": 23,
     "metadata": {},
     "output_type": "execute_result"
    }
   ],
   "source": [
    "# exploring age column\n",
    "coffee_red['age'].unique()"
   ]
  },
  {
   "cell_type": "code",
   "execution_count": 24,
   "id": "48418ee1",
   "metadata": {},
   "outputs": [
    {
     "data": {
      "text/plain": [
       "(-2.6258101559245572, -1.0803161381394908)"
      ]
     },
     "execution_count": 24,
     "metadata": {},
     "output_type": "execute_result"
    }
   ],
   "source": [
    "diff_coff_under21 = []\n",
    "\n",
    "for _ in range(int(1e4)):\n",
    "    bootsample = coffee_red.sample(200, replace=True)\n",
    "    mean_coff_under21 = bootsample.query('drinks_coffee == True and age == \"<21\"')['height'].mean()\n",
    "    mean_nocoff_under21 = bootsample.query('drinks_coffee == False and age == \"<21\"')['height'].mean()\n",
    "    diff_coff_under21.append(mean_coff_under21 - mean_nocoff_under21)\n",
    "\n",
    "diff_coff_under21 = np.array(diff_coff_under21)\n",
    "np.percentile(diff_coff_under21, 2.5), np.percentile(diff_coff_under21, 97.5)\n",
    "# For the under21 group, we have evidence that the non-coffee drinkers are on average taller"
   ]
  },
  {
   "cell_type": "markdown",
   "id": "bd983984",
   "metadata": {},
   "source": [
    "`4.` For 10,000 iterations bootstrap your sample data, compute the **difference** in the average height for coffee drinkers and the average height for non-coffee drinkers for individuals **over** 21 years old.  Using your sampling distribution, build a 95% confidence interval. Use your interval to finish answering the second quiz question below. As well as the following questions. "
   ]
  },
  {
   "cell_type": "code",
   "execution_count": 25,
   "id": "7e9ed03e",
   "metadata": {},
   "outputs": [
    {
     "data": {
      "text/plain": [
       "(-4.411992559731178, -1.8287111654654924)"
      ]
     },
     "execution_count": 25,
     "metadata": {},
     "output_type": "execute_result"
    }
   ],
   "source": [
    "diff_coff_over21 = []\n",
    "\n",
    "for _ in range(int(1e4)):\n",
    "    bootsample = coffee_red.sample(200, replace=True)\n",
    "    mean_coff_over21 = bootsample.query('drinks_coffee == True and age == \">=21\"')['height'].mean()\n",
    "    mean_nocoff_over21 = bootsample.query('drinks_coffee == False and age == \">=21\"')['height'].mean()\n",
    "    diff_coff_over21.append(mean_coff_over21 - mean_nocoff_over21)\n",
    "\n",
    "diff_coff_over21 = np.array(diff_coff_over21)\n",
    "np.percentile(diff_coff_over21, 2.5), np.percentile(diff_coff_over21, 97.5)\n",
    "# For the over21 group, we have evidence that the non-coffee drinks are on average taller"
   ]
  },
  {
   "cell_type": "markdown",
   "id": "3036f604",
   "metadata": {},
   "source": [
    "Within the under 21 and over 21 groups, we saw that on average non-coffee drinkers were taller.  But, when combined, we saw that on average coffee drinkers were on average taller.  This is again **Simpson's paradox**, and essentially there are more adults in the dataset who were coffee drinkers.  So these individuals made it seem like coffee drinkers were on average taller - which is a misleading result.  "
   ]
  },
  {
   "cell_type": "code",
   "execution_count": 26,
   "id": "5138955d",
   "metadata": {},
   "outputs": [
    {
     "data": {
      "text/plain": [
       "(200, 4)"
      ]
     },
     "execution_count": 26,
     "metadata": {},
     "output_type": "execute_result"
    }
   ],
   "source": [
    "coffee_red.shape"
   ]
  },
  {
   "cell_type": "code",
   "execution_count": 27,
   "id": "7347bc95",
   "metadata": {},
   "outputs": [
    {
     "data": {
      "text/plain": [
       "(119, 4)"
      ]
     },
     "execution_count": 27,
     "metadata": {},
     "output_type": "execute_result"
    }
   ],
   "source": [
    "coffee_red.query('drinks_coffee == True').shape"
   ]
  },
  {
   "cell_type": "code",
   "execution_count": 28,
   "id": "9d741b60",
   "metadata": {},
   "outputs": [
    {
     "data": {
      "text/plain": [
       "(81, 4)"
      ]
     },
     "execution_count": 28,
     "metadata": {},
     "output_type": "execute_result"
    }
   ],
   "source": [
    "coffee_red.query('drinks_coffee == False').shape"
   ]
  },
  {
   "cell_type": "markdown",
   "id": "19f5398a",
   "metadata": {},
   "source": [
    "### Confidence Interval Applications\n",
    "A/B testing is one of the most important to businesses around the world. In this technique, you are changing something about your web layout to understand how it impacts users. You ideally want to provide a page that leads to more clicks, higher revenue, and/or higher customer satisfaction.\n",
    "\n",
    "### Statistical vs. Practical Significance\n",
    "Using confidence intervals and hypothesis testing, you are able to provide **statistical significance** in making decisions.\n",
    "\n",
    "However, it is also important to take into consideration **practical significance** in making decisions. Practical significance takes into consideration other factors of your situation that might not be considered directly in the results of your hypothesis test or confidence interval. Constraints like **space**, **time**, or **money** are important in business decisions. However, they might not be accounted for directly in a statistical test.\n",
    "\n",
    "### Traditional Confidence Interval Methods\n",
    "There are many different Confidence Interval and Hypothesis Tests:\n",
    "\n",
    "- [T-Test](https://en.wikipedia.org/wiki/Student%27s_t-test)\n",
    "- [Two-Sample T-Test](https://www.itl.nist.gov/div898/handbook/eda/section3/eda353.htm)\n",
    "- [Paired T-Test](https://online.stat.psu.edu/stat415/lesson/10/10.3)\n",
    "- [Z-Test](https://en.wikipedia.org/wiki/Z-test)\n",
    "- [Chi-Squared Test](https://en.wikipedia.org/wiki/Chi-squared_test)\n",
    "-[F-Test](https://en.wikipedia.org/wiki/F-test)\n",
    "\n",
    "Bootstrapping can be used in place of any of these techniques.\n",
    "\n",
    "### Other Language Associated with Confidence Intervals\n",
    "It is important to understand the way that your sample size and confidence level relate to the confidence interval you achieve at the end of your analysis.\n",
    "\n",
    "Assuming you control all other items of your analysis:\n",
    "\n",
    "1. Increasing your sample size will decrease the width of your confidence interval (inversely proportional).\n",
    "2. Increasing your confidence level (say 95% to 99%) will increase the width of your confidence interval (directly proportional).\n",
    "\n",
    "You saw that you can compute:\n",
    "\n",
    "1. The confidence interval width is the difference between your upper and lower bounds of your confidence interval.\n",
    "2. The margin of error is half the confidence interval width and the value that you add and subtract from your sample estimate to achieve your confidence interval final results.\n",
    "\n",
    "### Confidence Intervals (& Hypothesis Testing) vs. Machine Learning\n",
    "`Confidence intervals` take an **aggregate** approach towards the conclusions made based on data, as these tests are aimed at understanding **population parameters** (which are aggregate population values).\n",
    "\n",
    "Alternatively, `machine learning` techniques take an **individual** approach towards making conclusions, as they **attempt to predict an outcome for each specific data point**.\n",
    "\n",
    "### Recap\n",
    "In this lesson, you learned:\n",
    "\n",
    "1. How to use your knowledge of bootstrapping and sampling distributions to create a confidence interval for any population parameter.\n",
    "2. You learned how to build confidence intervals for the population mean and difference in means, but really the same process can be done for any parameter you are interested in.\n",
    "3. You also learned about how to use Python built-in functions to build confidence intervals, but that these rely on assumptions like the Central Limit Theorem.\n",
    "4. You learned about the difference between **statistical significance** and **practical significance**.\n",
    "5. Finally, you learned about other language associated with confidence intervals like **margin of error** and **confidence interval width**, and how to correctly interpret your confidence intervals. Remember, confidence intervals are about **parameters** in a population, and not about individual observations."
   ]
  }
 ],
 "metadata": {
  "kernelspec": {
   "display_name": "Python [conda env:dand] *",
   "language": "python",
   "name": "conda-env-dand-py"
  },
  "language_info": {
   "codemirror_mode": {
    "name": "ipython",
    "version": 3
   },
   "file_extension": ".py",
   "mimetype": "text/x-python",
   "name": "python",
   "nbconvert_exporter": "python",
   "pygments_lexer": "ipython3",
   "version": "3.8.12"
  }
 },
 "nbformat": 4,
 "nbformat_minor": 5
}
