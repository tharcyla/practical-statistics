{
 "cells": [
  {
   "cell_type": "markdown",
   "id": "b49d2dd6",
   "metadata": {},
   "source": [
    "## Hypothesis Testing\n",
    "\n",
    "To answer questions, we need to break down a question into a hypothesis. Then we collect data to justify which hypothesis is likely to be true.\n",
    "\n",
    "An example of this would be whether chocolate or vanilla is a more favored ice cream flavor.\n",
    "\n",
    "Hypothesis testing and confidence intervals allow for the use of **sample data** to draw conclusions about **an entire population**.\n",
    "\n",
    "### Setting Up Hypothesis Tests\n",
    "- H0 is true before we collect data\n",
    "- H0 usually states there is no effect or that two groups are equal\n",
    "- The H0 and H1 are competing, non-overlapping hypotheses \n",
    "- H1 is what we would like to prove to be true \n",
    "- H0 holds some sort of equals sign: `=`, `<=`, `>=`\n",
    "- H1 holds the opposite sign: `!=`, `<`, `>`\n",
    "\n",
    "#### Example:\n",
    "\"Innocent until proven guilty\" suggests the following hypotheses are true:\n",
    "\n",
    "- H0: Innocent\n",
    "- H1: Guilty\n",
    "\n",
    "### Types of Errors\n",
    "In the judicial example, we have four possibilities considering the truth of the matter (whether someone is guilty or not) and the jury's decision (whether they considered someone guilty or not):\n",
    "\n",
    "1. Truth: Guilty, Decision: Guilty *(No Error)*\n",
    "2. Truth: Innocent, Decision: Guilty *(Type I Error)*\n",
    "3. Truth: Guilty, Decision: Innocent *(Type II Error)*\n",
    "4. Truth: Innocent, Decision: Innocent  *(No Error)*\n",
    "\n",
    "A Type I Error is when the alternative is chosen, but the null is actually true. Also known as a False Positive, they are  denoted by the symbol α or alpha. They are considered the worst of the two possible errors. \n",
    "\n",
    "A Type II Error is when the null hypothesis is chosen, but the alternative hypothesis is actually true. Also known as a False Negative, they are denoted by the symbol β or beta.\n",
    "\n",
    "#### Parachute Example\n",
    "This example lets you see one of the most extreme cases of errors that might be committed in hypothesis testing. In a type I error, an individual died. In a type II error, you lost 30 dollars.\n",
    "\n",
    "Usually in hypothesis testing, you choose a type I error threshold, and your hypothesis tests will be created to minimize the type II errors after ensuring the type I error rate is met.\n",
    "\n",
    "### Common Types of Hypothesis Tests\n",
    "Hypothesis tests are always performed on **population parameters**, never on statistics. Statistics are values we already have from the data, so it does not make sense to perform hypothesis tests on these values.\n",
    "\n",
    "Common hypothesis tests include:\n",
    "\n",
    "- Testing a population mean [(One sample t-test)](http://sites.utexas.edu/sos/guided/inferential/numeric/claim/one-sample-t/)\n",
    "- Testing the difference in means [(Two-sample t-test)](https://www.isixsigma.com/tools-templates/hypothesis-testing/making-sense-two-sample-t-test/)\n",
    "- Testing the difference before and after some treatment on the same individual [(Paired t-test)](http://www.statstutor.ac.uk/resources/uploaded/paired-t-test.pdf)\n",
    "- Testing a population proportion [(One sample z-test)](https://stats.libretexts.org/Bookshelves/Applied_Statistics/Book%3A_Learning_Statistics_with_R_-_A_tutorial_for_Psychology_Students_and_other_Beginners_(Navarro)/13%3A_Comparing_Two_Means/13.01%3A_The_one-sample_z-test)\n",
    "- Testing the difference between population proportions [(Two sample z-test)](https://cran.r-project.org/web/packages/distributions3/vignettes/two-sample-z-test.html)\n",
    "\n",
    "You can use one of these sites to provide a t-table or z-table to support one of the above approaches:\n",
    "\n",
    "- [t-table](https://s3.amazonaws.com/udacity-hosted-downloads/t-table.jpg)\n",
    "- [t-table or z-table](http://www.z-table.com/t-value-table.html)\n",
    "\n",
    "There are literally hundreds of different hypothesis tests! However, instead of memorizing how to perform all of these tests, you can find the statistic(s) that best estimates the parameter(s) you want to estimate. You can bootstrap to simulate the sampling distribution. Then you can use your sampling distribution to assist in choosing the appropriate hypothesis.\n",
    "\n",
    "### Methods for Choosing Between Hypotheses\n",
    "1. Bootstrapping: we simulate the sampling distribution of our statistic and then we can see if our hypothesis is consistent with what we observe in the sampling distribution \n",
    "2. Simulating from the Null: Simulating what we believe to be possible under the null and then seeing if our data is actually consistent with that. In other others, we could simulate a sampling distribution from the null hypothesis using characteristics that would be true if our data came from the null. This is what professionals tend to do in a hypothesis test. \n",
    "\n",
    "#### Quiz: Hypothesis Testing Using Bootstraping\n",
    "$ H_{0}: \\mu \\leqslant 70 $\n",
    "\n",
    "$ H_{1}: \\mu > 70 $\n",
    "\n",
    "Consider $\\mu$ as the average height of all individuals in the dataset. Both coffee drinks and non-coffee drinkers"
   ]
  },
  {
   "cell_type": "code",
   "execution_count": 1,
   "id": "31cd5886",
   "metadata": {},
   "outputs": [
    {
     "data": {
      "text/html": [
       "<div>\n",
       "<style scoped>\n",
       "    .dataframe tbody tr th:only-of-type {\n",
       "        vertical-align: middle;\n",
       "    }\n",
       "\n",
       "    .dataframe tbody tr th {\n",
       "        vertical-align: top;\n",
       "    }\n",
       "\n",
       "    .dataframe thead th {\n",
       "        text-align: right;\n",
       "    }\n",
       "</style>\n",
       "<table border=\"1\" class=\"dataframe\">\n",
       "  <thead>\n",
       "    <tr style=\"text-align: right;\">\n",
       "      <th></th>\n",
       "      <th>user_id</th>\n",
       "      <th>age</th>\n",
       "      <th>drinks_coffee</th>\n",
       "      <th>height</th>\n",
       "    </tr>\n",
       "  </thead>\n",
       "  <tbody>\n",
       "    <tr>\n",
       "      <th>0</th>\n",
       "      <td>4509</td>\n",
       "      <td>&lt;21</td>\n",
       "      <td>False</td>\n",
       "      <td>64.538179</td>\n",
       "    </tr>\n",
       "  </tbody>\n",
       "</table>\n",
       "</div>"
      ],
      "text/plain": [
       "   user_id  age  drinks_coffee     height\n",
       "0     4509  <21          False  64.538179"
      ]
     },
     "execution_count": 1,
     "metadata": {},
     "output_type": "execute_result"
    }
   ],
   "source": [
    "import pandas as pd\n",
    "import numpy as np\n",
    "import matplotlib.pyplot as plt\n",
    "%matplotlib inline\n",
    "\n",
    "np.random.seed(42)\n",
    "\n",
    "df = pd.read_csv('support-files/12_Hypothesis-Testing/coffee_dataset.csv')\n",
    "df.head(1)"
   ]
  },
  {
   "cell_type": "code",
   "execution_count": 2,
   "id": "b863a3bb",
   "metadata": {},
   "outputs": [],
   "source": [
    "# create a sample from data\n",
    "sample_df = df.sample(150)"
   ]
  },
  {
   "cell_type": "code",
   "execution_count": 3,
   "id": "6ad93d55",
   "metadata": {},
   "outputs": [],
   "source": [
    "# create bootstrap sample\n",
    "bootsample = sample_df.sample(150, replace=True)"
   ]
  },
  {
   "cell_type": "code",
   "execution_count": 4,
   "id": "713fb073",
   "metadata": {},
   "outputs": [],
   "source": [
    "means = []\n",
    "\n",
    "for _ in range(int(1e4)):\n",
    "    bootsample = sample_df.sample(150, replace=True)\n",
    "    means.append(bootsample['height'].mean())"
   ]
  },
  {
   "cell_type": "code",
   "execution_count": 5,
   "id": "9a811026",
   "metadata": {},
   "outputs": [
    {
     "data": {
      "text/plain": [
       "(67.10258508046547, 68.15617490636113)"
      ]
     },
     "execution_count": 5,
     "metadata": {},
     "output_type": "execute_result"
    }
   ],
   "source": [
    "low, high = np.percentile(means, 2.5), np.percentile(means, 97.5)\n",
    "low, high"
   ]
  },
  {
   "cell_type": "code",
   "execution_count": 6,
   "id": "24d2cbf3",
   "metadata": {},
   "outputs": [
    {
     "data": {
      "image/png": "[encoded data removed]",
      "text/plain": [
       "<Figure size 432x288 with 1 Axes>"
      ]
     },
     "metadata": {
      "needs_background": "light"
     },
     "output_type": "display_data"
    }
   ],
   "source": [
    "plt.hist(means)\n",
    "plt.axvline(x=low, color='r', linewidth=1)\n",
    "plt.axvline(x=high, color='r', linewidth=1);"
   ]
  },
  {
   "cell_type": "markdown",
   "id": "1ff30269",
   "metadata": {},
   "source": [
    "Since the interval was entirely below 70, it suggests the null hypothesis ($H_{0}$) is actually true. "
   ]
  },
  {
   "cell_type": "markdown",
   "id": "735060c1",
   "metadata": {},
   "source": [
    "#### Quiz: Simulating from the Null \n",
    "$ H_{0}: \\mu \\leqslant 70 $\n",
    "\n",
    "$ H_{1}: \\mu > 70 $\n",
    "\n",
    "Consider $\\mu$ as the average height of all individuals in the dataset. Both coffee drinks and non-coffee drinkers"
   ]
  },
  {
   "cell_type": "code",
   "execution_count": 7,
   "id": "fd1234cc",
   "metadata": {},
   "outputs": [],
   "source": [
    "# create a sample from our data\n",
    "sample_df = df.sample(150)"
   ]
  },
  {
   "cell_type": "code",
   "execution_count": 8,
   "id": "3a451e2d",
   "metadata": {},
   "outputs": [],
   "source": [
    "# create a bootstrap sample\n",
    "bootsample = sample_df.sample(150, replace=True)"
   ]
  },
  {
   "cell_type": "code",
   "execution_count": 9,
   "id": "681e5698",
   "metadata": {},
   "outputs": [],
   "source": [
    "# bootstrap from the sample\n",
    "means = []\n",
    "\n",
    "for _ in range(int(1e4)):\n",
    "    bootsample = sample_df.sample(150, replace=True)\n",
    "    means.append(bootsample['height'].mean())"
   ]
  },
  {
   "cell_type": "code",
   "execution_count": 10,
   "id": "f9c2f1be",
   "metadata": {},
   "outputs": [
    {
     "data": {
      "text/plain": [
       "0.2708022664298498"
      ]
     },
     "execution_count": 10,
     "metadata": {},
     "output_type": "execute_result"
    }
   ],
   "source": [
    "# get the standard deviation\n",
    "np.std(means)"
   ]
  },
  {
   "cell_type": "code",
   "execution_count": 11,
   "id": "3c1a3268",
   "metadata": {},
   "outputs": [],
   "source": [
    "null_vals = np.random.normal(70, np.std(means), int(1e4))"
   ]
  },
  {
   "cell_type": "code",
   "execution_count": 12,
   "id": "d84f8895",
   "metadata": {},
   "outputs": [
    {
     "data": {
      "image/png": "[encoded data removed]",
      "text/plain": [
       "<Figure size 432x288 with 1 Axes>"
      ]
     },
     "metadata": {
      "needs_background": "light"
     },
     "output_type": "display_data"
    }
   ],
   "source": [
    "plt.hist(null_vals)\n",
    "plt.axvline(sample_df['height'].mean(), color='r', linewidth=1);"
   ]
  },
  {
   "cell_type": "code",
   "execution_count": 13,
   "id": "d59c7a3b",
   "metadata": {},
   "outputs": [
    {
     "data": {
      "text/plain": [
       "67.56991579081225"
      ]
     },
     "execution_count": 13,
     "metadata": {},
     "output_type": "execute_result"
    }
   ],
   "source": [
    "# checking the sample_df height mean\n",
    "sample_df['height'].mean()"
   ]
  },
  {
   "cell_type": "markdown",
   "id": "fc4a2420",
   "metadata": {},
   "source": [
    "Since our null is that the population mean is less than or equal to 70, we do have evidence to support this claim with our sample mean of 67.57. This suggests **not rejecting $H_{0}$**, our one-sided null hypothesis. If we had a null where we asked if the population mean was equal to 70, then we would reject this null in favor of an alternative that suggested the population mean was actually different from 70. "
   ]
  },
  {
   "cell_type": "markdown",
   "id": "c72b5d78",
   "metadata": {},
   "source": [
    "#### Quiz: Simulating from the Null"
   ]
  },
  {
   "cell_type": "code",
   "execution_count": 14,
   "id": "76e7a0dc",
   "metadata": {},
   "outputs": [],
   "source": [
    "sample_data = df.sample(200)"
   ]
  },
  {
   "cell_type": "markdown",
   "id": "af8edc63",
   "metadata": {},
   "source": [
    "`1.` If you were interested in studying whether the average height for coffee drinkers is the same as for non-coffee drinkers, what would the null and alternative hypotheses be?"
   ]
  },
  {
   "cell_type": "markdown",
   "id": "5a063355",
   "metadata": {},
   "source": [
    "$H_{0}: \\mu_{1} = \\mu_{2} $\n",
    "\n",
    "$H_{1}: \\mu_{1} \\neq \\mu_{2} $\n",
    "\n",
    "$\\mu_{1}$: average height for all coffee drinkers\n",
    "\n",
    "$\\mu_{2}$: average height for all non-coffee drinkers"
   ]
  },
  {
   "cell_type": "markdown",
   "id": "69f666ad",
   "metadata": {},
   "source": [
    "`2.` If you were interested in studying whether the average height for coffee drinkers is less than non-coffee drinkers, what would the null and alternative hypotheses be?  Write them in the cell below, and use your answer to answer the second quiz question below."
   ]
  },
  {
   "cell_type": "markdown",
   "id": "e91536d1",
   "metadata": {},
   "source": [
    "$H_{0}: \\mu_{1} \\geqslant \\mu_{2} $\n",
    "\n",
    "$H_{1}: \\mu_{1} < \\mu_{2} $\n",
    "\n",
    "$\\mu_{1}$: average height for all coffee drinkers\n",
    "\n",
    "$\\mu_{2}$: average height for all non-coffee drinkers"
   ]
  },
  {
   "cell_type": "markdown",
   "id": "94fce9a0",
   "metadata": {},
   "source": [
    "`3.` For 10,000 iterations: bootstrap the sample data, calculate the mean height for coffee drinkers and non-coffee drinkers, and calculate the difference in means for each sample.  You will want to have three arrays at the end of the iterations - one for each mean and one for the difference in means.  Use the results of your sampling distribution, to answer the third quiz question below."
   ]
  },
  {
   "cell_type": "code",
   "execution_count": 15,
   "id": "3b1c3c8b",
   "metadata": {},
   "outputs": [],
   "source": [
    "diff_means, means_coff, means_nocoff = [], [], []\n",
    "\n",
    "for _ in range(int(1e4)):\n",
    "    bootsample = sample_data.sample(200, replace=True)\n",
    "    coff_avg = bootsample.query('drinks_coffee == True')['height'].mean()\n",
    "    nocoff_avg = bootsample.query('drinks_coffee == False')['height'].mean()\n",
    "    # append the info\n",
    "    means_coff.append(coff_avg)\n",
    "    means_nocoff.append(nocoff_avg)\n",
    "    diff_means.append(coff_avg - nocoff_avg)"
   ]
  },
  {
   "cell_type": "code",
   "execution_count": 16,
   "id": "ec4f1021",
   "metadata": {},
   "outputs": [
    {
     "data": {
      "text/plain": [
       "0.46441474433403507"
      ]
     },
     "execution_count": 16,
     "metadata": {},
     "output_type": "execute_result"
    }
   ],
   "source": [
    "# standard deviation for the difference in means\n",
    "diff_means = np.array(diff_means)\n",
    "np.std(diff_means)"
   ]
  },
  {
   "cell_type": "code",
   "execution_count": 17,
   "id": "2534f981",
   "metadata": {},
   "outputs": [
    {
     "data": {
      "image/png": "[encoded data removed]",
      "text/plain": [
       "<Figure size 432x288 with 1 Axes>"
      ]
     },
     "metadata": {
      "needs_background": "light"
     },
     "output_type": "display_data"
    }
   ],
   "source": [
    "# checking the shape of the distribution \n",
    "plt.hist(diff_means, alpha = 0.5); # looks normal!"
   ]
  },
  {
   "cell_type": "code",
   "execution_count": 18,
   "id": "1c02b375",
   "metadata": {},
   "outputs": [
    {
     "data": {
      "text/plain": [
       "0.25429303380155116"
      ]
     },
     "execution_count": 18,
     "metadata": {},
     "output_type": "execute_result"
    }
   ],
   "source": [
    "# standard deviation for the coffee drinkers' height means\n",
    "means_coff = np.array(means_coff)\n",
    "np.std(means_coff)"
   ]
  },
  {
   "cell_type": "code",
   "execution_count": 19,
   "id": "e98c68fa",
   "metadata": {},
   "outputs": [
    {
     "data": {
      "image/png": "[encoded data removed]",
      "text/plain": [
       "<Figure size 432x288 with 1 Axes>"
      ]
     },
     "metadata": {
      "needs_background": "light"
     },
     "output_type": "display_data"
    }
   ],
   "source": [
    "# checking the shape of the distribution \n",
    "plt.hist(means_coff);"
   ]
  },
  {
   "cell_type": "code",
   "execution_count": 20,
   "id": "63f09cde",
   "metadata": {},
   "outputs": [
    {
     "data": {
      "text/plain": [
       "0.38660853775728854"
      ]
     },
     "execution_count": 20,
     "metadata": {},
     "output_type": "execute_result"
    }
   ],
   "source": [
    "# standard deviation for the non-coffee drinkers' height means\n",
    "means_nocoff = np.array(means_nocoff)\n",
    "np.std(means_nocoff)"
   ]
  },
  {
   "cell_type": "code",
   "execution_count": 21,
   "id": "8909bc21",
   "metadata": {},
   "outputs": [
    {
     "data": {
      "image/png": "[encoded data removed]",
      "text/plain": [
       "<Figure size 432x288 with 1 Axes>"
      ]
     },
     "metadata": {
      "needs_background": "light"
     },
     "output_type": "display_data"
    }
   ],
   "source": [
    "# checking the shape of the distribution \n",
    "plt.hist(means_nocoff);"
   ]
  },
  {
   "cell_type": "code",
   "execution_count": 22,
   "id": "5afdcf2c",
   "metadata": {},
   "outputs": [
    {
     "data": {
      "image/png": "[encoded data removed]",
      "text/plain": [
       "<Figure size 432x288 with 1 Axes>"
      ]
     },
     "metadata": {
      "needs_background": "light"
     },
     "output_type": "display_data"
    }
   ],
   "source": [
    "# alternatively, we could plot both on the same chart\n",
    "plt.hist(means_coff, alpha = 0.5)\n",
    "plt.hist(means_nocoff, alpha = 0.5); # they both look normal!"
   ]
  },
  {
   "cell_type": "markdown",
   "id": "f38bfa8b",
   "metadata": {},
   "source": [
    "Notice the standard deviation with the difference in means is larger than either of the individual. It turns out that this value for the standard deviation of the difference is actually the square root of the sum of the variance of each of the individual sampling distributions. And the mean has a standard deviation of the original draws divided by the square root of the sample size taken. More on this [here](http://www.statsmodels.org/stable/glm.html) and [here](http://onlinestatbook.com/2/sampling_distributions/samp_dist_mean.html)."
   ]
  },
  {
   "cell_type": "markdown",
   "id": "255d6b79",
   "metadata": {},
   "source": [
    "`4.` Now, use your observed sampling distribution for the difference in means and [the docs](https://docs.scipy.org/doc/numpy-1.13.0/reference/generated/numpy.random.normal.html) to simulate what you would expect the sampling distribution to be if the null hypothesis is true. You can do this be recentering your distribution at zero. Also, calculate the observed sample mean difference in `sample_data`. Use your solutions to answer the last questions in the quiz below.\n",
    "\n",
    "$H_{0}: \\mu_{1} - \\mu_{2} = 0$\n",
    "\n",
    "$H_{1}: \\mu_{1} - \\mu_{2} \\neq 0$\n",
    "\n",
    "> We would expect the sampling distribution to be normal by the Central Limit Theorem, and we know the standard deviation of the sampling distribution of the difference in means from the previous question, so we can use this to simulate draws from the sampling distribution under the null hypothesis.  If there is truly no difference, then the difference between the means should be zero."
   ]
  },
  {
   "cell_type": "code",
   "execution_count": 23,
   "id": "da55744c",
   "metadata": {},
   "outputs": [],
   "source": [
    "null_vals = np.random.normal(0, np.std(diff_means), int(1e4))"
   ]
  },
  {
   "cell_type": "code",
   "execution_count": 24,
   "id": "5ad8a6bb",
   "metadata": {},
   "outputs": [
    {
     "data": {
      "image/png": "[encoded data removed]",
      "text/plain": [
       "<Figure size 432x288 with 1 Axes>"
      ]
     },
     "metadata": {
      "needs_background": "light"
     },
     "output_type": "display_data"
    }
   ],
   "source": [
    "plt.hist(null_vals);"
   ]
  },
  {
   "cell_type": "markdown",
   "id": "1be55a49",
   "metadata": {},
   "source": [
    "### What is a P-value Anyway?\n",
    "The definition of a p-value is **the probability of observing your statistic (or one more extreme in favor of the alternative) if the null hypothesis is true**.\n",
    "\n",
    "If your parameter is greater than some value in the alternative hypothesis, your shading will look like this to obtain your p-value:\n",
    "\n",
    "<img src=\"support-files/12_Hypothesis-Testing/h1-greater-than.png\" alt=\"h1-greater-than\" width=\"400\"/>\n",
    "\n",
    "If your parameter is less than some value in the alternative hypothesis, your shading would look like this to obtain your p-value:\n",
    "\n",
    "<img src=\"support-files/12_Hypothesis-Testing/h1-less-than.png\" alt=\"h1-less-than\" width=\"400\"/>\n",
    "\n",
    "If your parameter is not equal to some value in the alternative hypothesis, your shading would look like this to obtain your p-value:\n",
    "\n",
    "<img src=\"support-files/12_Hypothesis-Testing/h1-not-equal-to.png\" alt=\"h1-not-equal-to\" width=\"400\"/>\n",
    "\n",
    "#### Calculating P-value"
   ]
  },
  {
   "cell_type": "code",
   "execution_count": 25,
   "id": "311a0b3e",
   "metadata": {},
   "outputs": [],
   "source": [
    "# create a sample from our data\n",
    "sample_df = df.sample(150)"
   ]
  },
  {
   "cell_type": "code",
   "execution_count": 26,
   "id": "060f1b90",
   "metadata": {},
   "outputs": [],
   "source": [
    "# create our bootstrap sample\n",
    "bootsample = sample_df.sample(150, replace=True)"
   ]
  },
  {
   "cell_type": "code",
   "execution_count": 27,
   "id": "05156567",
   "metadata": {},
   "outputs": [],
   "source": [
    "# bootstrap from the sample\n",
    "means = []\n",
    "for _ in range(int(1e4)):\n",
    "    bootsample = sample_df.sample(150, replace=True)\n",
    "    means.append(bootsample['height'].mean())"
   ]
  },
  {
   "cell_type": "code",
   "execution_count": 28,
   "id": "1bde52f9",
   "metadata": {},
   "outputs": [
    {
     "data": {
      "text/plain": [
       "0.2532075226095114"
      ]
     },
     "execution_count": 28,
     "metadata": {},
     "output_type": "execute_result"
    }
   ],
   "source": [
    "# standard deviation\n",
    "np.std(means)"
   ]
  },
  {
   "cell_type": "code",
   "execution_count": 29,
   "id": "af5070e8",
   "metadata": {},
   "outputs": [],
   "source": [
    "# create a random sample for the null values\n",
    "null_vals = np.random.normal(70, np.std(means), int(1e4))"
   ]
  },
  {
   "cell_type": "code",
   "execution_count": 30,
   "id": "355c4455",
   "metadata": {},
   "outputs": [
    {
     "data": {
      "image/png": "[encoded data removed]",
      "text/plain": [
       "<Figure size 432x288 with 1 Axes>"
      ]
     },
     "metadata": {
      "needs_background": "light"
     },
     "output_type": "display_data"
    }
   ],
   "source": [
    "# plot the null values\n",
    "plt.hist(null_vals)\n",
    "plt.axvline(sample_df['height'].mean(), color='r');"
   ]
  },
  {
   "cell_type": "code",
   "execution_count": 31,
   "id": "e79380fa",
   "metadata": {},
   "outputs": [
    {
     "data": {
      "text/plain": [
       "67.8217119009756"
      ]
     },
     "execution_count": 31,
     "metadata": {},
     "output_type": "execute_result"
    }
   ],
   "source": [
    "# find the sample mean\n",
    "sample_mean = sample_df['height'].mean()\n",
    "sample_mean"
   ]
  },
  {
   "cell_type": "markdown",
   "id": "6de2092d",
   "metadata": {},
   "source": [
    "Scenario:\n",
    "\n",
    "$ H_{0}: \\mu \\leqslant 70 $\n",
    "\n",
    "$ H_{1}: \\mu > 70 $\n",
    "\n",
    "Consider $\\mu$ as the average height of all individuals in the dataset. Both coffee drinks and non-coffee drinkers"
   ]
  },
  {
   "cell_type": "code",
   "execution_count": 32,
   "id": "f4c5829f",
   "metadata": {},
   "outputs": [
    {
     "data": {
      "text/plain": [
       "1.0"
      ]
     },
     "execution_count": 32,
     "metadata": {},
     "output_type": "execute_result"
    }
   ],
   "source": [
    "# calculate the p-value\n",
    "(null_vals > sample_mean).mean()"
   ]
  },
  {
   "cell_type": "markdown",
   "id": "a372561a",
   "metadata": {},
   "source": [
    "The result above suggests that we should stay with the mean being equal to or less than 70. In other words, we should **not reject our null hypothesis ($H_{0}$)**."
   ]
  },
  {
   "cell_type": "markdown",
   "id": "c18e960f",
   "metadata": {},
   "source": [
    "New scenario\n",
    "\n",
    "$H_0: \\mu \\geqslant 70$\n",
    "\n",
    "$H_1: \\mu < 70$"
   ]
  },
  {
   "cell_type": "code",
   "execution_count": 33,
   "id": "bb177fb4",
   "metadata": {},
   "outputs": [
    {
     "data": {
      "text/plain": [
       "0.0"
      ]
     },
     "execution_count": 33,
     "metadata": {},
     "output_type": "execute_result"
    }
   ],
   "source": [
    "(null_vals < sample_mean).mean()"
   ]
  },
  {
   "cell_type": "markdown",
   "id": "3565d0e9",
   "metadata": {},
   "source": [
    "This result suggest we **reject the null hypothesis ($H_{0}$)** in favor of the alternative, which suggests that the population mean is indeed less than 70."
   ]
  },
  {
   "cell_type": "markdown",
   "id": "c8f2e297",
   "metadata": {},
   "source": [
    "New scenario\n",
    "\n",
    "$H_0: \\mu = 70$\n",
    "\n",
    "$H_1: \\mu \\neq 70$"
   ]
  },
  {
   "cell_type": "code",
   "execution_count": 34,
   "id": "e81c980b",
   "metadata": {},
   "outputs": [
    {
     "data": {
      "text/plain": [
       "0.0"
      ]
     },
     "execution_count": 34,
     "metadata": {},
     "output_type": "execute_result"
    }
   ],
   "source": [
    "null_mean = 70\n",
    "(null_vals < sample_mean).mean() + (null_vals > null_mean + (null_mean - sample_mean)).mean()"
   ]
  },
  {
   "cell_type": "code",
   "execution_count": 35,
   "id": "fef3a863",
   "metadata": {},
   "outputs": [
    {
     "data": {
      "image/png": "[encoded data removed]",
      "text/plain": [
       "<Figure size 432x288 with 1 Axes>"
      ]
     },
     "metadata": {
      "needs_background": "light"
     },
     "output_type": "display_data"
    }
   ],
   "source": [
    "low = sample_mean\n",
    "high = null_mean + (null_mean - sample_mean)\n",
    "\n",
    "plt.hist(null_vals)\n",
    "plt.axvline(low, color='r', linewidth=2)\n",
    "plt.axvline(high, color='r', linewidth=2);"
   ]
  },
  {
   "cell_type": "markdown",
   "id": "6c9f60a4",
   "metadata": {},
   "source": [
    "There are essentially no data points from our null hypothesis that fall outside of this region. Again, we would have evidence to suggest that the null hypothesized value **did not** generate our sample statistic. We thus **reject the null hypothesis ($H_{0}$)**."
   ]
  },
  {
   "cell_type": "markdown",
   "id": "7011fc5e",
   "metadata": {},
   "source": [
    "#### Quiz: What is a p-value anyway?\n",
    "\n",
    "1. Consider you have implemented a new program in the office to improve company morale. You measure employee morale for each employee via an assessment before and after the program. You want to see if the program was successful.\n",
    "\n",
    "$H_{0}: \\mu_{new} \\leqslant \\mu_{old} $\n",
    "\n",
    "$H_{1}: \\mu_{new} > \\mu_{old} $\n",
    "\n",
    "- Deciding there was no change in morale, but there actually was an increase: `TYPE II ERROR`\n",
    "- Deciding the program increased morale, but it actually didn't: `TYPE I ERROR`\n",
    "- There was no change in the average morale of the company: `NULL HYPOTHESIS`\n",
    "- The new program on average increased morale: `ALTERNATIVE HYPOTHESIS`\n",
    "- The probability of the observed change in average morale occurring or an average change even more in favor of an increase in morale given there was actually no change in morale: `p-value`\n",
    "\n",
    "2. \n",
    "\n",
    "\n",
    "$ H_{0}: \\mu \\geqslant 5 $\n",
    "\n",
    "$ H_{1}: \\mu < 5 $\n",
    "\n",
    "$\\bar{x} = 10 $\n",
    "\n",
    "In this case, we would expect the p-value to be greater than 50%.\n",
    "\n",
    "Because 10 is to the right of the null mean of 5, and the alternative is less than, we shade to the left - this would shade more than half of the distribution. Imagine marking the center of the distribution at 5 and where 10 would be. Then you mark the 10, and shade according to the alternative (less than).\n",
    "\n",
    "Since the population is much greater than 5 (at 10), this suggests we should stick with the null. It is actually always the case that when your p-value is large you will end up staying with the null hypothesis as your choice.\n",
    "\n",
    "3. \n",
    "\n",
    "\n",
    "$ H_{0}: \\mu \\leqslant 5 $\n",
    "\n",
    "$ H_{1}: \\mu > 5 $\n",
    "\n",
    "$\\bar{x} = 10 $\n",
    "\n",
    "In this case, we would expect the p-value to be less than 50%.\n",
    "\n",
    "Because 10 is to the right of the null mean of 5, and the alternative is greater than, we shade to the right - this would shade less than half of the distribution. Imagine marking the center of the distribution at 5 and where 10 would be. Then you mark the 10, and shade according to the alternative (greater than).\n",
    "\n",
    "Since the population mean is much greater than 5 (at 10), this suggests we should move to the alternative. It is actually always the case that when your p-value is small you will end up moving to the alternative hypothesis.\n",
    "\n",
    "### Connecting Errors and P-Values\n",
    "\n",
    "The p-value is the probability of getting our statistic or a more extreme value if the null is true.\n",
    "\n",
    "Therefore, small p-values suggest our null is not true. Rather, our statistic is likely to have come from a different distribution than the null.\n",
    "\n",
    "When the p-value is large, we have evidence that our statistic was likely to come from the null hypothesis. Therefore, we do not have evidence to reject the null.\n",
    "\n",
    "By comparing our p-value to our type I error threshold ($\\alpha$), we can make our decision about which hypothesis we will choose.\n",
    "\n",
    "$ pvalue \\leqslant \\alpha $ ⇒ Reject $H_0 $\n",
    "\n",
    "$ pvalue > \\alpha ⇒ $ Fail to Reject $H_0 $\n",
    "\n",
    "### Conclusions in Hypothesis Testing\n",
    "\n",
    "The word **accept** is one that is **avoided** when making statements regarding the null and alternative. You are not stating that one of the hypotheses is true. Rather, you are making a decision based on the likelihood of your data coming from the null hypothesis concerning your type I error threshold.\n",
    "\n",
    "Therefore, the wording used in conclusions of hypothesis testing includes: **We reject the null hypothesis**, or **We fail to reject the null hypothesis**. This lends itself to the idea that you start with the null hypothesis true by default, and \"choosing\" the null at the end of the test would have been the choice even if no data were collected.\n",
    "\n",
    "#### Quiz: Drawing Conclusions\n",
    "Here are two datasets that represent two of the examples you have seen in this lesson.  \n",
    "\n",
    "One dataset is based on the parachute example, and the second is based on the judicial example. Neither of these datasets is based on real people."
   ]
  },
  {
   "cell_type": "code",
   "execution_count": 36,
   "id": "2b715666",
   "metadata": {},
   "outputs": [],
   "source": [
    "jud_data = pd.read_csv('support-files/12_Hypothesis-Testing/judicial_dataset_predictions.csv')\n",
    "par_data = pd.read_csv('support-files/12_Hypothesis-Testing/parachute_dataset.csv')"
   ]
  },
  {
   "cell_type": "markdown",
   "id": "26d01466",
   "metadata": {},
   "source": [
    "`1.` Using the **jud_data**, find the proportion of errors for the dataset, and furthermore, the percentage of errors of each type.  Use the results to answer the questions in quiz 1 below.  \n",
    "\n",
    "> **Hint for quiz:** an error is any time the prediction doesn't match an actual value.  Additionally, there are Type I and Type II errors to think about.  We also know we can minimize one type of error by maximizing the other type of error.  If we predict all individuals as innocent, how many of the guilty are incorrectly labeled?  Similarly, if we predict all individuals as guilty, how many of the innocent are incorrectly labeled?"
   ]
  },
  {
   "cell_type": "code",
   "execution_count": 37,
   "id": "ae30a26f",
   "metadata": {},
   "outputs": [
    {
     "data": {
      "text/html": [
       "<div>\n",
       "<style scoped>\n",
       "    .dataframe tbody tr th:only-of-type {\n",
       "        vertical-align: middle;\n",
       "    }\n",
       "\n",
       "    .dataframe tbody tr th {\n",
       "        vertical-align: top;\n",
       "    }\n",
       "\n",
       "    .dataframe thead th {\n",
       "        text-align: right;\n",
       "    }\n",
       "</style>\n",
       "<table border=\"1\" class=\"dataframe\">\n",
       "  <thead>\n",
       "    <tr style=\"text-align: right;\">\n",
       "      <th></th>\n",
       "      <th>defendant_id</th>\n",
       "      <th>actual</th>\n",
       "      <th>predicted</th>\n",
       "    </tr>\n",
       "  </thead>\n",
       "  <tbody>\n",
       "    <tr>\n",
       "      <th>0</th>\n",
       "      <td>22574</td>\n",
       "      <td>innocent</td>\n",
       "      <td>innocent</td>\n",
       "    </tr>\n",
       "    <tr>\n",
       "      <th>1</th>\n",
       "      <td>35637</td>\n",
       "      <td>innocent</td>\n",
       "      <td>innocent</td>\n",
       "    </tr>\n",
       "    <tr>\n",
       "      <th>2</th>\n",
       "      <td>39919</td>\n",
       "      <td>innocent</td>\n",
       "      <td>innocent</td>\n",
       "    </tr>\n",
       "    <tr>\n",
       "      <th>3</th>\n",
       "      <td>29610</td>\n",
       "      <td>guilty</td>\n",
       "      <td>guilty</td>\n",
       "    </tr>\n",
       "    <tr>\n",
       "      <th>4</th>\n",
       "      <td>38273</td>\n",
       "      <td>innocent</td>\n",
       "      <td>innocent</td>\n",
       "    </tr>\n",
       "  </tbody>\n",
       "</table>\n",
       "</div>"
      ],
      "text/plain": [
       "   defendant_id    actual predicted\n",
       "0         22574  innocent  innocent\n",
       "1         35637  innocent  innocent\n",
       "2         39919  innocent  innocent\n",
       "3         29610    guilty    guilty\n",
       "4         38273  innocent  innocent"
      ]
     },
     "execution_count": 37,
     "metadata": {},
     "output_type": "execute_result"
    }
   ],
   "source": [
    "jud_data.head()"
   ]
  },
  {
   "cell_type": "code",
   "execution_count": 38,
   "id": "daba6b9a",
   "metadata": {},
   "outputs": [
    {
     "data": {
      "text/plain": [
       "array(['innocent', 'guilty'], dtype=object)"
      ]
     },
     "execution_count": 38,
     "metadata": {},
     "output_type": "execute_result"
    }
   ],
   "source": [
    "jud_data['actual'].unique()"
   ]
  },
  {
   "cell_type": "code",
   "execution_count": 39,
   "id": "e23c0e59",
   "metadata": {},
   "outputs": [
    {
     "data": {
      "text/html": [
       "<div>\n",
       "<style scoped>\n",
       "    .dataframe tbody tr th:only-of-type {\n",
       "        vertical-align: middle;\n",
       "    }\n",
       "\n",
       "    .dataframe tbody tr th {\n",
       "        vertical-align: top;\n",
       "    }\n",
       "\n",
       "    .dataframe thead th {\n",
       "        text-align: right;\n",
       "    }\n",
       "</style>\n",
       "<table border=\"1\" class=\"dataframe\">\n",
       "  <thead>\n",
       "    <tr style=\"text-align: right;\">\n",
       "      <th></th>\n",
       "      <th>defendant_id</th>\n",
       "      <th>actual</th>\n",
       "      <th>predicted</th>\n",
       "      <th>actual_binary</th>\n",
       "    </tr>\n",
       "  </thead>\n",
       "  <tbody>\n",
       "    <tr>\n",
       "      <th>7278</th>\n",
       "      <td>20858</td>\n",
       "      <td>innocent</td>\n",
       "      <td>innocent</td>\n",
       "      <td>0</td>\n",
       "    </tr>\n",
       "    <tr>\n",
       "      <th>7279</th>\n",
       "      <td>31359</td>\n",
       "      <td>guilty</td>\n",
       "      <td>guilty</td>\n",
       "      <td>1</td>\n",
       "    </tr>\n",
       "    <tr>\n",
       "      <th>7280</th>\n",
       "      <td>32703</td>\n",
       "      <td>guilty</td>\n",
       "      <td>guilty</td>\n",
       "      <td>1</td>\n",
       "    </tr>\n",
       "    <tr>\n",
       "      <th>7281</th>\n",
       "      <td>23146</td>\n",
       "      <td>innocent</td>\n",
       "      <td>innocent</td>\n",
       "      <td>0</td>\n",
       "    </tr>\n",
       "    <tr>\n",
       "      <th>7282</th>\n",
       "      <td>28112</td>\n",
       "      <td>innocent</td>\n",
       "      <td>innocent</td>\n",
       "      <td>0</td>\n",
       "    </tr>\n",
       "  </tbody>\n",
       "</table>\n",
       "</div>"
      ],
      "text/plain": [
       "      defendant_id    actual predicted  actual_binary\n",
       "7278         20858  innocent  innocent              0\n",
       "7279         31359    guilty    guilty              1\n",
       "7280         32703    guilty    guilty              1\n",
       "7281         23146  innocent  innocent              0\n",
       "7282         28112  innocent  innocent              0"
      ]
     },
     "execution_count": 39,
     "metadata": {},
     "output_type": "execute_result"
    }
   ],
   "source": [
    "jud_data['actual_binary'] = jud_data['actual'].apply(lambda x: 0 if x == \"innocent\" else 1)\n",
    "jud_data.tail()"
   ]
  },
  {
   "cell_type": "code",
   "execution_count": 40,
   "id": "6c51199b",
   "metadata": {},
   "outputs": [
    {
     "data": {
      "text/html": [
       "<div>\n",
       "<style scoped>\n",
       "    .dataframe tbody tr th:only-of-type {\n",
       "        vertical-align: middle;\n",
       "    }\n",
       "\n",
       "    .dataframe tbody tr th {\n",
       "        vertical-align: top;\n",
       "    }\n",
       "\n",
       "    .dataframe thead th {\n",
       "        text-align: right;\n",
       "    }\n",
       "</style>\n",
       "<table border=\"1\" class=\"dataframe\">\n",
       "  <thead>\n",
       "    <tr style=\"text-align: right;\">\n",
       "      <th></th>\n",
       "      <th>defendant_id</th>\n",
       "      <th>actual</th>\n",
       "      <th>predicted</th>\n",
       "      <th>actual_binary</th>\n",
       "      <th>predicted_binary</th>\n",
       "    </tr>\n",
       "  </thead>\n",
       "  <tbody>\n",
       "    <tr>\n",
       "      <th>7278</th>\n",
       "      <td>20858</td>\n",
       "      <td>innocent</td>\n",
       "      <td>innocent</td>\n",
       "      <td>0</td>\n",
       "      <td>0</td>\n",
       "    </tr>\n",
       "    <tr>\n",
       "      <th>7279</th>\n",
       "      <td>31359</td>\n",
       "      <td>guilty</td>\n",
       "      <td>guilty</td>\n",
       "      <td>1</td>\n",
       "      <td>1</td>\n",
       "    </tr>\n",
       "    <tr>\n",
       "      <th>7280</th>\n",
       "      <td>32703</td>\n",
       "      <td>guilty</td>\n",
       "      <td>guilty</td>\n",
       "      <td>1</td>\n",
       "      <td>1</td>\n",
       "    </tr>\n",
       "    <tr>\n",
       "      <th>7281</th>\n",
       "      <td>23146</td>\n",
       "      <td>innocent</td>\n",
       "      <td>innocent</td>\n",
       "      <td>0</td>\n",
       "      <td>0</td>\n",
       "    </tr>\n",
       "    <tr>\n",
       "      <th>7282</th>\n",
       "      <td>28112</td>\n",
       "      <td>innocent</td>\n",
       "      <td>innocent</td>\n",
       "      <td>0</td>\n",
       "      <td>0</td>\n",
       "    </tr>\n",
       "  </tbody>\n",
       "</table>\n",
       "</div>"
      ],
      "text/plain": [
       "      defendant_id    actual predicted  actual_binary  predicted_binary\n",
       "7278         20858  innocent  innocent              0                 0\n",
       "7279         31359    guilty    guilty              1                 1\n",
       "7280         32703    guilty    guilty              1                 1\n",
       "7281         23146  innocent  innocent              0                 0\n",
       "7282         28112  innocent  innocent              0                 0"
      ]
     },
     "execution_count": 40,
     "metadata": {},
     "output_type": "execute_result"
    }
   ],
   "source": [
    "jud_data['predicted_binary'] = jud_data['predicted'].apply(lambda x: 0 if x == \"innocent\" else 1)\n",
    "jud_data.tail()"
   ]
  },
  {
   "cell_type": "code",
   "execution_count": 41,
   "id": "48ce3a3a",
   "metadata": {},
   "outputs": [
    {
     "data": {
      "text/html": [
       "<div>\n",
       "<style scoped>\n",
       "    .dataframe tbody tr th:only-of-type {\n",
       "        vertical-align: middle;\n",
       "    }\n",
       "\n",
       "    .dataframe tbody tr th {\n",
       "        vertical-align: top;\n",
       "    }\n",
       "\n",
       "    .dataframe thead th {\n",
       "        text-align: right;\n",
       "    }\n",
       "</style>\n",
       "<table border=\"1\" class=\"dataframe\">\n",
       "  <thead>\n",
       "    <tr style=\"text-align: right;\">\n",
       "      <th></th>\n",
       "      <th>defendant_id</th>\n",
       "      <th>actual</th>\n",
       "      <th>predicted</th>\n",
       "      <th>actual_binary</th>\n",
       "      <th>predicted_binary</th>\n",
       "    </tr>\n",
       "  </thead>\n",
       "  <tbody>\n",
       "    <tr>\n",
       "      <th>1744</th>\n",
       "      <td>24421</td>\n",
       "      <td>innocent</td>\n",
       "      <td>guilty</td>\n",
       "      <td>0</td>\n",
       "      <td>1</td>\n",
       "    </tr>\n",
       "    <tr>\n",
       "      <th>2457</th>\n",
       "      <td>24188</td>\n",
       "      <td>innocent</td>\n",
       "      <td>guilty</td>\n",
       "      <td>0</td>\n",
       "      <td>1</td>\n",
       "    </tr>\n",
       "    <tr>\n",
       "      <th>2877</th>\n",
       "      <td>29157</td>\n",
       "      <td>innocent</td>\n",
       "      <td>guilty</td>\n",
       "      <td>0</td>\n",
       "      <td>1</td>\n",
       "    </tr>\n",
       "    <tr>\n",
       "      <th>3142</th>\n",
       "      <td>23764</td>\n",
       "      <td>innocent</td>\n",
       "      <td>guilty</td>\n",
       "      <td>0</td>\n",
       "      <td>1</td>\n",
       "    </tr>\n",
       "    <tr>\n",
       "      <th>3673</th>\n",
       "      <td>20545</td>\n",
       "      <td>innocent</td>\n",
       "      <td>guilty</td>\n",
       "      <td>0</td>\n",
       "      <td>1</td>\n",
       "    </tr>\n",
       "  </tbody>\n",
       "</table>\n",
       "</div>"
      ],
      "text/plain": [
       "      defendant_id    actual predicted  actual_binary  predicted_binary\n",
       "1744         24421  innocent    guilty              0                 1\n",
       "2457         24188  innocent    guilty              0                 1\n",
       "2877         29157  innocent    guilty              0                 1\n",
       "3142         23764  innocent    guilty              0                 1\n",
       "3673         20545  innocent    guilty              0                 1"
      ]
     },
     "execution_count": 41,
     "metadata": {},
     "output_type": "execute_result"
    }
   ],
   "source": [
    "# df containing the type I errors, that is, choosing H1 when H0 is true (predicted = 1 and actual = 0)\n",
    "jud_type1 = jud_data.query('actual_binary == 0 and predicted_binary == 1')\n",
    "jud_type1.head()"
   ]
  },
  {
   "cell_type": "code",
   "execution_count": 42,
   "id": "5e1193f5",
   "metadata": {},
   "outputs": [
    {
     "data": {
      "text/plain": [
       "array([0], dtype=int64)"
      ]
     },
     "execution_count": 42,
     "metadata": {},
     "output_type": "execute_result"
    }
   ],
   "source": [
    "# checking to see if I actually got only the actual innocents (0)\n",
    "jud_type1['actual_binary'].unique()"
   ]
  },
  {
   "cell_type": "code",
   "execution_count": 43,
   "id": "621543b6",
   "metadata": {},
   "outputs": [
    {
     "data": {
      "text/plain": [
       "array([1], dtype=int64)"
      ]
     },
     "execution_count": 43,
     "metadata": {},
     "output_type": "execute_result"
    }
   ],
   "source": [
    "# checking to see if I actually got only the predicted guilty (1)\n",
    "jud_type1['predicted_binary'].unique()"
   ]
  },
  {
   "cell_type": "code",
   "execution_count": 44,
   "id": "1c6ba135",
   "metadata": {},
   "outputs": [
    {
     "data": {
      "text/plain": [
       "7283"
      ]
     },
     "execution_count": 44,
     "metadata": {},
     "output_type": "execute_result"
    }
   ],
   "source": [
    "# total number of rows in the dataset\n",
    "jud_data.shape[0]"
   ]
  },
  {
   "cell_type": "code",
   "execution_count": 45,
   "id": "8f67105e",
   "metadata": {},
   "outputs": [
    {
     "data": {
      "text/plain": [
       "11"
      ]
     },
     "execution_count": 45,
     "metadata": {},
     "output_type": "execute_result"
    }
   ],
   "source": [
    "# number of type 1 errors in the dataset\n",
    "jud_type1.shape[0]"
   ]
  },
  {
   "cell_type": "code",
   "execution_count": 46,
   "id": "5d0f68d3",
   "metadata": {},
   "outputs": [
    {
     "name": "stdout",
     "output_type": "stream",
     "text": [
      "The proportion of Type 1 errors is 0.15%.\n"
     ]
    }
   ],
   "source": [
    "# proportion of type 1 errors\n",
    "prop_jud_type1 = jud_type1.shape[0] / jud_data.shape[0]\n",
    "print(f'The proportion of Type 1 errors is {prop_jud_type1*100:.2f}%.')"
   ]
  },
  {
   "cell_type": "code",
   "execution_count": 47,
   "id": "782c0db3",
   "metadata": {},
   "outputs": [
    {
     "data": {
      "text/plain": [
       "0.001510366607167376"
      ]
     },
     "execution_count": 47,
     "metadata": {},
     "output_type": "execute_result"
    }
   ],
   "source": [
    "# another possibility for the type 1 errors\n",
    "jud_data.query(\"actual == 'innocent' and predicted == 'guilty'\").count()[0]/jud_data.shape[0] # Type 1 errors"
   ]
  },
  {
   "cell_type": "code",
   "execution_count": 48,
   "id": "241d266b",
   "metadata": {},
   "outputs": [
    {
     "data": {
      "text/html": [
       "<div>\n",
       "<style scoped>\n",
       "    .dataframe tbody tr th:only-of-type {\n",
       "        vertical-align: middle;\n",
       "    }\n",
       "\n",
       "    .dataframe tbody tr th {\n",
       "        vertical-align: top;\n",
       "    }\n",
       "\n",
       "    .dataframe thead th {\n",
       "        text-align: right;\n",
       "    }\n",
       "</style>\n",
       "<table border=\"1\" class=\"dataframe\">\n",
       "  <thead>\n",
       "    <tr style=\"text-align: right;\">\n",
       "      <th></th>\n",
       "      <th>defendant_id</th>\n",
       "      <th>actual</th>\n",
       "      <th>predicted</th>\n",
       "      <th>actual_binary</th>\n",
       "      <th>predicted_binary</th>\n",
       "    </tr>\n",
       "  </thead>\n",
       "  <tbody>\n",
       "    <tr>\n",
       "      <th>42</th>\n",
       "      <td>29430</td>\n",
       "      <td>guilty</td>\n",
       "      <td>innocent</td>\n",
       "      <td>1</td>\n",
       "      <td>0</td>\n",
       "    </tr>\n",
       "    <tr>\n",
       "      <th>44</th>\n",
       "      <td>29092</td>\n",
       "      <td>guilty</td>\n",
       "      <td>innocent</td>\n",
       "      <td>1</td>\n",
       "      <td>0</td>\n",
       "    </tr>\n",
       "    <tr>\n",
       "      <th>49</th>\n",
       "      <td>29012</td>\n",
       "      <td>guilty</td>\n",
       "      <td>innocent</td>\n",
       "      <td>1</td>\n",
       "      <td>0</td>\n",
       "    </tr>\n",
       "    <tr>\n",
       "      <th>56</th>\n",
       "      <td>26079</td>\n",
       "      <td>guilty</td>\n",
       "      <td>innocent</td>\n",
       "      <td>1</td>\n",
       "      <td>0</td>\n",
       "    </tr>\n",
       "    <tr>\n",
       "      <th>71</th>\n",
       "      <td>25523</td>\n",
       "      <td>guilty</td>\n",
       "      <td>innocent</td>\n",
       "      <td>1</td>\n",
       "      <td>0</td>\n",
       "    </tr>\n",
       "  </tbody>\n",
       "</table>\n",
       "</div>"
      ],
      "text/plain": [
       "    defendant_id  actual predicted  actual_binary  predicted_binary\n",
       "42         29430  guilty  innocent              1                 0\n",
       "44         29092  guilty  innocent              1                 0\n",
       "49         29012  guilty  innocent              1                 0\n",
       "56         26079  guilty  innocent              1                 0\n",
       "71         25523  guilty  innocent              1                 0"
      ]
     },
     "execution_count": 48,
     "metadata": {},
     "output_type": "execute_result"
    }
   ],
   "source": [
    "# df containing the type II errors, that is, choosing H0 when H1 is true (predicted = 0 and actual = 1)\n",
    "jud_type2 = jud_data.query('actual_binary == 1 and predicted_binary == 0')\n",
    "jud_type2.head()"
   ]
  },
  {
   "cell_type": "code",
   "execution_count": 49,
   "id": "6e2147db",
   "metadata": {},
   "outputs": [
    {
     "data": {
      "text/plain": [
       "296"
      ]
     },
     "execution_count": 49,
     "metadata": {},
     "output_type": "execute_result"
    }
   ],
   "source": [
    "# number of type 2 errors in the dataset\n",
    "jud_type2.shape[0]"
   ]
  },
  {
   "cell_type": "code",
   "execution_count": 50,
   "id": "3c28a449",
   "metadata": {},
   "outputs": [
    {
     "name": "stdout",
     "output_type": "stream",
     "text": [
      "The proportion of Type 2 errors is 4.06%.\n"
     ]
    }
   ],
   "source": [
    "# proportion of type 1 errors\n",
    "prop_jud_type2 = jud_type2.shape[0] / jud_data.shape[0]\n",
    "print(f'The proportion of Type 2 errors is {prop_jud_type2*100:.2f}%.')"
   ]
  },
  {
   "cell_type": "code",
   "execution_count": 51,
   "id": "a875053d",
   "metadata": {},
   "outputs": [
    {
     "data": {
      "text/plain": [
       "0.04064259233832212"
      ]
     },
     "execution_count": 51,
     "metadata": {},
     "output_type": "execute_result"
    }
   ],
   "source": [
    "# another possibility for the type 2 errors\n",
    "jud_data.query(\"actual == 'guilty' and predicted == 'innocent'\").count()[0]/jud_data.shape[0] # Type 2 errors"
   ]
  },
  {
   "cell_type": "code",
   "execution_count": 52,
   "id": "a99e0ec4",
   "metadata": {},
   "outputs": [
    {
     "data": {
      "text/plain": [
       "307"
      ]
     },
     "execution_count": 52,
     "metadata": {},
     "output_type": "execute_result"
    }
   ],
   "source": [
    "# total number of errors\n",
    "jud_type1.shape[0] + jud_type2.shape[0]"
   ]
  },
  {
   "cell_type": "code",
   "execution_count": 53,
   "id": "f6eaa4fb",
   "metadata": {},
   "outputs": [
    {
     "name": "stdout",
     "output_type": "stream",
     "text": [
      "The total percentage of errors is 4.22%.\n"
     ]
    }
   ],
   "source": [
    "# total percentage of errors\n",
    "prop_jud_errors = (jud_type1.shape[0] + jud_type2.shape[0]) / jud_data.shape[0]\n",
    "print(f'The total percentage of errors is {prop_jud_errors*100:.2f}%.')"
   ]
  },
  {
   "cell_type": "code",
   "execution_count": 54,
   "id": "ae5a6238",
   "metadata": {},
   "outputs": [
    {
     "name": "stdout",
     "output_type": "stream",
     "text": [
      "The total percentage of errors is 4.22%.\n"
     ]
    }
   ],
   "source": [
    "# another possibility for the proportion of errors\n",
    "prop_jud_errors = jud_data.query('actual != predicted').shape[0] / jud_data.shape[0]\n",
    "print(f'The total percentage of errors is {prop_jud_errors*100:.2f}%.')"
   ]
  },
  {
   "cell_type": "code",
   "execution_count": 55,
   "id": "2cae3330",
   "metadata": {},
   "outputs": [
    {
     "name": "stdout",
     "output_type": "stream",
     "text": [
      "If everyone was predicted to be guilty, the percentage of Type I Errors made would be 45.16%.\n"
     ]
    }
   ],
   "source": [
    "# Type 1 error: choosing H1 when H0 is true (finding an innocent person to be guilty)\n",
    "# prediction = guilty, actual = innocent\n",
    "# If we predict everyone to be guilty, then every innocent person represents a type 1 error\n",
    "\n",
    "scenario_type1 = jud_data.query('actual == \"innocent\"').shape[0] / jud_data.shape[0]\n",
    "print(f'If everyone was predicted to be guilty, the percentage of Type I Errors made would be {scenario_type1*100:.2f}%.')"
   ]
  },
  {
   "cell_type": "code",
   "execution_count": 56,
   "id": "ddaef414",
   "metadata": {},
   "outputs": [
    {
     "name": "stdout",
     "output_type": "stream",
     "text": [
      "If everyone was predicted to be guilty, the percentage of Type II Errors made would be 0%.\n"
     ]
    }
   ],
   "source": [
    "# Type 2 error: choosing H0 when H1 is true (finding a guilty person to be innocent)\n",
    "# prediction = innocent, actual = guilty\n",
    "# since the scenario here is predicting everyone is guilty, then no one is predicted innocent\n",
    "# therefore, there is no type 2 errors in this scenario\n",
    "scenario_type2 = 0\n",
    "print(f'If everyone was predicted to be guilty, the percentage of Type II Errors made would be {scenario_type2*100}%.')"
   ]
  },
  {
   "cell_type": "code",
   "execution_count": 57,
   "id": "c2bb7636",
   "metadata": {},
   "outputs": [
    {
     "name": "stdout",
     "output_type": "stream",
     "text": [
      "1. The total percentage of errors is 4.22%.\n",
      "2. The proportion of Type 1 errors is 0.15%.\n",
      "3. The proportion of Type 2 errors is 4.06%.\n",
      "4. If everyone was predicted to be guilty, the percentage of Type I Errors made would be 45.16%.\n",
      "5. If everyone was predicted to be guilty, the percentage of Type II Errors made would be 0%.\n"
     ]
    }
   ],
   "source": [
    "# to recap:\n",
    "print(f'1. The total percentage of errors is {prop_jud_errors*100:.2f}%.')\n",
    "print(f'2. The proportion of Type 1 errors is {prop_jud_type1*100:.2f}%.')\n",
    "print(f'3. The proportion of Type 2 errors is {prop_jud_type2*100:.2f}%.')\n",
    "print(f'4. If everyone was predicted to be guilty, the percentage of Type I Errors made would be {scenario_type1*100:.2f}%.')\n",
    "print(f'5. If everyone was predicted to be guilty, the percentage of Type II Errors made would be {scenario_type2*100}%.')"
   ]
  },
  {
   "cell_type": "markdown",
   "id": "e8384326",
   "metadata": {},
   "source": [
    "`2.` Using the **par_data**, find the proportion of errors for the dataset, and furthermore, the percentage of errors of each type.  Use the results to answer the questions in quiz 2 below.\n",
    "\n",
    "These should be very similar operations to those you performed in the previous question."
   ]
  },
  {
   "cell_type": "code",
   "execution_count": 58,
   "id": "b8a36cb4",
   "metadata": {},
   "outputs": [
    {
     "data": {
      "text/html": [
       "<div>\n",
       "<style scoped>\n",
       "    .dataframe tbody tr th:only-of-type {\n",
       "        vertical-align: middle;\n",
       "    }\n",
       "\n",
       "    .dataframe tbody tr th {\n",
       "        vertical-align: top;\n",
       "    }\n",
       "\n",
       "    .dataframe thead th {\n",
       "        text-align: right;\n",
       "    }\n",
       "</style>\n",
       "<table border=\"1\" class=\"dataframe\">\n",
       "  <thead>\n",
       "    <tr style=\"text-align: right;\">\n",
       "      <th></th>\n",
       "      <th>parachute_id</th>\n",
       "      <th>actual</th>\n",
       "      <th>predicted</th>\n",
       "    </tr>\n",
       "  </thead>\n",
       "  <tbody>\n",
       "    <tr>\n",
       "      <th>0</th>\n",
       "      <td>3956</td>\n",
       "      <td>opens</td>\n",
       "      <td>opens</td>\n",
       "    </tr>\n",
       "    <tr>\n",
       "      <th>1</th>\n",
       "      <td>2147</td>\n",
       "      <td>opens</td>\n",
       "      <td>opens</td>\n",
       "    </tr>\n",
       "    <tr>\n",
       "      <th>2</th>\n",
       "      <td>2024</td>\n",
       "      <td>opens</td>\n",
       "      <td>opens</td>\n",
       "    </tr>\n",
       "    <tr>\n",
       "      <th>3</th>\n",
       "      <td>8325</td>\n",
       "      <td>opens</td>\n",
       "      <td>opens</td>\n",
       "    </tr>\n",
       "    <tr>\n",
       "      <th>4</th>\n",
       "      <td>6598</td>\n",
       "      <td>opens</td>\n",
       "      <td>opens</td>\n",
       "    </tr>\n",
       "  </tbody>\n",
       "</table>\n",
       "</div>"
      ],
      "text/plain": [
       "   parachute_id actual predicted\n",
       "0          3956  opens     opens\n",
       "1          2147  opens     opens\n",
       "2          2024  opens     opens\n",
       "3          8325  opens     opens\n",
       "4          6598  opens     opens"
      ]
     },
     "execution_count": 58,
     "metadata": {},
     "output_type": "execute_result"
    }
   ],
   "source": [
    "par_data.head()"
   ]
  },
  {
   "cell_type": "code",
   "execution_count": 59,
   "id": "1279c897",
   "metadata": {},
   "outputs": [
    {
     "data": {
      "text/plain": [
       "array(['opens', 'fails'], dtype=object)"
      ]
     },
     "execution_count": 59,
     "metadata": {},
     "output_type": "execute_result"
    }
   ],
   "source": [
    "par_data['actual'].unique()"
   ]
  },
  {
   "cell_type": "code",
   "execution_count": 60,
   "id": "9701b68d",
   "metadata": {},
   "outputs": [
    {
     "name": "stdout",
     "output_type": "stream",
     "text": [
      "The proportion of Type 1 errors is 0.00017.\n"
     ]
    }
   ],
   "source": [
    "# type 1 errors\n",
    "# choosing H1 when H0 is true\n",
    "# prediction = opens, actual = fails\n",
    "prop_par_type1 = par_data.query('actual == \"fails\" and predicted == \"opens\"').count()[0] / par_data.shape[0]\n",
    "print(f'The proportion of Type 1 errors is {prop_par_type1:.5f}.')"
   ]
  },
  {
   "cell_type": "code",
   "execution_count": 61,
   "id": "94012126",
   "metadata": {},
   "outputs": [
    {
     "name": "stdout",
     "output_type": "stream",
     "text": [
      "The proportion of Type 2 errors is 0.03980.\n"
     ]
    }
   ],
   "source": [
    "# type 2 errors\n",
    "# choosing H0 when H1 is true \n",
    "# prediction = fails, actual = opens\n",
    "prop_par_type2 = par_data.query('actual == \"opens\" and predicted == \"fails\"').count()[0] / par_data.shape[0]\n",
    "print(f'The proportion of Type 2 errors is {prop_par_type2:.5f}.')"
   ]
  },
  {
   "cell_type": "code",
   "execution_count": 62,
   "id": "26342707",
   "metadata": {},
   "outputs": [
    {
     "name": "stdout",
     "output_type": "stream",
     "text": [
      "The total percentage of errors is 0.03997.\n"
     ]
    }
   ],
   "source": [
    "# total proportion of errors\n",
    "# way 1\n",
    "prop_par_errors = par_data.query('actual == \"fails\" and predicted == \"opens\" or actual == \"opens\" and predicted == \"fails\"').count()[0] / par_data.shape[0]\n",
    "print(f'The total percentage of errors is {prop_par_errors:.5f}.')"
   ]
  },
  {
   "cell_type": "code",
   "execution_count": 63,
   "id": "6fc68c6b",
   "metadata": {},
   "outputs": [
    {
     "name": "stdout",
     "output_type": "stream",
     "text": [
      "The total percentage of errors is 0.03997.\n"
     ]
    }
   ],
   "source": [
    "# total proportion of errors\n",
    "# way 2\n",
    "prop_par_errors = prop_par_type1 + prop_par_type2\n",
    "print(f'The total percentage of errors is {prop_par_errors:.5f}.')"
   ]
  },
  {
   "cell_type": "code",
   "execution_count": 64,
   "id": "124df373",
   "metadata": {},
   "outputs": [
    {
     "name": "stdout",
     "output_type": "stream",
     "text": [
      "If every parachute was predicted to not open, the proportion of Type I Errors made would be 0.\n"
     ]
    }
   ],
   "source": [
    "# If every parachute was predicted to not open, what is the proportion of type I errors made?\n",
    "# Type 1 error: choosing H1 when H0 is true\n",
    "# Prediction = opens, actual = fails \n",
    "\n",
    "# If every parachute was predicted to not open, then none of them was predicted to open, \n",
    "# which was what we needed to have a type 1 error. Therefore:\n",
    "\n",
    "scenario_par_type1 = 0\n",
    "print(f'If every parachute was predicted to not open, the proportion of Type I Errors made would be {scenario_par_type1}.')"
   ]
  },
  {
   "cell_type": "code",
   "execution_count": 65,
   "id": "81e3206e",
   "metadata": {},
   "outputs": [
    {
     "name": "stdout",
     "output_type": "stream",
     "text": [
      "If every parachute was predicted to not open, the proportion of Type II Errors made would be 0.99177.\n"
     ]
    }
   ],
   "source": [
    "# If every parachute was predicted to not open, what is the proportion of Type II Errors made?  \n",
    "# Type 2 error: choosing H0 when H1 is true\n",
    "# Prediction = fails, actual = opens\n",
    "\n",
    "# if every parachute is predicted to not open, then every parachute that actually opens is considered a type 2 error\n",
    "scenario_par_type2 = par_data.query('actual == \"opens\"').count()[0] / par_data.shape[0]\n",
    "print(f'If every parachute was predicted to not open, the proportion of Type II Errors made would be {scenario_par_type2:.5f}.')"
   ]
  },
  {
   "cell_type": "code",
   "execution_count": 66,
   "id": "d8e5829d",
   "metadata": {},
   "outputs": [
    {
     "name": "stdout",
     "output_type": "stream",
     "text": [
      "1. The total percentage of errors is 0.03997.\n",
      "2. The proportion of Type 1 errors is 0.00017.\n",
      "3. The proportion of Type 2 errors is 0.03980.\n",
      "4. If every parachute was predicted to not open, the proportion of Type I Errors made would be 0.\n",
      "5. If every parachute was predicted to not open, the proportion of Type II Errors made would be 0.99177.\n"
     ]
    }
   ],
   "source": [
    "# to recap:\n",
    "print(f'1. The total percentage of errors is {prop_par_errors:.5f}.')\n",
    "print(f'2. The proportion of Type 1 errors is {prop_par_type1:.5f}.')\n",
    "print(f'3. The proportion of Type 2 errors is {prop_par_type2:.5f}.')\n",
    "print(f'4. If every parachute was predicted to not open, the proportion of Type I Errors made would be {scenario_par_type1}.')\n",
    "print(f'5. If every parachute was predicted to not open, the proportion of Type II Errors made would be {scenario_par_type2:.5f}.')"
   ]
  },
  {
   "cell_type": "markdown",
   "id": "ed3371bc",
   "metadata": {},
   "source": [
    "### Other Things to Consider\n",
    "\n",
    "#### 1. Impact of large sample size\n",
    "**Hypothesis Testing vs. Machine Learning**\n",
    "\n",
    "With large sample sizes, hypothesis testing leads to even the smallest of findings as **statistically significant**. However, these findings might not be practically significant at all.\n",
    "\n",
    "For example, imagine you find that **statistically** more people prefer beverage 1 to beverage 2 in a study of more than one million people. Based on this, you decide to open a shop to sell beverage 1. You then find out that beverage 1 is only more popular than beverage 2 by 0.0002% (but a statistically significant amount with your large sample size). Practically, maybe you should have opened a store that sold both.\n",
    "\n",
    "Hypothesis testing takes an aggregate approach towards the conclusions made based on data, as these tests aim to understand population parameters (aggregate population values).\n",
    "\n",
    "Alternatively, machine learning techniques take an individual approach towards making conclusions, as they attempt to predict an outcome for each specific data point.\n",
    "\n",
    "In the final lessons of this class, you will learn about two of the most fundamental machine learning approaches used in practice: **linear** and **logistic** regression.\n",
    "\n",
    "#### 2. What if we test more than once?\n",
    "When performing more than one hypothesis test, your type I error compounds. To correct this, a common technique is called the **Bonferroni** correction. This correction is **very conservative** but says that your new type I error rate should be the error rate you actually want to be divided by the number of tests you perform.\n",
    "\n",
    "Therefore, if you would like to hold a type I error rate of 1% for each of the 20 hypothesis tests, the Bonferroni corrected rate would be 0.01/20 = 0.0005. This would be the new rate you should use to compare the p-value for each of the 20 tests to make your decision.\n",
    "\n",
    "**Other Techniques**\n",
    "Additional techniques to protect against compounding type I errors include:\n",
    "\n",
    "1. [Tukey correction](http://www.itl.nist.gov/div898/handbook/prc/section4/prc471.htm)\n",
    "2. [Q-values](http://www.nonlinear.com/support/progenesis/comet/faq/v2.0/pq-values.aspx)\n",
    "\n",
    "#### Quiz: The Impact of Large Sample Sizes\n",
    "\n",
    "When we increase our sample size, even the smallest of differences may seem significant.  \n",
    "\n",
    "To illustrate this point, work through this notebook."
   ]
  },
  {
   "cell_type": "code",
   "execution_count": 67,
   "id": "8ce9de98",
   "metadata": {},
   "outputs": [],
   "source": [
    "np.random.seed(42)\n",
    "full_data = pd.read_csv('support-files/12_Hypothesis-Testing/coffee_dataset.csv')"
   ]
  },
  {
   "cell_type": "markdown",
   "id": "25aa9166",
   "metadata": {},
   "source": [
    "`1.` In this case, imagine we are interested in testing if the mean height of all individuals in `full_data` is equal to 67.60 inches or **different** than 67.60.  First, state the null and alternative hypotheses for these cases in the cell below. "
   ]
  },
  {
   "cell_type": "markdown",
   "id": "711e2c16",
   "metadata": {},
   "source": [
    "$$ H_{0}: \\mu = 67.60 $$\n",
    "\n",
    "$$ H_{1}: \\mu \\neq 67.60 $$\n",
    "\n",
    "Consider $ \\mu $ as the mean height of everyone in the population."
   ]
  },
  {
   "cell_type": "markdown",
   "id": "db62176a",
   "metadata": {},
   "source": [
    "`2.` Find:\n",
    "* What is the population mean height?  \n",
    "* What is the standard deviation of the population heights?  \n",
    "* Create a sample set of data using the code below.  \n",
    "* What is the sample mean height?  Simulate the sampling distribution for the mean of five values to see the shape and plot a histogram. \n",
    "* What is the standard deviation of the sampling distribution of the mean of five draws? "
   ]
  },
  {
   "cell_type": "code",
   "execution_count": 68,
   "id": "9150911d",
   "metadata": {},
   "outputs": [
    {
     "data": {
      "text/plain": [
       "67.59748697307937"
      ]
     },
     "execution_count": 68,
     "metadata": {},
     "output_type": "execute_result"
    }
   ],
   "source": [
    "# population mean height\n",
    "full_data['height'].mean()"
   ]
  },
  {
   "cell_type": "code",
   "execution_count": 69,
   "id": "7891bb08",
   "metadata": {},
   "outputs": [
    {
     "data": {
      "text/plain": [
       "3.1189087116821472"
      ]
     },
     "execution_count": 69,
     "metadata": {},
     "output_type": "execute_result"
    }
   ],
   "source": [
    "# standard deviation of the pop heights\n",
    "np.std(full_data['height'])"
   ]
  },
  {
   "cell_type": "code",
   "execution_count": 70,
   "id": "9d1d848d",
   "metadata": {},
   "outputs": [],
   "source": [
    "# create a sample set of the data\n",
    "sample1 = full_data.sample(5)"
   ]
  },
  {
   "cell_type": "code",
   "execution_count": 71,
   "id": "5778eb67",
   "metadata": {},
   "outputs": [
    {
     "data": {
      "text/plain": [
       "67.88234252049084"
      ]
     },
     "execution_count": 71,
     "metadata": {},
     "output_type": "execute_result"
    }
   ],
   "source": [
    "# what is the sample mean height?\n",
    "obs_mean = sample1['height'].mean()\n",
    "obs_mean"
   ]
  },
  {
   "cell_type": "code",
   "execution_count": 72,
   "id": "7df4c63e",
   "metadata": {},
   "outputs": [],
   "source": [
    "# simulate the sampling distribution for the mean of five values to see the shape\n",
    "sampling_dist_mean5 = []\n",
    "\n",
    "for _ in range(int(1e4)):\n",
    "    bootsample = sample1.sample(5, replace=True)\n",
    "    sampling_dist_mean5.append(bootsample['height'].mean())\n",
    "\n",
    "sampling_dist_mean5 = np.array(sampling_dist_mean5)"
   ]
  },
  {
   "cell_type": "code",
   "execution_count": 73,
   "id": "e08b5bfd",
   "metadata": {},
   "outputs": [
    {
     "data": {
      "image/png": "[encoded data removed]",
      "text/plain": [
       "<Figure size 432x288 with 1 Axes>"
      ]
     },
     "metadata": {
      "needs_background": "light"
     },
     "output_type": "display_data"
    }
   ],
   "source": [
    "plt.hist(sampling_dist_mean5);"
   ]
  },
  {
   "cell_type": "code",
   "execution_count": 74,
   "id": "383c9866",
   "metadata": {},
   "outputs": [
    {
     "data": {
      "text/plain": [
       "1.1413573519993707"
      ]
     },
     "execution_count": 74,
     "metadata": {},
     "output_type": "execute_result"
    }
   ],
   "source": [
    "# standard deviation of the sampling distribution of the mean of five draws\n",
    "sampling_dist_mean5 = np.std(sampling_dist_mean5)\n",
    "sampling_dist_mean5"
   ]
  },
  {
   "cell_type": "markdown",
   "id": "9e80084e",
   "metadata": {},
   "source": [
    "`3.` Using your null and alternative hypotheses as set up in question 1 and the results of your sampling distribution in question 2, simulate values of the mean values that you would expect from the null hypothesis.  Use these simulated values to determine a p-value to make a decision about your null and alternative hypotheses.  Check your solution using **quiz 3** and **quiz 4** below.\n",
    "\n",
    "**Hint:** Use the numpy documentation [here](https://docs.scipy.org/doc/numpy-1.13.0/reference/generated/numpy.random.normal.html) to assist with your solution.\n",
    "\n",
    "$$ H_{0}: \\mu = 67.60 $$\n",
    "\n",
    "$$ H_{1}: \\mu \\neq 67.60 $$\n",
    "\n",
    "Consider $ \\mu $ as the mean height of everyone in the population."
   ]
  },
  {
   "cell_type": "code",
   "execution_count": 75,
   "id": "3407dd00",
   "metadata": {},
   "outputs": [
    {
     "data": {
      "image/png": "[encoded data removed]",
      "text/plain": [
       "<Figure size 432x288 with 1 Axes>"
      ]
     },
     "metadata": {
      "needs_background": "light"
     },
     "output_type": "display_data"
    }
   ],
   "source": [
    "null_vals_5 = np.random.normal(67.60, sampling_dist_mean5, int(1e4))\n",
    "\n",
    "plt.hist(null_vals_5)\n",
    "plt.axvline(obs_mean, color='red', linewidth=2); # where our sample mean falls on null dist"
   ]
  },
  {
   "cell_type": "code",
   "execution_count": 76,
   "id": "04186880",
   "metadata": {},
   "outputs": [
    {
     "data": {
      "text/plain": [
       "67.88234252049084"
      ]
     },
     "execution_count": 76,
     "metadata": {},
     "output_type": "execute_result"
    }
   ],
   "source": [
    "obs_mean = sample1['height'].mean()\n",
    "obs_mean"
   ]
  },
  {
   "cell_type": "code",
   "execution_count": 77,
   "id": "012f3d34",
   "metadata": {},
   "outputs": [
    {
     "data": {
      "text/plain": [
       "67.59748697307937"
      ]
     },
     "execution_count": 77,
     "metadata": {},
     "output_type": "execute_result"
    }
   ],
   "source": [
    "null_mean = full_data['height'].mean()\n",
    "null_mean"
   ]
  },
  {
   "cell_type": "code",
   "execution_count": 78,
   "id": "06ed23ce",
   "metadata": {},
   "outputs": [
    {
     "data": {
      "text/plain": [
       "0.8033"
      ]
     },
     "execution_count": 78,
     "metadata": {},
     "output_type": "execute_result"
    }
   ],
   "source": [
    "# for a two sided hypothesis, we want to look at anything \n",
    "# more extreme from the null in both directions\n",
    "\n",
    "# probability of a statistic higher than observed\n",
    "prob_more_extreme_high = (null_vals_5 > obs_mean).mean()\n",
    "\n",
    "# probability of a statistic is more extreme lower\n",
    "prob_more_extreme_low = (null_vals_5 < null_mean - (obs_mean - null_mean)).mean()\n",
    "\n",
    "pval1 = prob_more_extreme_low + prob_more_extreme_high\n",
    "pval1"
   ]
  },
  {
   "cell_type": "markdown",
   "id": "2c0a6bfd",
   "metadata": {},
   "source": [
    "**The above shows a second possible method for obtaining the p-value.  These are pretty different, stability of these values with such a small sample size is an issue. We are essentially shading outside the lines below.**"
   ]
  },
  {
   "cell_type": "code",
   "execution_count": 79,
   "id": "e65ee4b3",
   "metadata": {},
   "outputs": [
    {
     "data": {
      "image/png": "[encoded data removed]",
      "text/plain": [
       "<Figure size 432x288 with 1 Axes>"
      ]
     },
     "metadata": {
      "needs_background": "light"
     },
     "output_type": "display_data"
    }
   ],
   "source": [
    "upper_bound = obs_mean\n",
    "lower_bound = null_mean - (obs_mean - null_mean)\n",
    "\n",
    "plt.hist(null_vals_5)\n",
    "plt.axvline(lower_bound, color='r', linewidth=2) # where our sample mean falls on null dist\n",
    "plt.axvline(upper_bound, color='r', linewidth=2); # where our sample mean falls on null dist"
   ]
  },
  {
   "cell_type": "markdown",
   "id": "00b3798d",
   "metadata": {},
   "source": [
    "`4.` Now imagine if you received the same sample mean as you calculated from the sample in question 1 above, but that you actually retrieved it from a sample of 300.  What would the new standard deviation be for your sampling distribution for the mean of 300 values?  Additionally, what would your new p-value be for choosing between the null and alternative hypotheses you set up? Simulate the sampling distribution for the mean to see the shape and plot a histogram.\n",
    "\n",
    "**Hint:**  If you get stuck, notice you can use the solution from quiz regarding finding the p-value earlier to assist with obtaining this answer with just a few small changes."
   ]
  },
  {
   "cell_type": "code",
   "execution_count": 80,
   "id": "fc7a7d5e",
   "metadata": {},
   "outputs": [
    {
     "data": {
      "text/plain": [
       "67.88234252049084"
      ]
     },
     "execution_count": 80,
     "metadata": {},
     "output_type": "execute_result"
    }
   ],
   "source": [
    "sample2 = full_data.sample(300, random_state=63)\n",
    "obs_mean # the obs_mean will remain the same as the last exercise, as per the directions above"
   ]
  },
  {
   "cell_type": "code",
   "execution_count": 81,
   "id": "f1c67faf",
   "metadata": {},
   "outputs": [],
   "source": [
    "sampling_dist_mean300 = []\n",
    "\n",
    "for _ in range(int(1e4)):\n",
    "    bootsample = sample2.sample(300, replace=True)\n",
    "    sampling_dist_mean300.append(bootsample['height'].mean())\n",
    "\n",
    "std_sampling_dist300 = np.std(sampling_dist_mean300)\n",
    "\n",
    "null_vals_300 = np.random.normal(67.60, std_sampling_dist300, int(1e4))"
   ]
  },
  {
   "cell_type": "code",
   "execution_count": 82,
   "id": "23cee779",
   "metadata": {},
   "outputs": [
    {
     "data": {
      "image/png": "[encoded data removed]",
      "text/plain": [
       "<Figure size 432x288 with 1 Axes>"
      ]
     },
     "metadata": {
      "needs_background": "light"
     },
     "output_type": "display_data"
    }
   ],
   "source": [
    "upper_bound = obs_mean\n",
    "lower_bound = null_mean - (obs_mean - null_mean)\n",
    "\n",
    "plt.hist(null_vals_300)\n",
    "plt.axvline(lower_bound, color='r', linewidth=2) # where our sample mean falls on null dist\n",
    "plt.axvline(upper_bound, color='r', linewidth=2); # where our sample mean falls on null dist"
   ]
  },
  {
   "cell_type": "code",
   "execution_count": 83,
   "id": "c4181d60",
   "metadata": {},
   "outputs": [
    {
     "data": {
      "text/plain": [
       "0.1355"
      ]
     },
     "execution_count": 83,
     "metadata": {},
     "output_type": "execute_result"
    }
   ],
   "source": [
    "# for a two-sided hypothesis, we want to look at everything\n",
    "# more extreme from the null in both directions\n",
    "\n",
    "# probability of a statistic lower than observed\n",
    "prob_more_extreme_low = (null_vals_300 < lower_bound).mean()\n",
    "\n",
    "# probability of a statistic higher than observed\n",
    "prob_more_extreme_high = (null_vals_300 > upper_bound).mean()\n",
    "\n",
    "pval2 = prob_more_extreme_high + prob_more_extreme_low\n",
    "pval2"
   ]
  },
  {
   "cell_type": "code",
   "execution_count": 84,
   "id": "c26301d6",
   "metadata": {},
   "outputs": [
    {
     "data": {
      "text/plain": [
       "0.18966890386082375"
      ]
     },
     "execution_count": 84,
     "metadata": {},
     "output_type": "execute_result"
    }
   ],
   "source": [
    "# The standard deviation of the sampling distribution for the mean of 300 draws\n",
    "std_sampling_dist300"
   ]
  },
  {
   "cell_type": "code",
   "execution_count": 85,
   "id": "9ac7f29e",
   "metadata": {},
   "outputs": [
    {
     "data": {
      "image/png": "[encoded data removed]",
      "text/plain": [
       "<Figure size 720x504 with 1 Axes>"
      ]
     },
     "metadata": {
      "needs_background": "light"
     },
     "output_type": "display_data"
    }
   ],
   "source": [
    "fig, ax = plt.subplots(figsize= [10, 7])\n",
    "\n",
    "ax.hist(null_vals_5, bins = 50, color = 'black', label = 'Sample Size 5')\n",
    "ax.hist(null_vals_300, bins = 50, color = 'darkgrey', label = 'Sample Size 300')\n",
    "ax.axvline(upper_bound, color = 'red', label = 'True Mean - Sample Size 5')\n",
    "ax.axvline(lower_bound, color = 'yellow', label = 'Flipped Mean - Sample Size 5')\n",
    "plt.legend();"
   ]
  },
  {
   "cell_type": "markdown",
   "id": "2351093a",
   "metadata": {},
   "source": [
    "The original quiz solutions are wrong for this one, but [this](https://knowledge.udacity.com/questions/723587) discussion explains why with large sample sizes we will essentialy reject every null hypothesis ($H_{0}$)."
   ]
  },
  {
   "cell_type": "code",
   "execution_count": 86,
   "id": "a77380db",
   "metadata": {},
   "outputs": [
    {
     "name": "stdout",
     "output_type": "stream",
     "text": [
      "The p-value went from 0.80 with the sample of 5 to 0.14 with the sample of 300.\n",
      "This means that in the first example, the large p-value (0.80) suggest we fail to reject the null hypothesis (H0).\n",
      "In the second example, we might reject the null hypothesis (H0) if our alpha is bigger than 0.13, say, 0.15 or 15%.\n",
      "Remember that alpha is our threshold for committing Type I Errors (choosing H1 when H0 is actually true).\n"
     ]
    }
   ],
   "source": [
    "# print('The sampling distribution narrows as the sample size increases!') \n",
    "print(f'The p-value went from {pval1:.2f} with the sample of 5 to {pval2:.2f} with the sample of 300.')\n",
    "print(f'This means that in the first example, the large p-value ({pval1:.2f}) suggest we fail to reject the null hypothesis (H0).')\n",
    "print('In the second example, we might reject the null hypothesis (H0) if our alpha is bigger than 0.13, say, 0.15 or 15%.')\n",
    "print('Remember that alpha is our threshold for committing Type I Errors (choosing H1 when H0 is actually true).')"
   ]
  },
  {
   "cell_type": "markdown",
   "id": "620f4da2",
   "metadata": {},
   "source": [
    "### Quiz: Multiple Tests\n",
    "\n",
    "In this notebook, you will work with a similar dataset to the judicial dataset you were working with before.  However, instead of working with decisions already being provided, you are provided with a p-value associated with each individual.  "
   ]
  },
  {
   "cell_type": "code",
   "execution_count": 87,
   "id": "1c49fcd8",
   "metadata": {},
   "outputs": [
    {
     "data": {
      "text/html": [
       "<div>\n",
       "<style scoped>\n",
       "    .dataframe tbody tr th:only-of-type {\n",
       "        vertical-align: middle;\n",
       "    }\n",
       "\n",
       "    .dataframe tbody tr th {\n",
       "        vertical-align: top;\n",
       "    }\n",
       "\n",
       "    .dataframe thead th {\n",
       "        text-align: right;\n",
       "    }\n",
       "</style>\n",
       "<table border=\"1\" class=\"dataframe\">\n",
       "  <thead>\n",
       "    <tr style=\"text-align: right;\">\n",
       "      <th></th>\n",
       "      <th>defendant_id</th>\n",
       "      <th>actual</th>\n",
       "      <th>pvalue</th>\n",
       "    </tr>\n",
       "  </thead>\n",
       "  <tbody>\n",
       "    <tr>\n",
       "      <th>0</th>\n",
       "      <td>22574</td>\n",
       "      <td>innocent</td>\n",
       "      <td>0.294126</td>\n",
       "    </tr>\n",
       "    <tr>\n",
       "      <th>1</th>\n",
       "      <td>35637</td>\n",
       "      <td>innocent</td>\n",
       "      <td>0.417981</td>\n",
       "    </tr>\n",
       "    <tr>\n",
       "      <th>2</th>\n",
       "      <td>39919</td>\n",
       "      <td>innocent</td>\n",
       "      <td>0.177542</td>\n",
       "    </tr>\n",
       "    <tr>\n",
       "      <th>3</th>\n",
       "      <td>29610</td>\n",
       "      <td>guilty</td>\n",
       "      <td>0.015023</td>\n",
       "    </tr>\n",
       "    <tr>\n",
       "      <th>4</th>\n",
       "      <td>38273</td>\n",
       "      <td>innocent</td>\n",
       "      <td>0.075371</td>\n",
       "    </tr>\n",
       "  </tbody>\n",
       "</table>\n",
       "</div>"
      ],
      "text/plain": [
       "   defendant_id    actual    pvalue\n",
       "0         22574  innocent  0.294126\n",
       "1         35637  innocent  0.417981\n",
       "2         39919  innocent  0.177542\n",
       "3         29610    guilty  0.015023\n",
       "4         38273  innocent  0.075371"
      ]
     },
     "execution_count": 87,
     "metadata": {},
     "output_type": "execute_result"
    }
   ],
   "source": [
    "df = pd.read_csv('support-files/12_Hypothesis-Testing/judicial_dataset_pvalues.csv')\n",
    "df.head()"
   ]
  },
  {
   "cell_type": "markdown",
   "id": "f99fccfd",
   "metadata": {},
   "source": [
    "`1.` Remember back to the null and alternative hypotheses for this example. \n",
    "\n",
    "$$ H_{0}: innocent $$\n",
    "$$ H_{1}: guilty $$\n",
    "\n",
    "Q: What does a p-value signify in this example?\n",
    "\n",
    "> A: The probability of us observing the facts about an individual's case that are in favor of them being guilty, assuming they are truly innocent\n",
    "\n",
    "> A p-value is the probability of observing your data or more extreme data, if the null is true.  Type I errors are when you choose the alternative (H1) when the null (H0) is true, and vice-versa for Type II.  Therefore, deciding an individual is guilty when they are actually innocent is a Type I error.  The $\\alpha$ level is a threshold for the percent of the time you are willing to commit a Type I error.\n",
    "\n",
    "`2.` If we consider each individual as a single hypothesis test, find the conservative Bonferroni corrected alpha level we should use to maintain a 5% type I error rate.\n",
    "\n",
    "`3.` What is the proportion of type I errors made if the correction isn't used?  How about if it is used?  "
   ]
  },
  {
   "cell_type": "code",
   "execution_count": 88,
   "id": "aa458750",
   "metadata": {},
   "outputs": [
    {
     "data": {
      "text/plain": [
       "(7283, 3)"
      ]
     },
     "execution_count": 88,
     "metadata": {},
     "output_type": "execute_result"
    }
   ],
   "source": [
    "df.shape"
   ]
  },
  {
   "cell_type": "code",
   "execution_count": 89,
   "id": "4593ec3e",
   "metadata": {},
   "outputs": [
    {
     "name": "stdout",
     "output_type": "stream",
     "text": [
      "0.0000069\n"
     ]
    }
   ],
   "source": [
    "bonf_alpha = 0.05/df.shape[0]\n",
    "print(f'{bonf_alpha:.7f}')"
   ]
  },
  {
   "cell_type": "code",
   "execution_count": 90,
   "id": "0901990e",
   "metadata": {},
   "outputs": [
    {
     "data": {
      "text/plain": [
       "0.001510366607167376"
      ]
     },
     "execution_count": 90,
     "metadata": {},
     "output_type": "execute_result"
    }
   ],
   "source": [
    "# type 1 errors w/o bonferroni correction\n",
    "df.query('actual == \"innocent\" and pvalue < 0.05').count()[0] / df.shape[0]"
   ]
  },
  {
   "cell_type": "code",
   "execution_count": 91,
   "id": "058f8a07",
   "metadata": {},
   "outputs": [
    {
     "data": {
      "text/plain": [
       "0.0"
      ]
     },
     "execution_count": 91,
     "metadata": {},
     "output_type": "execute_result"
    }
   ],
   "source": [
    "# type 1 errors w bonferroni correction\n",
    "df.query('actual == \"innocent\" and pvalue < @bonf_alpha').count()[0] / df.shape[0]"
   ]
  },
  {
   "cell_type": "markdown",
   "id": "09dda32d",
   "metadata": {},
   "source": [
    "`4.` Think about how hypothesis tests can be used, and why this example wouldn't exactly work in terms of being able to use hypothesis testing in this way.\n",
    "\n",
    "> This is looking at individuals, and that is more of the aim for machine learning techniques.  Hypothesis testing and confidence intervals are for population parameters. Therefore, they are not meant to tell us about individual cases, and we wouldn't obtain p-values for individuals in this way. We could get probabilities, but that isn't the same as the probabilities associated with the relationship to sampling distributions as you have seen in these lessons."
   ]
  },
  {
   "cell_type": "markdown",
   "id": "cb86a130",
   "metadata": {},
   "source": [
    "## Recap:\n",
    "\n",
    "You learned:\n",
    "\n",
    "1. How to set up hypothesis tests. You learned the null hypothesis is what we assume to be true before we collect any data, and the alternative is usually what we want to try and prove to be true.\n",
    "2. You learned about Type I and Type II errors. You learned that Type I errors are the worst type of errors, and these are associated with choosing the alternative when the null hypothesis is actually true.\n",
    "3. You learned that p-values are the probability of observing your data or something more extreme in favor of the alternative given the null hypothesis is true. You learned that using a confidence interval from the bootstrapping samples, you can essentially make the same decisions as hypothesis testing (without all the confusion of p-values).\n",
    "4. You learned how to make decisions based on p-values. That is, if the p-value is less than your Type I error threshold, then you have evidence to reject the null and choose the alternative. Otherwise, you fail to reject the null hypothesis.\n",
    "5. You learned that when sample sizes are enormous, everything appears statistically significant (that is, you end up rejecting essentially every null), but these results may not be practically significant.\n",
    "6. You learned that when performing multiple hypothesis tests, your errors will compound. Therefore, using some corrections to maintain your true Type I error rate is important. A simple but very conservative approach is to use what is known as a Bonferroni correction, which says you should divide your $\\alpha$ level (or Type I error threshold) by the number of tests performed."
   ]
  }
 ],
 "metadata": {
  "kernelspec": {
   "display_name": "Python [conda env:dand] *",
   "language": "python",
   "name": "conda-env-dand-py"
  },
  "language_info": {
   "codemirror_mode": {
    "name": "ipython",
    "version": 3
   },
   "file_extension": ".py",
   "mimetype": "text/x-python",
   "name": "python",
   "nbconvert_exporter": "python",
   "pygments_lexer": "ipython3",
   "version": "3.8.12"
  }
 },
 "nbformat": 4,
 "nbformat_minor": 5
}
