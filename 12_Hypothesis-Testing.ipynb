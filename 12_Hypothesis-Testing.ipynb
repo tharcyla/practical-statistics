{
 "cells": [
  {
   "cell_type": "markdown",
   "id": "b49d2dd6",
   "metadata": {},
   "source": [
    "## Hypothesis Testing\n",
    "\n",
    "To answer questions, we need to break down a question into a hypothesis. Then we collect data to justify which hypothesis is likely to be true.\n",
    "\n",
    "An example of this would be whether chocolate or vanilla is a more favored ice cream flavor.\n",
    "\n",
    "Hypothesis testing and confidence intervals allow for the use of **sample data** to draw conclusions about **an entire population**.\n",
    "\n",
    "### Setting Up Hypothesis Tests\n",
    "- H0 is true before we collect data\n",
    "- H0 usually states there is no effect or that two groups are equal\n",
    "- The H0 and H1 are competing, non-overlapping hypotheses \n",
    "- H1 is what we would like to prove to be true \n",
    "- H0 holds some sort of equals sign: `=`, `<=`, `>=`\n",
    "- H1 holds the opposite sign: `!=`, `<`, `>`\n",
    "\n",
    "#### Example:\n",
    "\"Innocent until proven guilty\" suggests the following hypotheses are true:\n",
    "\n",
    "- H0: Innocent\n",
    "- H1: Guilty\n",
    "\n",
    "### Types of Errors\n",
    "In the judicial example, we have four possibilities considering the truth of the matter (whether someone is guilty or not) and the jury's decision (whether they considered someone guilty or not):\n",
    "\n",
    "1. Truth: Guilty, Decision: Guilty *(No Error)*\n",
    "2. Truth: Innocent, Decision: Guilty *(Type I Error)*\n",
    "3. Truth: Guilty, Decision: Innocent *(Type II Error)*\n",
    "4. Truth: Innocent, Decision: Innocent  *(No Error)*\n",
    "\n",
    "A Type I Error is when the alternative is chosen, but the null is actually true. Also known as a False Positive, they are  denoted by the symbol α or alpha. They are considered the worst of the two possible errors. \n",
    "\n",
    "A Type II Error is when the null hypothesis is chosen, but the alternative hypothesis is actually true. Also known as a False Negative, they are denoted by the symbol β or beta.\n",
    "\n",
    "#### Parachute Example\n",
    "This example lets you see one of the most extreme cases of errors that might be committed in hypothesis testing. In a type I error, an individual died. In a type II error, you lost 30 dollars.\n",
    "\n",
    "Usually in hypothesis testing, you choose a type I error threshold, and your hypothesis tests will be created to minimize the type II errors after ensuring the type I error rate is met.\n",
    "\n",
    "### Common Types of Hypothesis Tests\n",
    "Hypothesis tests are always performed on **population parameters**, never on statistics. Statistics are values we already have from the data, so it does not make sense to perform hypothesis tests on these values.\n",
    "\n",
    "Common hypothesis tests include:\n",
    "\n",
    "- Testing a population mean [(One sample t-test)](http://sites.utexas.edu/sos/guided/inferential/numeric/claim/one-sample-t/)\n",
    "- Testing the difference in means [(Two-sample t-test)](https://www.isixsigma.com/tools-templates/hypothesis-testing/making-sense-two-sample-t-test/)\n",
    "- Testing the difference before and after some treatment on the same individual [(Paired t-test)](http://www.statstutor.ac.uk/resources/uploaded/paired-t-test.pdf)\n",
    "- Testing a population proportion [(One sample z-test)](https://stats.libretexts.org/Bookshelves/Applied_Statistics/Book%3A_Learning_Statistics_with_R_-_A_tutorial_for_Psychology_Students_and_other_Beginners_(Navarro)/13%3A_Comparing_Two_Means/13.01%3A_The_one-sample_z-test)\n",
    "- Testing the difference between population proportions [(Two sample z-test)](https://cran.r-project.org/web/packages/distributions3/vignettes/two-sample-z-test.html)\n",
    "\n",
    "You can use one of these sites to provide a t-table or z-table to support one of the above approaches:\n",
    "\n",
    "- [t-table](https://s3.amazonaws.com/udacity-hosted-downloads/t-table.jpg)\n",
    "- [t-table or z-table](http://www.z-table.com/t-value-table.html)\n",
    "\n",
    "There are literally hundreds of different hypothesis tests! However, instead of memorizing how to perform all of these tests, you can find the statistic(s) that best estimates the parameter(s) you want to estimate. You can bootstrap to simulate the sampling distribution. Then you can use your sampling distribution to assist in choosing the appropriate hypothesis.\n",
    "\n",
    "### Methods for Choosing Between Hypotheses\n",
    "1. Bootstrapping: we simulate the sampling distribution of our statistic and then we can see if our hypothesis is consistent with what we observe in the sampling distribution \n",
    "2. Simulating from the Null: Simulating what we believe to be possible under the null and then seeing if our data is actually consistent with that. In other others, we could simulate a sampling distribution from the null hypothesis using characteristics that would be true if our data came from the null. This is what professionals tend to do in a hypothesis test. \n",
    "\n",
    "#### Quiz: Hypothesis Testing Using Bootstraping\n",
    "<center>$ H_{0}: \\mu \\leqslant 70 $</center>\n",
    "\n",
    "<center>$ H_{1}: \\mu > 70 $</center>\n",
    "\n",
    "Consider $\\mu$ as the average height of all individuals in the dataset. Both coffee drinks and non-coffee drinkers"
   ]
  },
  {
   "cell_type": "code",
   "execution_count": 1,
   "id": "31cd5886",
   "metadata": {},
   "outputs": [
    {
     "data": {
      "text/html": [
       "<div>\n",
       "<style scoped>\n",
       "    .dataframe tbody tr th:only-of-type {\n",
       "        vertical-align: middle;\n",
       "    }\n",
       "\n",
       "    .dataframe tbody tr th {\n",
       "        vertical-align: top;\n",
       "    }\n",
       "\n",
       "    .dataframe thead th {\n",
       "        text-align: right;\n",
       "    }\n",
       "</style>\n",
       "<table border=\"1\" class=\"dataframe\">\n",
       "  <thead>\n",
       "    <tr style=\"text-align: right;\">\n",
       "      <th></th>\n",
       "      <th>user_id</th>\n",
       "      <th>age</th>\n",
       "      <th>drinks_coffee</th>\n",
       "      <th>height</th>\n",
       "    </tr>\n",
       "  </thead>\n",
       "  <tbody>\n",
       "    <tr>\n",
       "      <th>0</th>\n",
       "      <td>4509</td>\n",
       "      <td>&lt;21</td>\n",
       "      <td>False</td>\n",
       "      <td>64.538179</td>\n",
       "    </tr>\n",
       "  </tbody>\n",
       "</table>\n",
       "</div>"
      ],
      "text/plain": [
       "   user_id  age  drinks_coffee     height\n",
       "0     4509  <21          False  64.538179"
      ]
     },
     "execution_count": 1,
     "metadata": {},
     "output_type": "execute_result"
    }
   ],
   "source": [
    "import pandas as pd\n",
    "import numpy as np\n",
    "import matplotlib.pyplot as plt\n",
    "%matplotlib inline\n",
    "\n",
    "np.random.seed(42)\n",
    "\n",
    "df = pd.read_csv('support-files/12_Hypothesis-Testing/coffee_dataset.csv')\n",
    "df.head(1)"
   ]
  },
  {
   "cell_type": "code",
   "execution_count": 2,
   "id": "b863a3bb",
   "metadata": {},
   "outputs": [],
   "source": [
    "# create a sample from data\n",
    "sample_df = df.sample(150)"
   ]
  },
  {
   "cell_type": "code",
   "execution_count": 3,
   "id": "6ad93d55",
   "metadata": {},
   "outputs": [],
   "source": [
    "# create bootstrap sample\n",
    "bootsample = sample_df.sample(150, replace=True)"
   ]
  },
  {
   "cell_type": "code",
   "execution_count": 4,
   "id": "713fb073",
   "metadata": {},
   "outputs": [],
   "source": [
    "means = []\n",
    "\n",
    "for _ in range(int(1e4)):\n",
    "    bootsample = sample_df.sample(150, replace=True)\n",
    "    means.append(bootsample['height'].mean())"
   ]
  },
  {
   "cell_type": "code",
   "execution_count": 5,
   "id": "9a811026",
   "metadata": {},
   "outputs": [
    {
     "data": {
      "text/plain": [
       "(67.10258508046547, 68.15617490636113)"
      ]
     },
     "execution_count": 5,
     "metadata": {},
     "output_type": "execute_result"
    }
   ],
   "source": [
    "low, high = np.percentile(means, 2.5), np.percentile(means, 97.5)\n",
    "low, high"
   ]
  },
  {
   "cell_type": "code",
   "execution_count": 6,
   "id": "24d2cbf3",
   "metadata": {},
   "outputs": [
    {
     "data": {
      "image/png": "[encoded data removed]",
      "text/plain": [
       "<Figure size 432x288 with 1 Axes>"
      ]
     },
     "metadata": {
      "needs_background": "light"
     },
     "output_type": "display_data"
    }
   ],
   "source": [
    "plt.hist(means)\n",
    "plt.axvline(x=low, color='r', linewidth=1)\n",
    "plt.axvline(x=high, color='r', linewidth=1);"
   ]
  },
  {
   "cell_type": "markdown",
   "id": "1ff30269",
   "metadata": {},
   "source": [
    "Since the interval was entirely below 70, it suggests the null hypothesis ($H_{0}$) is actually true. "
   ]
  },
  {
   "cell_type": "markdown",
   "id": "735060c1",
   "metadata": {},
   "source": [
    "#### Quiz: Simulating from the Null \n",
    "<center>$ H_{0}: \\mu \\leqslant 70 $</center>\n",
    "\n",
    "<center>$ H_{1}: \\mu > 70 $</center>\n",
    "\n",
    "Consider $\\mu$ as the average height of all individuals in the dataset. Both coffee drinks and non-coffee drinkers"
   ]
  },
  {
   "cell_type": "code",
   "execution_count": 7,
   "id": "fd1234cc",
   "metadata": {},
   "outputs": [],
   "source": [
    "# create a sample from our data\n",
    "sample_df = df.sample(150)"
   ]
  },
  {
   "cell_type": "code",
   "execution_count": 8,
   "id": "3a451e2d",
   "metadata": {},
   "outputs": [],
   "source": [
    "# create a bootstrap sample\n",
    "bootsample = sample_df.sample(150, replace=True)"
   ]
  },
  {
   "cell_type": "code",
   "execution_count": 9,
   "id": "681e5698",
   "metadata": {},
   "outputs": [],
   "source": [
    "# bootstrap from the sample\n",
    "means = []\n",
    "\n",
    "for _ in range(int(1e4)):\n",
    "    bootsample = sample_df.sample(150, replace=True)\n",
    "    means.append(bootsample['height'].mean())"
   ]
  },
  {
   "cell_type": "code",
   "execution_count": 10,
   "id": "f9c2f1be",
   "metadata": {},
   "outputs": [
    {
     "data": {
      "text/plain": [
       "0.2708022664298498"
      ]
     },
     "execution_count": 10,
     "metadata": {},
     "output_type": "execute_result"
    }
   ],
   "source": [
    "# get the standard deviation\n",
    "np.std(means)"
   ]
  },
  {
   "cell_type": "code",
   "execution_count": 11,
   "id": "3c1a3268",
   "metadata": {},
   "outputs": [],
   "source": [
    "null_vals = np.random.normal(70, np.std(means), int(1e4))"
   ]
  },
  {
   "cell_type": "code",
   "execution_count": 12,
   "id": "d84f8895",
   "metadata": {},
   "outputs": [
    {
     "data": {
      "image/png": "[encoded data removed]",
      "text/plain": [
       "<Figure size 432x288 with 1 Axes>"
      ]
     },
     "metadata": {
      "needs_background": "light"
     },
     "output_type": "display_data"
    }
   ],
   "source": [
    "plt.hist(null_vals)\n",
    "plt.axvline(sample_df['height'].mean(), color='r', linewidth=1);"
   ]
  },
  {
   "cell_type": "code",
   "execution_count": 13,
   "id": "d59c7a3b",
   "metadata": {},
   "outputs": [
    {
     "data": {
      "text/plain": [
       "67.56991579081225"
      ]
     },
     "execution_count": 13,
     "metadata": {},
     "output_type": "execute_result"
    }
   ],
   "source": [
    "# checking the sample_df height mean\n",
    "sample_df['height'].mean()"
   ]
  },
  {
   "cell_type": "markdown",
   "id": "fc4a2420",
   "metadata": {},
   "source": [
    "Since our null is that the population mean is less than or equal to 70, we do have evidence to support this claim with our sample mean of 67.57. This suggests **not rejecting $H_{0}$**, our one-sided null hypothesis. If we had a null where we asked if the population mean was equal to 70, then we would reject this null in favor of an alternative that suggested the population mean was actually different from 70. "
   ]
  },
  {
   "cell_type": "markdown",
   "id": "c72b5d78",
   "metadata": {},
   "source": [
    "#### Quiz: Simulating from the Null"
   ]
  },
  {
   "cell_type": "code",
   "execution_count": 14,
   "id": "76e7a0dc",
   "metadata": {},
   "outputs": [],
   "source": [
    "sample_data = df.sample(200)"
   ]
  },
  {
   "cell_type": "markdown",
   "id": "af8edc63",
   "metadata": {},
   "source": [
    "`1.` If you were interested in studying whether the average height for coffee drinkers is the same as for non-coffee drinkers, what would the null and alternative hypotheses be?"
   ]
  },
  {
   "cell_type": "markdown",
   "id": "5a063355",
   "metadata": {},
   "source": [
    "$H_{0}: \\mu_{1} = \\mu_{2} $\n",
    "\n",
    "$H_{1}: \\mu_{1} \\neq \\mu_{2} $\n",
    "\n",
    "$\\mu_{1}$: average height for all coffee drinkers\n",
    "\n",
    "$\\mu_{2}$: average height for all non-coffee drinkers"
   ]
  },
  {
   "cell_type": "markdown",
   "id": "69f666ad",
   "metadata": {},
   "source": [
    "`2.` If you were interested in studying whether the average height for coffee drinkers is less than non-coffee drinkers, what would the null and alternative hypotheses be?  Write them in the cell below, and use your answer to answer the second quiz question below."
   ]
  },
  {
   "cell_type": "markdown",
   "id": "e91536d1",
   "metadata": {},
   "source": [
    "$H_{0}: \\mu_{1} \\geqslant \\mu_{2} $\n",
    "\n",
    "$H_{1}: \\mu_{1} < \\mu_{2} $\n",
    "\n",
    "$\\mu_{1}$: average height for all coffee drinkers\n",
    "\n",
    "$\\mu_{2}$: average height for all non-coffee drinkers"
   ]
  },
  {
   "cell_type": "markdown",
   "id": "94fce9a0",
   "metadata": {},
   "source": [
    "`3.` For 10,000 iterations: bootstrap the sample data, calculate the mean height for coffee drinkers and non-coffee drinkers, and calculate the difference in means for each sample.  You will want to have three arrays at the end of the iterations - one for each mean and one for the difference in means.  Use the results of your sampling distribution, to answer the third quiz question below."
   ]
  },
  {
   "cell_type": "code",
   "execution_count": 15,
   "id": "3b1c3c8b",
   "metadata": {},
   "outputs": [],
   "source": [
    "diff_means, means_coff, means_nocoff = [], [], []\n",
    "\n",
    "for _ in range(int(1e4)):\n",
    "    bootsample = sample_data.sample(200, replace=True)\n",
    "    coff_avg = bootsample.query('drinks_coffee == True')['height'].mean()\n",
    "    nocoff_avg = bootsample.query('drinks_coffee == False')['height'].mean()\n",
    "    # append the info\n",
    "    means_coff.append(coff_avg)\n",
    "    means_nocoff.append(nocoff_avg)\n",
    "    diff_means.append(coff_avg - nocoff_avg)"
   ]
  },
  {
   "cell_type": "code",
   "execution_count": 16,
   "id": "ec4f1021",
   "metadata": {},
   "outputs": [
    {
     "data": {
      "text/plain": [
       "0.46441474433403507"
      ]
     },
     "execution_count": 16,
     "metadata": {},
     "output_type": "execute_result"
    }
   ],
   "source": [
    "# standard deviation for the difference in means\n",
    "diff_means = np.array(diff_means)\n",
    "np.std(diff_means)"
   ]
  },
  {
   "cell_type": "code",
   "execution_count": 17,
   "id": "2534f981",
   "metadata": {},
   "outputs": [
    {
     "data": {
      "image/png": "[encoded data removed]",
      "text/plain": [
       "<Figure size 432x288 with 1 Axes>"
      ]
     },
     "metadata": {
      "needs_background": "light"
     },
     "output_type": "display_data"
    }
   ],
   "source": [
    "# checking the shape of the distribution \n",
    "plt.hist(diff_means, alpha = 0.5); # looks normal!"
   ]
  },
  {
   "cell_type": "code",
   "execution_count": 18,
   "id": "1c02b375",
   "metadata": {},
   "outputs": [
    {
     "data": {
      "text/plain": [
       "0.25429303380155116"
      ]
     },
     "execution_count": 18,
     "metadata": {},
     "output_type": "execute_result"
    }
   ],
   "source": [
    "# standard deviation for the coffee drinkers' height means\n",
    "means_coff = np.array(means_coff)\n",
    "np.std(means_coff)"
   ]
  },
  {
   "cell_type": "code",
   "execution_count": 19,
   "id": "e98c68fa",
   "metadata": {},
   "outputs": [
    {
     "data": {
      "image/png": "[encoded data removed]",
      "text/plain": [
       "<Figure size 432x288 with 1 Axes>"
      ]
     },
     "metadata": {
      "needs_background": "light"
     },
     "output_type": "display_data"
    }
   ],
   "source": [
    "# checking the shape of the distribution \n",
    "plt.hist(means_coff);"
   ]
  },
  {
   "cell_type": "code",
   "execution_count": 20,
   "id": "63f09cde",
   "metadata": {},
   "outputs": [
    {
     "data": {
      "text/plain": [
       "0.38660853775728854"
      ]
     },
     "execution_count": 20,
     "metadata": {},
     "output_type": "execute_result"
    }
   ],
   "source": [
    "# standard deviation for the non-coffee drinkers' height means\n",
    "means_nocoff = np.array(means_nocoff)\n",
    "np.std(means_nocoff)"
   ]
  },
  {
   "cell_type": "code",
   "execution_count": 21,
   "id": "8909bc21",
   "metadata": {},
   "outputs": [
    {
     "data": {
      "image/png": "[encoded data removed]",
      "text/plain": [
       "<Figure size 432x288 with 1 Axes>"
      ]
     },
     "metadata": {
      "needs_background": "light"
     },
     "output_type": "display_data"
    }
   ],
   "source": [
    "# checking the shape of the distribution \n",
    "plt.hist(means_nocoff);"
   ]
  },
  {
   "cell_type": "code",
   "execution_count": 22,
   "id": "5afdcf2c",
   "metadata": {},
   "outputs": [
    {
     "data": {
      "image/png": "[encoded data removed]",
      "text/plain": [
       "<Figure size 432x288 with 1 Axes>"
      ]
     },
     "metadata": {
      "needs_background": "light"
     },
     "output_type": "display_data"
    }
   ],
   "source": [
    "# alternatively, we could plot both on the same chart\n",
    "plt.hist(means_coff, alpha = 0.5)\n",
    "plt.hist(means_nocoff, alpha = 0.5); # they both look normal!"
   ]
  },
  {
   "cell_type": "markdown",
   "id": "f38bfa8b",
   "metadata": {},
   "source": [
    "Notice the standard deviation with the difference in means is larger than either of the individual. It turns out that this value for the standard deviation of the difference is actually the square root of the sum of the variance of each of the individual sampling distributions. And the mean has a standard deviation of the original draws divided by the square root of the sample size taken. More on this [here](http://www.statsmodels.org/stable/glm.html) and [here](http://onlinestatbook.com/2/sampling_distributions/samp_dist_mean.html)."
   ]
  },
  {
   "cell_type": "markdown",
   "id": "255d6b79",
   "metadata": {},
   "source": [
    "`4.` Now, use your observed sampling distribution for the difference in means and [the docs](https://docs.scipy.org/doc/numpy-1.13.0/reference/generated/numpy.random.normal.html) to simulate what you would expect the sampling distribution to be if the null hypothesis is true. You can do this be recentering your distribution at zero. Also, calculate the observed sample mean difference in `sample_data`. Use your solutions to answer the last questions in the quiz below.\n",
    "\n",
    "$H_{0}: \\mu_{1} - \\mu_{2} = 0$\n",
    "\n",
    "$H_{1}: \\mu_{1} - \\mu_{2} \\neq 0$\n",
    "\n",
    "> We would expect the sampling distribution to be normal by the Central Limit Theorem, and we know the standard deviation of the sampling distribution of the difference in means from the previous question, so we can use this to simulate draws from the sampling distribution under the null hypothesis.  If there is truly no difference, then the difference between the means should be zero."
   ]
  },
  {
   "cell_type": "code",
   "execution_count": 23,
   "id": "da55744c",
   "metadata": {},
   "outputs": [],
   "source": [
    "null_vals = np.random.normal(0, np.std(diff_means), int(1e4))"
   ]
  },
  {
   "cell_type": "code",
   "execution_count": 24,
   "id": "5ad8a6bb",
   "metadata": {},
   "outputs": [
    {
     "data": {
      "image/png": "[encoded data removed]",
      "text/plain": [
       "<Figure size 432x288 with 1 Axes>"
      ]
     },
     "metadata": {
      "needs_background": "light"
     },
     "output_type": "display_data"
    }
   ],
   "source": [
    "plt.hist(null_vals);"
   ]
  }
 ],
 "metadata": {
  "kernelspec": {
   "display_name": "Python [conda env:dand] *",
   "language": "python",
   "name": "conda-env-dand-py"
  },
  "language_info": {
   "codemirror_mode": {
    "name": "ipython",
    "version": 3
   },
   "file_extension": ".py",
   "mimetype": "text/x-python",
   "name": "python",
   "nbconvert_exporter": "python",
   "pygments_lexer": "ipython3",
   "version": "3.8.12"
  }
 },
 "nbformat": 4,
 "nbformat_minor": 5
}
